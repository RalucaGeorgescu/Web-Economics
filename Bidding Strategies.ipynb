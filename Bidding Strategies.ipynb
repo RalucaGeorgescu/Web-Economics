{
 "cells": [
  {
   "cell_type": "code",
   "execution_count": 1,
   "metadata": {
    "collapsed": true
   },
   "outputs": [],
   "source": [
    "%matplotlib inline"
   ]
  },
  {
   "cell_type": "code",
   "execution_count": 137,
   "metadata": {
    "collapsed": true
   },
   "outputs": [],
   "source": [
    "import pandas as pd\n",
    "import seaborn as sns\n",
    "import matplotlib.pyplot as plt\n",
    "import numpy as np\n",
    "import time"
   ]
  },
  {
   "cell_type": "code",
   "execution_count": 3,
   "metadata": {
    "collapsed": true
   },
   "outputs": [],
   "source": [
    "#Load and import the data"
   ]
  },
  {
   "cell_type": "code",
   "execution_count": 4,
   "metadata": {
    "collapsed": true
   },
   "outputs": [],
   "source": [
    "df = pd.read_csv(\"C:/Users/Weng/Desktop/Web economics/Dataset/train.csv\")"
   ]
  },
  {
   "cell_type": "code",
   "execution_count": 33,
   "metadata": {
    "collapsed": false
   },
   "outputs": [
    {
     "data": {
      "text/plain": [
       "0    9990\n",
       "1      10\n",
       "Name: click, dtype: int64"
      ]
     },
     "execution_count": 33,
     "metadata": {},
     "output_type": "execute_result"
    }
   ],
   "source": [
    "sample = df.sample(n=10000)\n",
    "sample.click.value_counts()"
   ]
  },
  {
   "cell_type": "code",
   "execution_count": 31,
   "metadata": {
    "collapsed": false
   },
   "outputs": [
    {
     "data": {
      "text/html": [
       "<div>\n",
       "<table border=\"1\" class=\"dataframe\">\n",
       "  <thead>\n",
       "    <tr style=\"text-align: right;\">\n",
       "      <th></th>\n",
       "      <th>click</th>\n",
       "      <th>weekday</th>\n",
       "      <th>hour</th>\n",
       "      <th>bidid</th>\n",
       "      <th>logtype</th>\n",
       "      <th>userid</th>\n",
       "      <th>useragent</th>\n",
       "      <th>IP</th>\n",
       "      <th>region</th>\n",
       "      <th>city</th>\n",
       "      <th>...</th>\n",
       "      <th>slotheight</th>\n",
       "      <th>slotvisibility</th>\n",
       "      <th>slotformat</th>\n",
       "      <th>slotprice</th>\n",
       "      <th>creative</th>\n",
       "      <th>bidprice</th>\n",
       "      <th>payprice</th>\n",
       "      <th>keypage</th>\n",
       "      <th>advertiser</th>\n",
       "      <th>usertag</th>\n",
       "    </tr>\n",
       "  </thead>\n",
       "  <tbody>\n",
       "    <tr>\n",
       "      <th>2408005</th>\n",
       "      <td>0</td>\n",
       "      <td>6</td>\n",
       "      <td>19</td>\n",
       "      <td>a9e67baceb8f4a4c6008e90ea364f2af</td>\n",
       "      <td>1</td>\n",
       "      <td>u_VhdP1wN0Oy29MWb</td>\n",
       "      <td>windows_ie</td>\n",
       "      <td>114.97.63.*</td>\n",
       "      <td>106</td>\n",
       "      <td>107</td>\n",
       "      <td>...</td>\n",
       "      <td>90</td>\n",
       "      <td>0</td>\n",
       "      <td>0</td>\n",
       "      <td>31</td>\n",
       "      <td>0cd33fcb336655841d3e1441b915748d</td>\n",
       "      <td>254</td>\n",
       "      <td>31</td>\n",
       "      <td>c8758e8658b05bc3a88af7b37bdf0575</td>\n",
       "      <td>3476</td>\n",
       "      <td>10075,10006,10059,10063,10024,10083,13403,1005...</td>\n",
       "    </tr>\n",
       "    <tr>\n",
       "      <th>1957578</th>\n",
       "      <td>0</td>\n",
       "      <td>0</td>\n",
       "      <td>22</td>\n",
       "      <td>ae8e94016fc6ca5294a5715c22d1c1e9</td>\n",
       "      <td>1</td>\n",
       "      <td>u_DA8EGN3vuuc</td>\n",
       "      <td>windows_ie</td>\n",
       "      <td>58.186.189.*</td>\n",
       "      <td>0</td>\n",
       "      <td>0</td>\n",
       "      <td>...</td>\n",
       "      <td>90</td>\n",
       "      <td>FirstView</td>\n",
       "      <td>Na</td>\n",
       "      <td>30</td>\n",
       "      <td>10717</td>\n",
       "      <td>294</td>\n",
       "      <td>31</td>\n",
       "      <td>null</td>\n",
       "      <td>2821</td>\n",
       "      <td>10063</td>\n",
       "    </tr>\n",
       "    <tr>\n",
       "      <th>1741309</th>\n",
       "      <td>0</td>\n",
       "      <td>5</td>\n",
       "      <td>18</td>\n",
       "      <td>deb0cdc0ee2a41069000ff480874631c</td>\n",
       "      <td>1</td>\n",
       "      <td>u_DAJI339OsXp</td>\n",
       "      <td>windows_chrome</td>\n",
       "      <td>113.77.46.*</td>\n",
       "      <td>216</td>\n",
       "      <td>233</td>\n",
       "      <td>...</td>\n",
       "      <td>250</td>\n",
       "      <td>ThirdView</td>\n",
       "      <td>Na</td>\n",
       "      <td>0</td>\n",
       "      <td>7321</td>\n",
       "      <td>294</td>\n",
       "      <td>84</td>\n",
       "      <td>null</td>\n",
       "      <td>2259</td>\n",
       "      <td>null</td>\n",
       "    </tr>\n",
       "    <tr>\n",
       "      <th>96530</th>\n",
       "      <td>0</td>\n",
       "      <td>4</td>\n",
       "      <td>15</td>\n",
       "      <td>e4ea34780e03de73f9362f4e64a94360</td>\n",
       "      <td>1</td>\n",
       "      <td>u_Vh2xPeMqOcqZBOB</td>\n",
       "      <td>windows_chrome</td>\n",
       "      <td>121.233.247.*</td>\n",
       "      <td>80</td>\n",
       "      <td>90</td>\n",
       "      <td>...</td>\n",
       "      <td>90</td>\n",
       "      <td>0</td>\n",
       "      <td>0</td>\n",
       "      <td>148</td>\n",
       "      <td>b90c12ed2bd7950c6027bf9c6937c48a</td>\n",
       "      <td>300</td>\n",
       "      <td>148</td>\n",
       "      <td>361e128affece850342293213691a043</td>\n",
       "      <td>3386</td>\n",
       "      <td>10063,10111</td>\n",
       "    </tr>\n",
       "    <tr>\n",
       "      <th>777436</th>\n",
       "      <td>0</td>\n",
       "      <td>4</td>\n",
       "      <td>10</td>\n",
       "      <td>15b9ab53dd9c7f9d18b78b43c15f4d2b</td>\n",
       "      <td>1</td>\n",
       "      <td>u_Vh5_OkqlPTbskQC</td>\n",
       "      <td>windows_chrome</td>\n",
       "      <td>58.242.87.*</td>\n",
       "      <td>106</td>\n",
       "      <td>112</td>\n",
       "      <td>...</td>\n",
       "      <td>90</td>\n",
       "      <td>0</td>\n",
       "      <td>0</td>\n",
       "      <td>70</td>\n",
       "      <td>a10c31a8ff5f42930b4c34035e523886</td>\n",
       "      <td>241</td>\n",
       "      <td>88</td>\n",
       "      <td>d29e59bf0f7f8243858b8183f14d4412</td>\n",
       "      <td>3358</td>\n",
       "      <td>10083,10110</td>\n",
       "    </tr>\n",
       "  </tbody>\n",
       "</table>\n",
       "<p>5 rows × 26 columns</p>\n",
       "</div>"
      ],
      "text/plain": [
       "         click  weekday  hour                             bidid  logtype  \\\n",
       "2408005      0        6    19  a9e67baceb8f4a4c6008e90ea364f2af        1   \n",
       "1957578      0        0    22  ae8e94016fc6ca5294a5715c22d1c1e9        1   \n",
       "1741309      0        5    18  deb0cdc0ee2a41069000ff480874631c        1   \n",
       "96530        0        4    15  e4ea34780e03de73f9362f4e64a94360        1   \n",
       "777436       0        4    10  15b9ab53dd9c7f9d18b78b43c15f4d2b        1   \n",
       "\n",
       "                    userid       useragent             IP  region  city  \\\n",
       "2408005  u_VhdP1wN0Oy29MWb      windows_ie    114.97.63.*     106   107   \n",
       "1957578      u_DA8EGN3vuuc      windows_ie   58.186.189.*       0     0   \n",
       "1741309      u_DAJI339OsXp  windows_chrome    113.77.46.*     216   233   \n",
       "96530    u_Vh2xPeMqOcqZBOB  windows_chrome  121.233.247.*      80    90   \n",
       "777436   u_Vh5_OkqlPTbskQC  windows_chrome    58.242.87.*     106   112   \n",
       "\n",
       "                               ...                         slotheight  \\\n",
       "2408005                        ...                                 90   \n",
       "1957578                        ...                                 90   \n",
       "1741309                        ...                                250   \n",
       "96530                          ...                                 90   \n",
       "777436                         ...                                 90   \n",
       "\n",
       "        slotvisibility slotformat slotprice                          creative  \\\n",
       "2408005              0          0        31  0cd33fcb336655841d3e1441b915748d   \n",
       "1957578      FirstView         Na        30                             10717   \n",
       "1741309      ThirdView         Na         0                              7321   \n",
       "96530                0          0       148  b90c12ed2bd7950c6027bf9c6937c48a   \n",
       "777436               0          0        70  a10c31a8ff5f42930b4c34035e523886   \n",
       "\n",
       "         bidprice  payprice                           keypage advertiser  \\\n",
       "2408005       254        31  c8758e8658b05bc3a88af7b37bdf0575       3476   \n",
       "1957578       294        31                              null       2821   \n",
       "1741309       294        84                              null       2259   \n",
       "96530         300       148  361e128affece850342293213691a043       3386   \n",
       "777436        241        88  d29e59bf0f7f8243858b8183f14d4412       3358   \n",
       "\n",
       "                                                   usertag  \n",
       "2408005  10075,10006,10059,10063,10024,10083,13403,1005...  \n",
       "1957578                                              10063  \n",
       "1741309                                               null  \n",
       "96530                                          10063,10111  \n",
       "777436                                         10083,10110  \n",
       "\n",
       "[5 rows x 26 columns]"
      ]
     },
     "execution_count": 31,
     "metadata": {},
     "output_type": "execute_result"
    }
   ],
   "source": [
    "sample.head()"
   ]
  },
  {
   "cell_type": "code",
   "execution_count": 29,
   "metadata": {
    "collapsed": true
   },
   "outputs": [],
   "source": [
    "#Constant bidding strategy - Just using the mean value as the bidding"
   ]
  },
  {
   "cell_type": "code",
   "execution_count": 183,
   "metadata": {
    "collapsed": false
   },
   "outputs": [],
   "source": [
    "#Constant bid price at 274 - the mean value \n",
    "def constant_bid(dataframe, bid_price, flag=0):  #Change this value for the constant\n",
    "    if flag == 1:\n",
    "        for i in range(len(dataframe)):\n",
    "            bid_id = dataframe.iloc[i].bidid; \n",
    "            print('Bid_id: '+ bid_id + ' ,' ,'Bid_price: '+ str(bid_price))  #controlled\n",
    "            \n",
    "    clicks = dataframe[dataframe.payprice <= bid_price].click.value_counts().sort_index().tolist() #Changed to payprice\n",
    "    total_cost = sum(dataframe[dataframe.payprice <= bid_price].payprice)\n",
    "    wins= sum(dataframe[dataframe.payprice <= bid_price].click.value_counts())\n",
    "    win_ratio = round((wins/dataframe.shape[0])*100,2)\n",
    "    #print ('Summary | '+ 'Constant Bid price: '+ str(bid_price))\n",
    "    #print ('-----------------------------------')\n",
    "    #print ('Number of impressions: '+ str(dataframe.shape[0]))\n",
    "    #print ('Win counts: '+ str(wins))\n",
    "    #print ('Win percentage: '+ str(win_ratio)+'%')\n",
    "    if len(clicks) < 2:\n",
    "        CTR = 0.00 \n",
    "        clicks = '0'\n",
    "        #print ('Clicks: '+ clicks)\n",
    "    else:\n",
    "        CTR = round((clicks[1]/clicks[0])*100,5)\n",
    "        #print ('Clicks: '+ str(clicks[1]))\n",
    "    #print ('CTR: '+ str(CTR)+ '%')\n",
    "    #print ('Total cost: '+ str(total_cost)+ ' RMB')\n",
    "    return [bid_price, wins, CTR , total_cost]"
   ]
  },
  {
   "cell_type": "markdown",
   "metadata": {},
   "source": [
    "def plof_df(Dataframe, bid_price)\n",
    "    clicks = dataframe[dataframe.payprice <= bid_price].click.value_counts().sort_index().tolist() #Changed to payprice\n",
    "    wins= sum(dataframe[dataframe.payprice <= bid_price].click.value_counts())\n",
    "    if len(clicks) < 2:\n",
    "        CTR = 0.00 \n",
    "    else:\n",
    "        CTR = round((clicks[1]/clicks[0])*100,5)\n",
    "        print ('Clicks: '+ str(clicks[1]))\n",
    "    \n",
    "    "
   ]
  },
  {
   "cell_type": "code",
   "execution_count": 8,
   "metadata": {
    "collapsed": false
   },
   "outputs": [],
   "source": [
    "#lower boundary = 249 min bid price / upper boundary = any i.e 300-1 = 299\n",
    "def random_bid(dataframe):\n",
    "    for i in range(len(dataframe)):\n",
    "        bid_id = dataframe.iloc[i].bidid;\n",
    "        bid_price = np.random.randint(low=249,high=302);  \n",
    "        print('Bid_id: '+ bid_id + ' ,' ,'Bid_price: '+ str(bid_price)) "
   ]
  },
  {
   "cell_type": "code",
   "execution_count": 9,
   "metadata": {
    "collapsed": false
   },
   "outputs": [
    {
     "data": {
      "text/plain": [
       "2983"
      ]
     },
     "execution_count": 9,
     "metadata": {},
     "output_type": "execute_result"
    }
   ],
   "source": [
    "sum(sample[sample.payprice <= 274].click.value_counts())"
   ]
  },
  {
   "cell_type": "code",
   "execution_count": 12,
   "metadata": {
    "collapsed": false
   },
   "outputs": [
    {
     "data": {
      "text/html": [
       "<div>\n",
       "<table border=\"1\" class=\"dataframe\">\n",
       "  <thead>\n",
       "    <tr style=\"text-align: right;\">\n",
       "      <th></th>\n",
       "      <th>click</th>\n",
       "      <th>weekday</th>\n",
       "      <th>hour</th>\n",
       "      <th>bidid</th>\n",
       "      <th>logtype</th>\n",
       "      <th>userid</th>\n",
       "      <th>useragent</th>\n",
       "      <th>IP</th>\n",
       "      <th>region</th>\n",
       "      <th>city</th>\n",
       "      <th>...</th>\n",
       "      <th>slotheight</th>\n",
       "      <th>slotvisibility</th>\n",
       "      <th>slotformat</th>\n",
       "      <th>slotprice</th>\n",
       "      <th>creative</th>\n",
       "      <th>bidprice</th>\n",
       "      <th>payprice</th>\n",
       "      <th>keypage</th>\n",
       "      <th>advertiser</th>\n",
       "      <th>usertag</th>\n",
       "    </tr>\n",
       "  </thead>\n",
       "  <tbody>\n",
       "    <tr>\n",
       "      <th>918148</th>\n",
       "      <td>0</td>\n",
       "      <td>1</td>\n",
       "      <td>18</td>\n",
       "      <td>0e7c40ecdf72a92faa70403005f64b61</td>\n",
       "      <td>1</td>\n",
       "      <td>u_Vh1pPimCOodUqWz</td>\n",
       "      <td>windows_ie</td>\n",
       "      <td>113.67.156.*</td>\n",
       "      <td>216</td>\n",
       "      <td>217</td>\n",
       "      <td>...</td>\n",
       "      <td>250</td>\n",
       "      <td>1</td>\n",
       "      <td>5</td>\n",
       "      <td>0</td>\n",
       "      <td>00fccc64a1ee2809348509b7ac2a97a5</td>\n",
       "      <td>227</td>\n",
       "      <td>260</td>\n",
       "      <td>b2e35064f3549d447edbbdfb1f707c8c</td>\n",
       "      <td>3427</td>\n",
       "      <td>10006,13866,10063,10110</td>\n",
       "    </tr>\n",
       "    <tr>\n",
       "      <th>175813</th>\n",
       "      <td>0</td>\n",
       "      <td>4</td>\n",
       "      <td>0</td>\n",
       "      <td>642d185c662a9e57e22a547f2f36b2ae</td>\n",
       "      <td>1</td>\n",
       "      <td>u_Vh1V1pS0D9qhaYL</td>\n",
       "      <td>windows_firefox</td>\n",
       "      <td>112.104.102.*</td>\n",
       "      <td>393</td>\n",
       "      <td>393</td>\n",
       "      <td>...</td>\n",
       "      <td>90</td>\n",
       "      <td>0</td>\n",
       "      <td>1</td>\n",
       "      <td>0</td>\n",
       "      <td>cc9b344e950b4f8c2b96537174a343b7</td>\n",
       "      <td>227</td>\n",
       "      <td>89</td>\n",
       "      <td>d29e59bf0f7f8243858b8183f14d4412</td>\n",
       "      <td>3358</td>\n",
       "      <td>10075</td>\n",
       "    </tr>\n",
       "    <tr>\n",
       "      <th>2329936</th>\n",
       "      <td>0</td>\n",
       "      <td>0</td>\n",
       "      <td>3</td>\n",
       "      <td>bfba1ba19a79bba6860b6ee7de1234d0</td>\n",
       "      <td>1</td>\n",
       "      <td>u_VhLyZp50PUN2BV8</td>\n",
       "      <td>windows_ie</td>\n",
       "      <td>183.65.43.*</td>\n",
       "      <td>275</td>\n",
       "      <td>275</td>\n",
       "      <td>...</td>\n",
       "      <td>250</td>\n",
       "      <td>1</td>\n",
       "      <td>1</td>\n",
       "      <td>0</td>\n",
       "      <td>e1af08818a6cd6bbba118bb54a651961</td>\n",
       "      <td>238</td>\n",
       "      <td>159</td>\n",
       "      <td>a5d0bde104fea52ea466c77b37948424</td>\n",
       "      <td>3476</td>\n",
       "      <td>10057,10006,13866,13403,10059,10083,10063,10110</td>\n",
       "    </tr>\n",
       "    <tr>\n",
       "      <th>2122402</th>\n",
       "      <td>0</td>\n",
       "      <td>0</td>\n",
       "      <td>0</td>\n",
       "      <td>dd3e32d96f2166a2f8c11eec38342afe</td>\n",
       "      <td>1</td>\n",
       "      <td>u_VhkrLnN3LQ1fDWf</td>\n",
       "      <td>windows_ie</td>\n",
       "      <td>137.117.90.*</td>\n",
       "      <td>0</td>\n",
       "      <td>0</td>\n",
       "      <td>...</td>\n",
       "      <td>90</td>\n",
       "      <td>0</td>\n",
       "      <td>0</td>\n",
       "      <td>20</td>\n",
       "      <td>b90c12ed2bd7950c6027bf9c6937c48a</td>\n",
       "      <td>300</td>\n",
       "      <td>20</td>\n",
       "      <td>43f4a37f42a7c5e6219e2601b26c6976</td>\n",
       "      <td>3386</td>\n",
       "      <td>10063</td>\n",
       "    </tr>\n",
       "    <tr>\n",
       "      <th>2561433</th>\n",
       "      <td>0</td>\n",
       "      <td>5</td>\n",
       "      <td>0</td>\n",
       "      <td>745a0dba89e04660d33bb180658fe688</td>\n",
       "      <td>1</td>\n",
       "      <td>u_Vh5_1uSyPQ29qZb</td>\n",
       "      <td>windows_chrome</td>\n",
       "      <td>27.227.230.*</td>\n",
       "      <td>344</td>\n",
       "      <td>345</td>\n",
       "      <td>...</td>\n",
       "      <td>250</td>\n",
       "      <td>2</td>\n",
       "      <td>1</td>\n",
       "      <td>0</td>\n",
       "      <td>911b2d84826786018761e8c0b0a3a60c</td>\n",
       "      <td>227</td>\n",
       "      <td>227</td>\n",
       "      <td>d29e59bf0f7f8243858b8183f14d4412</td>\n",
       "      <td>3358</td>\n",
       "      <td>13800,10024</td>\n",
       "    </tr>\n",
       "  </tbody>\n",
       "</table>\n",
       "<p>5 rows × 26 columns</p>\n",
       "</div>"
      ],
      "text/plain": [
       "         click  weekday  hour                             bidid  logtype  \\\n",
       "918148       0        1    18  0e7c40ecdf72a92faa70403005f64b61        1   \n",
       "175813       0        4     0  642d185c662a9e57e22a547f2f36b2ae        1   \n",
       "2329936      0        0     3  bfba1ba19a79bba6860b6ee7de1234d0        1   \n",
       "2122402      0        0     0  dd3e32d96f2166a2f8c11eec38342afe        1   \n",
       "2561433      0        5     0  745a0dba89e04660d33bb180658fe688        1   \n",
       "\n",
       "                    userid        useragent             IP  region  city  \\\n",
       "918148   u_Vh1pPimCOodUqWz       windows_ie   113.67.156.*     216   217   \n",
       "175813   u_Vh1V1pS0D9qhaYL  windows_firefox  112.104.102.*     393   393   \n",
       "2329936  u_VhLyZp50PUN2BV8       windows_ie    183.65.43.*     275   275   \n",
       "2122402  u_VhkrLnN3LQ1fDWf       windows_ie   137.117.90.*       0     0   \n",
       "2561433  u_Vh5_1uSyPQ29qZb   windows_chrome   27.227.230.*     344   345   \n",
       "\n",
       "                              ...                        slotheight  \\\n",
       "918148                        ...                               250   \n",
       "175813                        ...                                90   \n",
       "2329936                       ...                               250   \n",
       "2122402                       ...                                90   \n",
       "2561433                       ...                               250   \n",
       "\n",
       "        slotvisibility slotformat slotprice                          creative  \\\n",
       "918148               1          5         0  00fccc64a1ee2809348509b7ac2a97a5   \n",
       "175813               0          1         0  cc9b344e950b4f8c2b96537174a343b7   \n",
       "2329936              1          1         0  e1af08818a6cd6bbba118bb54a651961   \n",
       "2122402              0          0        20  b90c12ed2bd7950c6027bf9c6937c48a   \n",
       "2561433              2          1         0  911b2d84826786018761e8c0b0a3a60c   \n",
       "\n",
       "         bidprice  payprice                           keypage advertiser  \\\n",
       "918148        227       260  b2e35064f3549d447edbbdfb1f707c8c       3427   \n",
       "175813        227        89  d29e59bf0f7f8243858b8183f14d4412       3358   \n",
       "2329936       238       159  a5d0bde104fea52ea466c77b37948424       3476   \n",
       "2122402       300        20  43f4a37f42a7c5e6219e2601b26c6976       3386   \n",
       "2561433       227       227  d29e59bf0f7f8243858b8183f14d4412       3358   \n",
       "\n",
       "                                                 usertag  \n",
       "918148                           10006,13866,10063,10110  \n",
       "175813                                             10075  \n",
       "2329936  10057,10006,13866,13403,10059,10083,10063,10110  \n",
       "2122402                                            10063  \n",
       "2561433                                      13800,10024  \n",
       "\n",
       "[5 rows x 26 columns]"
      ]
     },
     "execution_count": 12,
     "metadata": {},
     "output_type": "execute_result"
    }
   ],
   "source": [
    "sample.head()"
   ]
  },
  {
   "cell_type": "code",
   "execution_count": 184,
   "metadata": {
    "collapsed": false
   },
   "outputs": [],
   "source": [
    "y1 = constant_bid(sample,0); y = constant_bid(sample,210)"
   ]
  },
  {
   "cell_type": "code",
   "execution_count": 186,
   "metadata": {
    "collapsed": false
   },
   "outputs": [
    {
     "data": {
      "text/plain": [
       "[210, 9417, 0.095659999999999995, 657617]"
      ]
     },
     "execution_count": 186,
     "metadata": {},
     "output_type": "execute_result"
    }
   ],
   "source": [
    "y"
   ]
  },
  {
   "cell_type": "code",
   "execution_count": 187,
   "metadata": {
    "collapsed": false
   },
   "outputs": [],
   "source": [
    "# plot_df.reset_index(drop = True)  ------ use to reset the index"
   ]
  },
  {
   "cell_type": "code",
   "execution_count": 191,
   "metadata": {
    "collapsed": false,
    "scrolled": true
   },
   "outputs": [
    {
     "name": "stdout",
     "output_type": "stream",
     "text": [
      "654.0663487911224\n"
     ]
    }
   ],
   "source": [
    "#Roughly 11 mins\n",
    "start = time.time()\n",
    "def find_opt_bid(min, max):\n",
    "    list_1 = []\n",
    "    for i in range(min,max):\n",
    "        y= constant_bid(df, i);\n",
    "        list_1 += [y]\n",
    "    plot_df= pd.DataFrame(list_1)\n",
    "    plot_df.columns=['Bid','Wins','CTR','Total_cost']\n",
    "    return plot_df\n",
    "graph_df = find_opt_bid(0,302)\n",
    "end = time.time()\n",
    "print(end - start)"
   ]
  },
  {
   "cell_type": "code",
   "execution_count": 192,
   "metadata": {
    "collapsed": false
   },
   "outputs": [
    {
     "data": {
      "text/html": [
       "<div>\n",
       "<table border=\"1\" class=\"dataframe\">\n",
       "  <thead>\n",
       "    <tr style=\"text-align: right;\">\n",
       "      <th></th>\n",
       "      <th>Bid</th>\n",
       "      <th>Wins</th>\n",
       "      <th>CTR</th>\n",
       "      <th>Total_cost</th>\n",
       "    </tr>\n",
       "  </thead>\n",
       "  <tbody>\n",
       "    <tr>\n",
       "      <th>0</th>\n",
       "      <td>0</td>\n",
       "      <td>531</td>\n",
       "      <td>0.00000</td>\n",
       "      <td>0</td>\n",
       "    </tr>\n",
       "    <tr>\n",
       "      <th>1</th>\n",
       "      <td>1</td>\n",
       "      <td>3004</td>\n",
       "      <td>0.00000</td>\n",
       "      <td>2473</td>\n",
       "    </tr>\n",
       "    <tr>\n",
       "      <th>2</th>\n",
       "      <td>2</td>\n",
       "      <td>6875</td>\n",
       "      <td>0.00000</td>\n",
       "      <td>10215</td>\n",
       "    </tr>\n",
       "    <tr>\n",
       "      <th>3</th>\n",
       "      <td>3</td>\n",
       "      <td>7743</td>\n",
       "      <td>0.00000</td>\n",
       "      <td>12819</td>\n",
       "    </tr>\n",
       "    <tr>\n",
       "      <th>4</th>\n",
       "      <td>4</td>\n",
       "      <td>19278</td>\n",
       "      <td>0.00000</td>\n",
       "      <td>58959</td>\n",
       "    </tr>\n",
       "    <tr>\n",
       "      <th>5</th>\n",
       "      <td>5</td>\n",
       "      <td>68665</td>\n",
       "      <td>0.00583</td>\n",
       "      <td>305894</td>\n",
       "    </tr>\n",
       "    <tr>\n",
       "      <th>6</th>\n",
       "      <td>6</td>\n",
       "      <td>84543</td>\n",
       "      <td>0.04852</td>\n",
       "      <td>401162</td>\n",
       "    </tr>\n",
       "    <tr>\n",
       "      <th>7</th>\n",
       "      <td>7</td>\n",
       "      <td>97598</td>\n",
       "      <td>0.04305</td>\n",
       "      <td>492547</td>\n",
       "    </tr>\n",
       "    <tr>\n",
       "      <th>8</th>\n",
       "      <td>8</td>\n",
       "      <td>108645</td>\n",
       "      <td>0.03959</td>\n",
       "      <td>580923</td>\n",
       "    </tr>\n",
       "    <tr>\n",
       "      <th>9</th>\n",
       "      <td>9</td>\n",
       "      <td>120248</td>\n",
       "      <td>0.03910</td>\n",
       "      <td>685350</td>\n",
       "    </tr>\n",
       "    <tr>\n",
       "      <th>10</th>\n",
       "      <td>10</td>\n",
       "      <td>143438</td>\n",
       "      <td>0.03906</td>\n",
       "      <td>917250</td>\n",
       "    </tr>\n",
       "    <tr>\n",
       "      <th>11</th>\n",
       "      <td>11</td>\n",
       "      <td>162092</td>\n",
       "      <td>0.04012</td>\n",
       "      <td>1122444</td>\n",
       "    </tr>\n",
       "    <tr>\n",
       "      <th>12</th>\n",
       "      <td>12</td>\n",
       "      <td>177333</td>\n",
       "      <td>0.03892</td>\n",
       "      <td>1305336</td>\n",
       "    </tr>\n",
       "    <tr>\n",
       "      <th>13</th>\n",
       "      <td>13</td>\n",
       "      <td>190828</td>\n",
       "      <td>0.03722</td>\n",
       "      <td>1480771</td>\n",
       "    </tr>\n",
       "    <tr>\n",
       "      <th>14</th>\n",
       "      <td>14</td>\n",
       "      <td>204550</td>\n",
       "      <td>0.03619</td>\n",
       "      <td>1672879</td>\n",
       "    </tr>\n",
       "    <tr>\n",
       "      <th>15</th>\n",
       "      <td>15</td>\n",
       "      <td>217902</td>\n",
       "      <td>0.03765</td>\n",
       "      <td>1873159</td>\n",
       "    </tr>\n",
       "    <tr>\n",
       "      <th>16</th>\n",
       "      <td>16</td>\n",
       "      <td>237325</td>\n",
       "      <td>0.03752</td>\n",
       "      <td>2183927</td>\n",
       "    </tr>\n",
       "    <tr>\n",
       "      <th>17</th>\n",
       "      <td>17</td>\n",
       "      <td>258302</td>\n",
       "      <td>0.03795</td>\n",
       "      <td>2540536</td>\n",
       "    </tr>\n",
       "    <tr>\n",
       "      <th>18</th>\n",
       "      <td>18</td>\n",
       "      <td>277987</td>\n",
       "      <td>0.03743</td>\n",
       "      <td>2894866</td>\n",
       "    </tr>\n",
       "    <tr>\n",
       "      <th>19</th>\n",
       "      <td>19</td>\n",
       "      <td>291672</td>\n",
       "      <td>0.03773</td>\n",
       "      <td>3154881</td>\n",
       "    </tr>\n",
       "    <tr>\n",
       "      <th>20</th>\n",
       "      <td>20</td>\n",
       "      <td>410372</td>\n",
       "      <td>0.03388</td>\n",
       "      <td>5528881</td>\n",
       "    </tr>\n",
       "    <tr>\n",
       "      <th>21</th>\n",
       "      <td>21</td>\n",
       "      <td>443585</td>\n",
       "      <td>0.03338</td>\n",
       "      <td>6226354</td>\n",
       "    </tr>\n",
       "    <tr>\n",
       "      <th>22</th>\n",
       "      <td>22</td>\n",
       "      <td>483449</td>\n",
       "      <td>0.03311</td>\n",
       "      <td>7103362</td>\n",
       "    </tr>\n",
       "    <tr>\n",
       "      <th>23</th>\n",
       "      <td>23</td>\n",
       "      <td>496216</td>\n",
       "      <td>0.03346</td>\n",
       "      <td>7397003</td>\n",
       "    </tr>\n",
       "    <tr>\n",
       "      <th>24</th>\n",
       "      <td>24</td>\n",
       "      <td>511252</td>\n",
       "      <td>0.03365</td>\n",
       "      <td>7757867</td>\n",
       "    </tr>\n",
       "    <tr>\n",
       "      <th>25</th>\n",
       "      <td>25</td>\n",
       "      <td>525637</td>\n",
       "      <td>0.03311</td>\n",
       "      <td>8117492</td>\n",
       "    </tr>\n",
       "    <tr>\n",
       "      <th>26</th>\n",
       "      <td>26</td>\n",
       "      <td>534535</td>\n",
       "      <td>0.03294</td>\n",
       "      <td>8348840</td>\n",
       "    </tr>\n",
       "    <tr>\n",
       "      <th>27</th>\n",
       "      <td>27</td>\n",
       "      <td>546825</td>\n",
       "      <td>0.03329</td>\n",
       "      <td>8680670</td>\n",
       "    </tr>\n",
       "    <tr>\n",
       "      <th>28</th>\n",
       "      <td>28</td>\n",
       "      <td>557459</td>\n",
       "      <td>0.03356</td>\n",
       "      <td>8978422</td>\n",
       "    </tr>\n",
       "    <tr>\n",
       "      <th>29</th>\n",
       "      <td>29</td>\n",
       "      <td>566799</td>\n",
       "      <td>0.03424</td>\n",
       "      <td>9249282</td>\n",
       "    </tr>\n",
       "    <tr>\n",
       "      <th>...</th>\n",
       "      <td>...</td>\n",
       "      <td>...</td>\n",
       "      <td>...</td>\n",
       "      <td>...</td>\n",
       "    </tr>\n",
       "    <tr>\n",
       "      <th>272</th>\n",
       "      <td>272</td>\n",
       "      <td>2675339</td>\n",
       "      <td>0.07470</td>\n",
       "      <td>210111167</td>\n",
       "    </tr>\n",
       "    <tr>\n",
       "      <th>273</th>\n",
       "      <td>273</td>\n",
       "      <td>2675857</td>\n",
       "      <td>0.07476</td>\n",
       "      <td>210252581</td>\n",
       "    </tr>\n",
       "    <tr>\n",
       "      <th>274</th>\n",
       "      <td>274</td>\n",
       "      <td>2676675</td>\n",
       "      <td>0.07474</td>\n",
       "      <td>210476713</td>\n",
       "    </tr>\n",
       "    <tr>\n",
       "      <th>275</th>\n",
       "      <td>275</td>\n",
       "      <td>2677448</td>\n",
       "      <td>0.07475</td>\n",
       "      <td>210689288</td>\n",
       "    </tr>\n",
       "    <tr>\n",
       "      <th>276</th>\n",
       "      <td>276</td>\n",
       "      <td>2678099</td>\n",
       "      <td>0.07474</td>\n",
       "      <td>210868964</td>\n",
       "    </tr>\n",
       "    <tr>\n",
       "      <th>277</th>\n",
       "      <td>277</td>\n",
       "      <td>2678741</td>\n",
       "      <td>0.07479</td>\n",
       "      <td>211046798</td>\n",
       "    </tr>\n",
       "    <tr>\n",
       "      <th>278</th>\n",
       "      <td>278</td>\n",
       "      <td>2679272</td>\n",
       "      <td>0.07482</td>\n",
       "      <td>211194416</td>\n",
       "    </tr>\n",
       "    <tr>\n",
       "      <th>279</th>\n",
       "      <td>279</td>\n",
       "      <td>2679722</td>\n",
       "      <td>0.07480</td>\n",
       "      <td>211319966</td>\n",
       "    </tr>\n",
       "    <tr>\n",
       "      <th>280</th>\n",
       "      <td>280</td>\n",
       "      <td>2681234</td>\n",
       "      <td>0.07495</td>\n",
       "      <td>211743326</td>\n",
       "    </tr>\n",
       "    <tr>\n",
       "      <th>281</th>\n",
       "      <td>281</td>\n",
       "      <td>2686110</td>\n",
       "      <td>0.07492</td>\n",
       "      <td>213113482</td>\n",
       "    </tr>\n",
       "    <tr>\n",
       "      <th>282</th>\n",
       "      <td>282</td>\n",
       "      <td>2686697</td>\n",
       "      <td>0.07491</td>\n",
       "      <td>213279016</td>\n",
       "    </tr>\n",
       "    <tr>\n",
       "      <th>283</th>\n",
       "      <td>283</td>\n",
       "      <td>2687354</td>\n",
       "      <td>0.07489</td>\n",
       "      <td>213464947</td>\n",
       "    </tr>\n",
       "    <tr>\n",
       "      <th>284</th>\n",
       "      <td>284</td>\n",
       "      <td>2687867</td>\n",
       "      <td>0.07491</td>\n",
       "      <td>213610639</td>\n",
       "    </tr>\n",
       "    <tr>\n",
       "      <th>285</th>\n",
       "      <td>285</td>\n",
       "      <td>2688325</td>\n",
       "      <td>0.07497</td>\n",
       "      <td>213741169</td>\n",
       "    </tr>\n",
       "    <tr>\n",
       "      <th>286</th>\n",
       "      <td>286</td>\n",
       "      <td>2689501</td>\n",
       "      <td>0.07509</td>\n",
       "      <td>214077505</td>\n",
       "    </tr>\n",
       "    <tr>\n",
       "      <th>287</th>\n",
       "      <td>287</td>\n",
       "      <td>2690026</td>\n",
       "      <td>0.07515</td>\n",
       "      <td>214228180</td>\n",
       "    </tr>\n",
       "    <tr>\n",
       "      <th>288</th>\n",
       "      <td>288</td>\n",
       "      <td>2690636</td>\n",
       "      <td>0.07517</td>\n",
       "      <td>214403860</td>\n",
       "    </tr>\n",
       "    <tr>\n",
       "      <th>289</th>\n",
       "      <td>289</td>\n",
       "      <td>2691402</td>\n",
       "      <td>0.07518</td>\n",
       "      <td>214625234</td>\n",
       "    </tr>\n",
       "    <tr>\n",
       "      <th>290</th>\n",
       "      <td>290</td>\n",
       "      <td>2691937</td>\n",
       "      <td>0.07521</td>\n",
       "      <td>214780384</td>\n",
       "    </tr>\n",
       "    <tr>\n",
       "      <th>291</th>\n",
       "      <td>291</td>\n",
       "      <td>2692540</td>\n",
       "      <td>0.07519</td>\n",
       "      <td>214955857</td>\n",
       "    </tr>\n",
       "    <tr>\n",
       "      <th>292</th>\n",
       "      <td>292</td>\n",
       "      <td>2693215</td>\n",
       "      <td>0.07517</td>\n",
       "      <td>215152957</td>\n",
       "    </tr>\n",
       "    <tr>\n",
       "      <th>293</th>\n",
       "      <td>293</td>\n",
       "      <td>2693974</td>\n",
       "      <td>0.07526</td>\n",
       "      <td>215375344</td>\n",
       "    </tr>\n",
       "    <tr>\n",
       "      <th>294</th>\n",
       "      <td>294</td>\n",
       "      <td>2694424</td>\n",
       "      <td>0.07525</td>\n",
       "      <td>215507644</td>\n",
       "    </tr>\n",
       "    <tr>\n",
       "      <th>295</th>\n",
       "      <td>295</td>\n",
       "      <td>2694992</td>\n",
       "      <td>0.07527</td>\n",
       "      <td>215675204</td>\n",
       "    </tr>\n",
       "    <tr>\n",
       "      <th>296</th>\n",
       "      <td>296</td>\n",
       "      <td>2695283</td>\n",
       "      <td>0.07530</td>\n",
       "      <td>215761340</td>\n",
       "    </tr>\n",
       "    <tr>\n",
       "      <th>297</th>\n",
       "      <td>297</td>\n",
       "      <td>2695493</td>\n",
       "      <td>0.07533</td>\n",
       "      <td>215823710</td>\n",
       "    </tr>\n",
       "    <tr>\n",
       "      <th>298</th>\n",
       "      <td>298</td>\n",
       "      <td>2695806</td>\n",
       "      <td>0.07540</td>\n",
       "      <td>215916984</td>\n",
       "    </tr>\n",
       "    <tr>\n",
       "      <th>299</th>\n",
       "      <td>299</td>\n",
       "      <td>2696151</td>\n",
       "      <td>0.07539</td>\n",
       "      <td>216020139</td>\n",
       "    </tr>\n",
       "    <tr>\n",
       "      <th>300</th>\n",
       "      <td>300</td>\n",
       "      <td>2697738</td>\n",
       "      <td>0.07545</td>\n",
       "      <td>216496239</td>\n",
       "    </tr>\n",
       "    <tr>\n",
       "      <th>301</th>\n",
       "      <td>301</td>\n",
       "      <td>2697738</td>\n",
       "      <td>0.07545</td>\n",
       "      <td>216496239</td>\n",
       "    </tr>\n",
       "  </tbody>\n",
       "</table>\n",
       "<p>302 rows × 4 columns</p>\n",
       "</div>"
      ],
      "text/plain": [
       "     Bid     Wins      CTR  Total_cost\n",
       "0      0      531  0.00000           0\n",
       "1      1     3004  0.00000        2473\n",
       "2      2     6875  0.00000       10215\n",
       "3      3     7743  0.00000       12819\n",
       "4      4    19278  0.00000       58959\n",
       "5      5    68665  0.00583      305894\n",
       "6      6    84543  0.04852      401162\n",
       "7      7    97598  0.04305      492547\n",
       "8      8   108645  0.03959      580923\n",
       "9      9   120248  0.03910      685350\n",
       "10    10   143438  0.03906      917250\n",
       "11    11   162092  0.04012     1122444\n",
       "12    12   177333  0.03892     1305336\n",
       "13    13   190828  0.03722     1480771\n",
       "14    14   204550  0.03619     1672879\n",
       "15    15   217902  0.03765     1873159\n",
       "16    16   237325  0.03752     2183927\n",
       "17    17   258302  0.03795     2540536\n",
       "18    18   277987  0.03743     2894866\n",
       "19    19   291672  0.03773     3154881\n",
       "20    20   410372  0.03388     5528881\n",
       "21    21   443585  0.03338     6226354\n",
       "22    22   483449  0.03311     7103362\n",
       "23    23   496216  0.03346     7397003\n",
       "24    24   511252  0.03365     7757867\n",
       "25    25   525637  0.03311     8117492\n",
       "26    26   534535  0.03294     8348840\n",
       "27    27   546825  0.03329     8680670\n",
       "28    28   557459  0.03356     8978422\n",
       "29    29   566799  0.03424     9249282\n",
       "..   ...      ...      ...         ...\n",
       "272  272  2675339  0.07470   210111167\n",
       "273  273  2675857  0.07476   210252581\n",
       "274  274  2676675  0.07474   210476713\n",
       "275  275  2677448  0.07475   210689288\n",
       "276  276  2678099  0.07474   210868964\n",
       "277  277  2678741  0.07479   211046798\n",
       "278  278  2679272  0.07482   211194416\n",
       "279  279  2679722  0.07480   211319966\n",
       "280  280  2681234  0.07495   211743326\n",
       "281  281  2686110  0.07492   213113482\n",
       "282  282  2686697  0.07491   213279016\n",
       "283  283  2687354  0.07489   213464947\n",
       "284  284  2687867  0.07491   213610639\n",
       "285  285  2688325  0.07497   213741169\n",
       "286  286  2689501  0.07509   214077505\n",
       "287  287  2690026  0.07515   214228180\n",
       "288  288  2690636  0.07517   214403860\n",
       "289  289  2691402  0.07518   214625234\n",
       "290  290  2691937  0.07521   214780384\n",
       "291  291  2692540  0.07519   214955857\n",
       "292  292  2693215  0.07517   215152957\n",
       "293  293  2693974  0.07526   215375344\n",
       "294  294  2694424  0.07525   215507644\n",
       "295  295  2694992  0.07527   215675204\n",
       "296  296  2695283  0.07530   215761340\n",
       "297  297  2695493  0.07533   215823710\n",
       "298  298  2695806  0.07540   215916984\n",
       "299  299  2696151  0.07539   216020139\n",
       "300  300  2697738  0.07545   216496239\n",
       "301  301  2697738  0.07545   216496239\n",
       "\n",
       "[302 rows x 4 columns]"
      ]
     },
     "execution_count": 192,
     "metadata": {},
     "output_type": "execute_result"
    }
   ],
   "source": [
    "graph_df"
   ]
  },
  {
   "cell_type": "code",
   "execution_count": 172,
   "metadata": {
    "collapsed": false
   },
   "outputs": [
    {
     "data": {
      "image/png": "[encoded data removed]",
      "text/plain": [
       "<matplotlib.figure.Figure at 0xd64bd68>"
      ]
     },
     "metadata": {},
     "output_type": "display_data"
    }
   ],
   "source": [
    "#Plot of CTR and bid price\n",
    "plt.figure()\n",
    "ax= graph_df.CTR.plot()\n",
    "ax.set_ylabel('CTR %')\n",
    "ax.set_xlabel('Bid price')\n",
    "ax.set_xticks(np.arange(0,305,20))\n",
    "ax.set_yticks(np.arange(0,0.085,0.005))\n",
    "plt.grid(True)"
   ]
  },
  {
   "cell_type": "code",
   "execution_count": 200,
   "metadata": {
    "collapsed": false
   },
   "outputs": [
    {
     "data": {
      "image/png": "[encoded data removed]",
      "text/plain": [
       "<matplotlib.figure.Figure at 0xdd1b470>"
      ]
     },
     "metadata": {},
     "output_type": "display_data"
    }
   ],
   "source": [
    "#Bid and impressions\n",
    "plt.figure()\n",
    "ax2= graph_df.Wins.plot()\n",
    "ax2.set_ylabel('Impressions won')\n",
    "ax2.set_xlabel('Bid price')\n",
    "ax2.set_xticks(np.arange(0,305,20))\n",
    "ax2.set_yticks(np.arange(0,3250000,250000))\n",
    "plt.grid(True)"
   ]
  },
  {
   "cell_type": "code",
   "execution_count": 213,
   "metadata": {
    "collapsed": false
   },
   "outputs": [
    {
     "data": {
      "image/png": "[encoded data removed]",
      "text/plain": [
       "<matplotlib.figure.Figure at 0xd3b8198>"
      ]
     },
     "metadata": {},
     "output_type": "display_data"
    }
   ],
   "source": [
    "#Bid and cost\n",
    "plt.figure()\n",
    "ax3= graph_df.Total_cost.plot(kind='area',alpha=0.5)\n",
    "ax3.set_ylabel('Total Cost')\n",
    "ax3.set_xlabel('Bid price')\n",
    "ax3.set_xticks(np.arange(0,305,20))\n",
    "ax3.set_yticks(np.arange(0,260000000,25000000))\n",
    "plt.grid(True)"
   ]
  },
  {
   "cell_type": "code",
   "execution_count": null,
   "metadata": {
    "collapsed": false
   },
   "outputs": [],
   "source": [
    "#random_bid(sample)"
   ]
  },
  {
   "cell_type": "code",
   "execution_count": null,
   "metadata": {
    "collapsed": true
   },
   "outputs": [],
   "source": [
    "#Evaluation tool"
   ]
  },
  {
   "cell_type": "code",
   "execution_count": null,
   "metadata": {
    "collapsed": false
   },
   "outputs": [],
   "source": [
    "out = random_bid(sample)"
   ]
  },
  {
   "cell_type": "code",
   "execution_count": null,
   "metadata": {
    "collapsed": false
   },
   "outputs": [],
   "source": [
    "example = sample[sample.bidprice <= 274].click.value_counts().sort_index().tolist()\n",
    "win= sum(sample[sample.bidprice <= 274].click.value_counts())\n",
    "win_ratio = round((win/sample.shape[0])*100,2)\n",
    "#CTR = e"
   ]
  },
  {
   "cell_type": "code",
   "execution_count": null,
   "metadata": {
    "collapsed": false
   },
   "outputs": [],
   "source": [
    "sample.click.value_counts()"
   ]
  },
  {
   "cell_type": "code",
   "execution_count": null,
   "metadata": {
    "collapsed": false
   },
   "outputs": [],
   "source": [
    "sample[sample.bidprice <= 274].click.value_counts().tolist()"
   ]
  },
  {
   "cell_type": "code",
   "execution_count": null,
   "metadata": {
    "collapsed": false
   },
   "outputs": [],
   "source": [
    "sum(sample[sample.bidprice <= 274].click.value_counts())"
   ]
  },
  {
   "cell_type": "code",
   "execution_count": null,
   "metadata": {
    "collapsed": false
   },
   "outputs": [],
   "source": [
    "(example[1]/example[0])*100 #CTR of the won impressions"
   ]
  },
  {
   "cell_type": "code",
   "execution_count": null,
   "metadata": {
    "collapsed": false
   },
   "outputs": [],
   "source": [
    "example"
   ]
  },
  {
   "cell_type": "code",
   "execution_count": null,
   "metadata": {
    "collapsed": false
   },
   "outputs": [],
   "source": [
    "win"
   ]
  },
  {
   "cell_type": "code",
   "execution_count": null,
   "metadata": {
    "collapsed": false
   },
   "outputs": [],
   "source": [
    "sample.shape[0]"
   ]
  },
  {
   "cell_type": "code",
   "execution_count": null,
   "metadata": {
    "collapsed": false
   },
   "outputs": [],
   "source": [
    "win_ratio"
   ]
  },
  {
   "cell_type": "code",
   "execution_count": null,
   "metadata": {
    "collapsed": false
   },
   "outputs": [],
   "source": [
    "range(len(sample))"
   ]
  },
  {
   "cell_type": "code",
   "execution_count": null,
   "metadata": {
    "collapsed": false
   },
   "outputs": [],
   "source": [
    "sample.iloc[2].bidid"
   ]
  },
  {
   "cell_type": "code",
   "execution_count": null,
   "metadata": {
    "collapsed": false
   },
   "outputs": [],
   "source": [
    "df.bidprice.mean()"
   ]
  },
  {
   "cell_type": "code",
   "execution_count": null,
   "metadata": {
    "collapsed": false
   },
   "outputs": [],
   "source": [
    "df.sample(n=5)"
   ]
  },
  {
   "cell_type": "code",
   "execution_count": null,
   "metadata": {
    "collapsed": false
   },
   "outputs": [],
   "source": [
    "np.random.randint(low=5,high=11)   "
   ]
  },
  {
   "cell_type": "code",
   "execution_count": null,
   "metadata": {
    "collapsed": true
   },
   "outputs": [],
   "source": []
  },
  {
   "cell_type": "code",
   "execution_count": null,
   "metadata": {
    "collapsed": true
   },
   "outputs": [],
   "source": []
  }
 ],
 "metadata": {
  "anaconda-cloud": {},
  "kernelspec": {
   "display_name": "Python [default]",
   "language": "python",
   "name": "python3"
  },
  "language_info": {
   "codemirror_mode": {
    "name": "ipython",
    "version": 3
   },
   "file_extension": ".py",
   "mimetype": "text/x-python",
   "name": "python",
   "nbconvert_exporter": "python",
   "pygments_lexer": "ipython3",
   "version": "3.5.2"
  }
 },
 "nbformat": 4,
 "nbformat_minor": 1
}

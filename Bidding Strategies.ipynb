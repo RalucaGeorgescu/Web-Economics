{
 "cells": [
  {
   "cell_type": "code",
   "execution_count": 1,
   "metadata": {
    "collapsed": true
   },
   "outputs": [],
   "source": [
    "%matplotlib inline"
   ]
  },
  {
   "cell_type": "code",
   "execution_count": 2,
   "metadata": {
    "collapsed": true
   },
   "outputs": [],
   "source": [
    "import pandas as pd\n",
    "import seaborn as sns\n",
    "import matplotlib.pyplot as plt\n",
    "import numpy as np"
   ]
  },
  {
   "cell_type": "code",
   "execution_count": 3,
   "metadata": {
    "collapsed": true
   },
   "outputs": [],
   "source": [
    "#Load and import the data"
   ]
  },
  {
   "cell_type": "code",
   "execution_count": 4,
   "metadata": {
    "collapsed": true
   },
   "outputs": [],
   "source": [
    "df = pd.read_csv(\"C:/Users/Weng/Desktop/Web economics/Dataset/train.csv\")"
   ]
  },
  {
   "cell_type": "code",
   "execution_count": 60,
   "metadata": {
    "collapsed": false
   },
   "outputs": [
    {
     "data": {
      "text/plain": [
       "0    1998\n",
       "1       2\n",
       "Name: click, dtype: int64"
      ]
     },
     "execution_count": 60,
     "metadata": {},
     "output_type": "execute_result"
    }
   ],
   "source": [
    "sample = df.sample(n=2000)\n",
    "sample.click.value_counts()"
   ]
  },
  {
   "cell_type": "code",
   "execution_count": 11,
   "metadata": {
    "collapsed": false
   },
   "outputs": [
    {
     "data": {
      "text/html": [
       "<div>\n",
       "<table border=\"1\" class=\"dataframe\">\n",
       "  <thead>\n",
       "    <tr style=\"text-align: right;\">\n",
       "      <th></th>\n",
       "      <th>click</th>\n",
       "      <th>weekday</th>\n",
       "      <th>hour</th>\n",
       "      <th>bidid</th>\n",
       "      <th>logtype</th>\n",
       "      <th>userid</th>\n",
       "      <th>useragent</th>\n",
       "      <th>IP</th>\n",
       "      <th>region</th>\n",
       "      <th>city</th>\n",
       "      <th>...</th>\n",
       "      <th>slotheight</th>\n",
       "      <th>slotvisibility</th>\n",
       "      <th>slotformat</th>\n",
       "      <th>slotprice</th>\n",
       "      <th>creative</th>\n",
       "      <th>bidprice</th>\n",
       "      <th>payprice</th>\n",
       "      <th>keypage</th>\n",
       "      <th>advertiser</th>\n",
       "      <th>usertag</th>\n",
       "    </tr>\n",
       "  </thead>\n",
       "  <tbody>\n",
       "    <tr>\n",
       "      <th>771532</th>\n",
       "      <td>0</td>\n",
       "      <td>1</td>\n",
       "      <td>18</td>\n",
       "      <td>ca22a918b50e3b21038352d0e56bf43b</td>\n",
       "      <td>1</td>\n",
       "      <td>u_VhLYLv5p3HsTqBL</td>\n",
       "      <td>windows_ie</td>\n",
       "      <td>218.74.108.*</td>\n",
       "      <td>94</td>\n",
       "      <td>105</td>\n",
       "      <td>...</td>\n",
       "      <td>90</td>\n",
       "      <td>0</td>\n",
       "      <td>0</td>\n",
       "      <td>70</td>\n",
       "      <td>0cd33fcb336655841d3e1441b915748d</td>\n",
       "      <td>254</td>\n",
       "      <td>73</td>\n",
       "      <td>c8758e8658b05bc3a88af7b37bdf0575</td>\n",
       "      <td>3476</td>\n",
       "      <td>10063,10024,10052,13403,10057,14273,10077,1003...</td>\n",
       "    </tr>\n",
       "    <tr>\n",
       "      <th>2491178</th>\n",
       "      <td>0</td>\n",
       "      <td>5</td>\n",
       "      <td>3</td>\n",
       "      <td>766da4eefb0f6ecc7cfb4c953d38cdb1</td>\n",
       "      <td>1</td>\n",
       "      <td>u_Z02R1wcxPl5clbk</td>\n",
       "      <td>windows_ie</td>\n",
       "      <td>111.77.229.*</td>\n",
       "      <td>134</td>\n",
       "      <td>141</td>\n",
       "      <td>...</td>\n",
       "      <td>90</td>\n",
       "      <td>0</td>\n",
       "      <td>0</td>\n",
       "      <td>80</td>\n",
       "      <td>c46090c887c257b61ab1fa11baee91d8</td>\n",
       "      <td>241</td>\n",
       "      <td>88</td>\n",
       "      <td>0f951a030abdaedd733ee8d114ce2944</td>\n",
       "      <td>3427</td>\n",
       "      <td>10052,10074,10063,10024,10006,10048,10083,1005...</td>\n",
       "    </tr>\n",
       "    <tr>\n",
       "      <th>1666675</th>\n",
       "      <td>0</td>\n",
       "      <td>3</td>\n",
       "      <td>18</td>\n",
       "      <td>6d98654bc9d7b233d3c9853fabd2e37f</td>\n",
       "      <td>1</td>\n",
       "      <td>u_Vh5hLeC83TLhQda</td>\n",
       "      <td>windows_ie</td>\n",
       "      <td>60.209.152.*</td>\n",
       "      <td>146</td>\n",
       "      <td>148</td>\n",
       "      <td>...</td>\n",
       "      <td>90</td>\n",
       "      <td>0</td>\n",
       "      <td>0</td>\n",
       "      <td>50</td>\n",
       "      <td>c46090c887c257b61ab1fa11baee91d8</td>\n",
       "      <td>241</td>\n",
       "      <td>55</td>\n",
       "      <td>0f951a030abdaedd733ee8d114ce2944</td>\n",
       "      <td>3427</td>\n",
       "      <td>10006,13403,10063</td>\n",
       "    </tr>\n",
       "    <tr>\n",
       "      <th>25331</th>\n",
       "      <td>0</td>\n",
       "      <td>2</td>\n",
       "      <td>0</td>\n",
       "      <td>68833053e914594ee145d0b96f8bb28b</td>\n",
       "      <td>1</td>\n",
       "      <td>u_DAN01u7puk4</td>\n",
       "      <td>windows_ie</td>\n",
       "      <td>222.134.170.*</td>\n",
       "      <td>146</td>\n",
       "      <td>150</td>\n",
       "      <td>...</td>\n",
       "      <td>280</td>\n",
       "      <td>OtherView</td>\n",
       "      <td>Na</td>\n",
       "      <td>5</td>\n",
       "      <td>10720</td>\n",
       "      <td>277</td>\n",
       "      <td>81</td>\n",
       "      <td>null</td>\n",
       "      <td>2821</td>\n",
       "      <td>null</td>\n",
       "    </tr>\n",
       "    <tr>\n",
       "      <th>968734</th>\n",
       "      <td>0</td>\n",
       "      <td>4</td>\n",
       "      <td>21</td>\n",
       "      <td>dc080eecedf7220c25a7e54a1c69f3f4</td>\n",
       "      <td>1</td>\n",
       "      <td>u_Vh5_16z8Otmdt-R</td>\n",
       "      <td>windows_ie</td>\n",
       "      <td>58.209.97.*</td>\n",
       "      <td>80</td>\n",
       "      <td>85</td>\n",
       "      <td>...</td>\n",
       "      <td>250</td>\n",
       "      <td>0</td>\n",
       "      <td>0</td>\n",
       "      <td>5</td>\n",
       "      <td>798b2d49952d77f1eace9f23c210d0b5</td>\n",
       "      <td>238</td>\n",
       "      <td>5</td>\n",
       "      <td>0f951a030abdaedd733ee8d114ce2944</td>\n",
       "      <td>3427</td>\n",
       "      <td>13866,10111</td>\n",
       "    </tr>\n",
       "  </tbody>\n",
       "</table>\n",
       "<p>5 rows × 26 columns</p>\n",
       "</div>"
      ],
      "text/plain": [
       "         click  weekday  hour                             bidid  logtype  \\\n",
       "771532       0        1    18  ca22a918b50e3b21038352d0e56bf43b        1   \n",
       "2491178      0        5     3  766da4eefb0f6ecc7cfb4c953d38cdb1        1   \n",
       "1666675      0        3    18  6d98654bc9d7b233d3c9853fabd2e37f        1   \n",
       "25331        0        2     0  68833053e914594ee145d0b96f8bb28b        1   \n",
       "968734       0        4    21  dc080eecedf7220c25a7e54a1c69f3f4        1   \n",
       "\n",
       "                    userid   useragent             IP  region  city  \\\n",
       "771532   u_VhLYLv5p3HsTqBL  windows_ie   218.74.108.*      94   105   \n",
       "2491178  u_Z02R1wcxPl5clbk  windows_ie   111.77.229.*     134   141   \n",
       "1666675  u_Vh5hLeC83TLhQda  windows_ie   60.209.152.*     146   148   \n",
       "25331        u_DAN01u7puk4  windows_ie  222.134.170.*     146   150   \n",
       "968734   u_Vh5_16z8Otmdt-R  windows_ie    58.209.97.*      80    85   \n",
       "\n",
       "                               ...                         slotheight  \\\n",
       "771532                         ...                                 90   \n",
       "2491178                        ...                                 90   \n",
       "1666675                        ...                                 90   \n",
       "25331                          ...                                280   \n",
       "968734                         ...                                250   \n",
       "\n",
       "        slotvisibility slotformat slotprice                          creative  \\\n",
       "771532               0          0        70  0cd33fcb336655841d3e1441b915748d   \n",
       "2491178              0          0        80  c46090c887c257b61ab1fa11baee91d8   \n",
       "1666675              0          0        50  c46090c887c257b61ab1fa11baee91d8   \n",
       "25331        OtherView         Na         5                             10720   \n",
       "968734               0          0         5  798b2d49952d77f1eace9f23c210d0b5   \n",
       "\n",
       "         bidprice  payprice                           keypage advertiser  \\\n",
       "771532        254        73  c8758e8658b05bc3a88af7b37bdf0575       3476   \n",
       "2491178       241        88  0f951a030abdaedd733ee8d114ce2944       3427   \n",
       "1666675       241        55  0f951a030abdaedd733ee8d114ce2944       3427   \n",
       "25331         277        81                              null       2821   \n",
       "968734        238         5  0f951a030abdaedd733ee8d114ce2944       3427   \n",
       "\n",
       "                                                   usertag  \n",
       "771532   10063,10024,10052,13403,10057,14273,10077,1003...  \n",
       "2491178  10052,10074,10063,10024,10006,10048,10083,1005...  \n",
       "1666675                                  10006,13403,10063  \n",
       "25331                                                 null  \n",
       "968734                                         13866,10111  \n",
       "\n",
       "[5 rows x 26 columns]"
      ]
     },
     "execution_count": 11,
     "metadata": {},
     "output_type": "execute_result"
    }
   ],
   "source": [
    "sample.head()"
   ]
  },
  {
   "cell_type": "code",
   "execution_count": 6,
   "metadata": {
    "collapsed": true
   },
   "outputs": [],
   "source": [
    "#Constant bidding strategy - Just using the mean value as the bidding"
   ]
  },
  {
   "cell_type": "code",
   "execution_count": 61,
   "metadata": {
    "collapsed": false
   },
   "outputs": [],
   "source": [
    "#Constant bid price at 274 - the mean value \n",
    "def constant_bid(dataframe, flag=0):\n",
    "    for i in range(len(dataframe)):\n",
    "        bid_id = dataframe.iloc[i].bidid;\n",
    "        bid_price = int(274);\n",
    "        if flag == 1:\n",
    "            print('Bid_id: '+ bid_id + ' ,' ,'Bid_price: '+ str(bid_price))  #controlled\n",
    "    clicks = dataframe[dataframe.bidprice <= bid_price].click.value_counts().sort_index().tolist()\n",
    "    wins= sum(dataframe[dataframe.bidprice <= bid_price].click.value_counts())\n",
    "    win_ratio = round((wins/dataframe.shape[0])*100,2)\n",
    "    print ('Summary')\n",
    "    print ('-----------------------------------')\n",
    "    print ('Number of impressions: '+ str(dataframe.shape[0]))\n",
    "    print ('Win counts: '+ str(wins))\n",
    "    print ('Win percentage: '+ str(win_ratio)+'%')\n",
    "    if len(clicks) < 2:\n",
    "        CTR = '0.00'  \n",
    "        clicks = '0'\n",
    "        print ('Clicks: '+ clicks)\n",
    "    else:\n",
    "        CTR = round((clicks[1]/clicks[0])*100,3)\n",
    "        print ('Clicks: '+ str(clicks[1]))\n",
    "    print ('CTR: '+ str(CTR)+ '%')"
   ]
  },
  {
   "cell_type": "code",
   "execution_count": 8,
   "metadata": {
    "collapsed": false
   },
   "outputs": [],
   "source": [
    "#lower boundary = 249 min bid price / upper boundary = any i.e 300-1 = 299\n",
    "def random_bid(dataframe):\n",
    "    for i in range(len(dataframe)):\n",
    "        bid_id = dataframe.iloc[i].bidid;\n",
    "        bid_price = np.random.randint(low=249,high=302);  \n",
    "        print('Bid_id: '+ bid_id + ' ,' ,'Bid_price: '+ str(bid_price)) "
   ]
  },
  {
   "cell_type": "code",
   "execution_count": 64,
   "metadata": {
    "collapsed": false,
    "scrolled": true
   },
   "outputs": [
    {
     "name": "stdout",
     "output_type": "stream",
     "text": [
      "Summary\n",
      "-----------------------------------\n",
      "Number of impressions: 2697738\n",
      "Win counts: 1105591\n",
      "Win percentage: 40.98%\n",
      "Clicks: 748\n",
      "CTR: 0.068%\n"
     ]
    }
   ],
   "source": [
    "constant_bid(df)"
   ]
  },
  {
   "cell_type": "code",
   "execution_count": 11,
   "metadata": {
    "collapsed": false
   },
   "outputs": [
    {
     "name": "stdout",
     "output_type": "stream",
     "text": [
      "Bid_id: 873a1e86b26ee1070bc114c7ef4c8813 , Bid_price: 282\n",
      "Bid_id: 9f0e5bf6742ec62deb772b9e4abb8af1 , Bid_price: 293\n",
      "Bid_id: c167582bbd9f321a6794358a3e58f61e , Bid_price: 299\n",
      "Bid_id: b9b40241c2ec439a0951881b57a563e9 , Bid_price: 299\n",
      "Bid_id: 29b2fba66718b285346b9e32a424078e , Bid_price: 287\n"
     ]
    }
   ],
   "source": [
    "random_bid(sample)"
   ]
  },
  {
   "cell_type": "code",
   "execution_count": 12,
   "metadata": {
    "collapsed": true
   },
   "outputs": [],
   "source": [
    "#Evaluation tool"
   ]
  },
  {
   "cell_type": "code",
   "execution_count": 19,
   "metadata": {
    "collapsed": false
   },
   "outputs": [
    {
     "name": "stdout",
     "output_type": "stream",
     "text": [
      "Bid_id: 873a1e86b26ee1070bc114c7ef4c8813 , Bid_price: 271\n",
      "Bid_id: 9f0e5bf6742ec62deb772b9e4abb8af1 , Bid_price: 293\n",
      "Bid_id: c167582bbd9f321a6794358a3e58f61e , Bid_price: 291\n",
      "Bid_id: b9b40241c2ec439a0951881b57a563e9 , Bid_price: 298\n",
      "Bid_id: 29b2fba66718b285346b9e32a424078e , Bid_price: 274\n"
     ]
    }
   ],
   "source": [
    "out = random_bid(sample)"
   ]
  },
  {
   "cell_type": "code",
   "execution_count": 19,
   "metadata": {
    "collapsed": false
   },
   "outputs": [],
   "source": [
    "example = sample[sample.bidprice <= 274].click.value_counts().sort_index().tolist()\n",
    "win= sum(sample[sample.bidprice <= 274].click.value_counts())\n",
    "win_ratio = round((win/sample.shape[0])*100,2)\n",
    "#CTR = e"
   ]
  },
  {
   "cell_type": "code",
   "execution_count": 55,
   "metadata": {
    "collapsed": false
   },
   "outputs": [
    {
     "data": {
      "text/plain": [
       "0    2999\n",
       "1       1\n",
       "Name: click, dtype: int64"
      ]
     },
     "execution_count": 55,
     "metadata": {},
     "output_type": "execute_result"
    }
   ],
   "source": [
    "sample.click.value_counts()"
   ]
  },
  {
   "cell_type": "code",
   "execution_count": 10,
   "metadata": {
    "collapsed": false
   },
   "outputs": [
    {
     "data": {
      "text/plain": [
       "[1231, 1]"
      ]
     },
     "execution_count": 10,
     "metadata": {},
     "output_type": "execute_result"
    }
   ],
   "source": [
    "sample[sample.bidprice <= 274].click.value_counts().tolist()"
   ]
  },
  {
   "cell_type": "code",
   "execution_count": 52,
   "metadata": {
    "collapsed": false
   },
   "outputs": [
    {
     "data": {
      "text/plain": [
       "1273"
      ]
     },
     "execution_count": 52,
     "metadata": {},
     "output_type": "execute_result"
    }
   ],
   "source": [
    "sum(sample[sample.bidprice <= 274].click.value_counts())"
   ]
  },
  {
   "cell_type": "code",
   "execution_count": 59,
   "metadata": {
    "collapsed": false
   },
   "outputs": [
    {
     "data": {
      "text/plain": [
       "0.15735641227380015"
      ]
     },
     "execution_count": 59,
     "metadata": {},
     "output_type": "execute_result"
    }
   ],
   "source": [
    "(example[1]/example[0])*100 #CTR of the won impressions"
   ]
  },
  {
   "cell_type": "code",
   "execution_count": 56,
   "metadata": {
    "collapsed": false
   },
   "outputs": [
    {
     "data": {
      "text/plain": [
       "[1271, 2]"
      ]
     },
     "execution_count": 56,
     "metadata": {},
     "output_type": "execute_result"
    }
   ],
   "source": [
    "example"
   ]
  },
  {
   "cell_type": "code",
   "execution_count": 60,
   "metadata": {
    "collapsed": false
   },
   "outputs": [
    {
     "data": {
      "text/plain": [
       "1273"
      ]
     },
     "execution_count": 60,
     "metadata": {},
     "output_type": "execute_result"
    }
   ],
   "source": [
    "win"
   ]
  },
  {
   "cell_type": "code",
   "execution_count": 71,
   "metadata": {
    "collapsed": false
   },
   "outputs": [
    {
     "data": {
      "text/plain": [
       "3000"
      ]
     },
     "execution_count": 71,
     "metadata": {},
     "output_type": "execute_result"
    }
   ],
   "source": [
    "sample.shape[0]"
   ]
  },
  {
   "cell_type": "code",
   "execution_count": 77,
   "metadata": {
    "collapsed": false
   },
   "outputs": [
    {
     "data": {
      "text/plain": [
       "42.43"
      ]
     },
     "execution_count": 77,
     "metadata": {},
     "output_type": "execute_result"
    }
   ],
   "source": [
    "win_ratio"
   ]
  },
  {
   "cell_type": "code",
   "execution_count": 10,
   "metadata": {
    "collapsed": false
   },
   "outputs": [
    {
     "data": {
      "text/plain": [
       "range(0, 5)"
      ]
     },
     "execution_count": 10,
     "metadata": {},
     "output_type": "execute_result"
    }
   ],
   "source": [
    "range(len(sample))"
   ]
  },
  {
   "cell_type": "code",
   "execution_count": 35,
   "metadata": {
    "collapsed": false
   },
   "outputs": [
    {
     "data": {
      "text/plain": [
       "'2912cb5947e1fad450e2473c2f61ef75'"
      ]
     },
     "execution_count": 35,
     "metadata": {},
     "output_type": "execute_result"
    }
   ],
   "source": [
    "sample.iloc[2].bidid"
   ]
  },
  {
   "cell_type": "code",
   "execution_count": 37,
   "metadata": {
    "collapsed": false
   },
   "outputs": [
    {
     "data": {
      "text/plain": [
       "272.4581797787628"
      ]
     },
     "execution_count": 37,
     "metadata": {},
     "output_type": "execute_result"
    }
   ],
   "source": [
    "df.bidprice.mean()"
   ]
  },
  {
   "cell_type": "code",
   "execution_count": 13,
   "metadata": {
    "collapsed": false
   },
   "outputs": [
    {
     "data": {
      "text/html": [
       "<div>\n",
       "<table border=\"1\" class=\"dataframe\">\n",
       "  <thead>\n",
       "    <tr style=\"text-align: right;\">\n",
       "      <th></th>\n",
       "      <th>click</th>\n",
       "      <th>weekday</th>\n",
       "      <th>hour</th>\n",
       "      <th>bidid</th>\n",
       "      <th>logtype</th>\n",
       "      <th>userid</th>\n",
       "      <th>useragent</th>\n",
       "      <th>IP</th>\n",
       "      <th>region</th>\n",
       "      <th>city</th>\n",
       "      <th>...</th>\n",
       "      <th>slotheight</th>\n",
       "      <th>slotvisibility</th>\n",
       "      <th>slotformat</th>\n",
       "      <th>slotprice</th>\n",
       "      <th>creative</th>\n",
       "      <th>bidprice</th>\n",
       "      <th>payprice</th>\n",
       "      <th>keypage</th>\n",
       "      <th>advertiser</th>\n",
       "      <th>usertag</th>\n",
       "    </tr>\n",
       "  </thead>\n",
       "  <tbody>\n",
       "    <tr>\n",
       "      <th>1146080</th>\n",
       "      <td>0</td>\n",
       "      <td>5</td>\n",
       "      <td>22</td>\n",
       "      <td>4d42e6ece9cd46170a9156d4d9c99a22</td>\n",
       "      <td>1</td>\n",
       "      <td>u_Vh5z1kFAOqFLjhk</td>\n",
       "      <td>windows_ie</td>\n",
       "      <td>106.86.185.*</td>\n",
       "      <td>275</td>\n",
       "      <td>275</td>\n",
       "      <td>...</td>\n",
       "      <td>90</td>\n",
       "      <td>0</td>\n",
       "      <td>0</td>\n",
       "      <td>70</td>\n",
       "      <td>c46090c887c257b61ab1fa11baee91d8</td>\n",
       "      <td>241</td>\n",
       "      <td>77</td>\n",
       "      <td>0f951a030abdaedd733ee8d114ce2944</td>\n",
       "      <td>3427</td>\n",
       "      <td>13403,10006,10031,10110</td>\n",
       "    </tr>\n",
       "    <tr>\n",
       "      <th>615199</th>\n",
       "      <td>0</td>\n",
       "      <td>0</td>\n",
       "      <td>18</td>\n",
       "      <td>3bf592dd2813231b7bd8a814790a4e01</td>\n",
       "      <td>1</td>\n",
       "      <td>u_VhkRLDKtD9FHFOk</td>\n",
       "      <td>windows_ie</td>\n",
       "      <td>218.94.152.*</td>\n",
       "      <td>80</td>\n",
       "      <td>81</td>\n",
       "      <td>...</td>\n",
       "      <td>250</td>\n",
       "      <td>2</td>\n",
       "      <td>1</td>\n",
       "      <td>0</td>\n",
       "      <td>00fccc64a1ee2809348509b7ac2a97a5</td>\n",
       "      <td>227</td>\n",
       "      <td>25</td>\n",
       "      <td>b2e35064f3549d447edbbdfb1f707c8c</td>\n",
       "      <td>3427</td>\n",
       "      <td>null</td>\n",
       "    </tr>\n",
       "    <tr>\n",
       "      <th>1068861</th>\n",
       "      <td>0</td>\n",
       "      <td>5</td>\n",
       "      <td>2</td>\n",
       "      <td>106c8a604b3894f7be19f671c677d6a1</td>\n",
       "      <td>1</td>\n",
       "      <td>u_VhkxLvpL3vpZGml</td>\n",
       "      <td>windows_ie</td>\n",
       "      <td>14.146.14.*</td>\n",
       "      <td>216</td>\n",
       "      <td>217</td>\n",
       "      <td>...</td>\n",
       "      <td>90</td>\n",
       "      <td>0</td>\n",
       "      <td>0</td>\n",
       "      <td>70</td>\n",
       "      <td>a10c31a8ff5f42930b4c34035e523886</td>\n",
       "      <td>241</td>\n",
       "      <td>77</td>\n",
       "      <td>d29e59bf0f7f8243858b8183f14d4412</td>\n",
       "      <td>3358</td>\n",
       "      <td>10083,10110</td>\n",
       "    </tr>\n",
       "    <tr>\n",
       "      <th>2550904</th>\n",
       "      <td>0</td>\n",
       "      <td>5</td>\n",
       "      <td>1</td>\n",
       "      <td>b974751eb151b1945ab6b7ad14a6f858</td>\n",
       "      <td>1</td>\n",
       "      <td>u_Z0TL1adP3Tb8uoL</td>\n",
       "      <td>windows_ie</td>\n",
       "      <td>112.3.158.*</td>\n",
       "      <td>80</td>\n",
       "      <td>90</td>\n",
       "      <td>...</td>\n",
       "      <td>600</td>\n",
       "      <td>1</td>\n",
       "      <td>0</td>\n",
       "      <td>5</td>\n",
       "      <td>80a776343079ed94d424f4607b35fd39</td>\n",
       "      <td>249</td>\n",
       "      <td>11</td>\n",
       "      <td>aa4976c67db0f076c563a29f6697928b</td>\n",
       "      <td>3476</td>\n",
       "      <td>13866,10063,10006,10052,10110</td>\n",
       "    </tr>\n",
       "    <tr>\n",
       "      <th>638571</th>\n",
       "      <td>0</td>\n",
       "      <td>2</td>\n",
       "      <td>22</td>\n",
       "      <td>38b57422030e7f53e24e26d4588ab6a4</td>\n",
       "      <td>1</td>\n",
       "      <td>u_Vh131pTcOHscFGR</td>\n",
       "      <td>windows_chrome</td>\n",
       "      <td>124.118.94.*</td>\n",
       "      <td>374</td>\n",
       "      <td>381</td>\n",
       "      <td>...</td>\n",
       "      <td>90</td>\n",
       "      <td>0</td>\n",
       "      <td>0</td>\n",
       "      <td>20</td>\n",
       "      <td>86c2543527c86a893d4d4f68810a0416</td>\n",
       "      <td>300</td>\n",
       "      <td>50</td>\n",
       "      <td>43f4a37f42a7c5e6219e2601b26c6976</td>\n",
       "      <td>3386</td>\n",
       "      <td>10031,13042,10063,10110</td>\n",
       "    </tr>\n",
       "  </tbody>\n",
       "</table>\n",
       "<p>5 rows × 26 columns</p>\n",
       "</div>"
      ],
      "text/plain": [
       "         click  weekday  hour                             bidid  logtype  \\\n",
       "1146080      0        5    22  4d42e6ece9cd46170a9156d4d9c99a22        1   \n",
       "615199       0        0    18  3bf592dd2813231b7bd8a814790a4e01        1   \n",
       "1068861      0        5     2  106c8a604b3894f7be19f671c677d6a1        1   \n",
       "2550904      0        5     1  b974751eb151b1945ab6b7ad14a6f858        1   \n",
       "638571       0        2    22  38b57422030e7f53e24e26d4588ab6a4        1   \n",
       "\n",
       "                    userid       useragent            IP  region  city  \\\n",
       "1146080  u_Vh5z1kFAOqFLjhk      windows_ie  106.86.185.*     275   275   \n",
       "615199   u_VhkRLDKtD9FHFOk      windows_ie  218.94.152.*      80    81   \n",
       "1068861  u_VhkxLvpL3vpZGml      windows_ie   14.146.14.*     216   217   \n",
       "2550904  u_Z0TL1adP3Tb8uoL      windows_ie   112.3.158.*      80    90   \n",
       "638571   u_Vh131pTcOHscFGR  windows_chrome  124.118.94.*     374   381   \n",
       "\n",
       "                     ...               slotheight slotvisibility slotformat  \\\n",
       "1146080              ...                       90              0          0   \n",
       "615199               ...                      250              2          1   \n",
       "1068861              ...                       90              0          0   \n",
       "2550904              ...                      600              1          0   \n",
       "638571               ...                       90              0          0   \n",
       "\n",
       "        slotprice                          creative  bidprice  payprice  \\\n",
       "1146080        70  c46090c887c257b61ab1fa11baee91d8       241        77   \n",
       "615199          0  00fccc64a1ee2809348509b7ac2a97a5       227        25   \n",
       "1068861        70  a10c31a8ff5f42930b4c34035e523886       241        77   \n",
       "2550904         5  80a776343079ed94d424f4607b35fd39       249        11   \n",
       "638571         20  86c2543527c86a893d4d4f68810a0416       300        50   \n",
       "\n",
       "                                  keypage advertiser  \\\n",
       "1146080  0f951a030abdaedd733ee8d114ce2944       3427   \n",
       "615199   b2e35064f3549d447edbbdfb1f707c8c       3427   \n",
       "1068861  d29e59bf0f7f8243858b8183f14d4412       3358   \n",
       "2550904  aa4976c67db0f076c563a29f6697928b       3476   \n",
       "638571   43f4a37f42a7c5e6219e2601b26c6976       3386   \n",
       "\n",
       "                               usertag  \n",
       "1146080        13403,10006,10031,10110  \n",
       "615199                            null  \n",
       "1068861                    10083,10110  \n",
       "2550904  13866,10063,10006,10052,10110  \n",
       "638571         10031,13042,10063,10110  \n",
       "\n",
       "[5 rows x 26 columns]"
      ]
     },
     "execution_count": 13,
     "metadata": {},
     "output_type": "execute_result"
    }
   ],
   "source": [
    "df.sample(n=5)"
   ]
  },
  {
   "cell_type": "code",
   "execution_count": 39,
   "metadata": {
    "collapsed": false
   },
   "outputs": [
    {
     "data": {
      "text/plain": [
       "9"
      ]
     },
     "execution_count": 39,
     "metadata": {},
     "output_type": "execute_result"
    }
   ],
   "source": [
    "np.random.randint(low=5,high=11)   "
   ]
  },
  {
   "cell_type": "code",
   "execution_count": null,
   "metadata": {
    "collapsed": true
   },
   "outputs": [],
   "source": []
  },
  {
   "cell_type": "code",
   "execution_count": null,
   "metadata": {
    "collapsed": true
   },
   "outputs": [],
   "source": []
  }
 ],
 "metadata": {
  "anaconda-cloud": {},
  "kernelspec": {
   "display_name": "Python [default]",
   "language": "python",
   "name": "python3"
  },
  "language_info": {
   "codemirror_mode": {
    "name": "ipython",
    "version": 3
   },
   "file_extension": ".py",
   "mimetype": "text/x-python",
   "name": "python",
   "nbconvert_exporter": "python",
   "pygments_lexer": "ipython3",
   "version": "3.5.2"
  }
 },
 "nbformat": 4,
 "nbformat_minor": 1
}

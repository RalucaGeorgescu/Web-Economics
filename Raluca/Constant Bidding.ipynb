{
 "cells": [
  {
   "cell_type": "code",
   "execution_count": null,
   "metadata": {
    "collapsed": true
   },
   "outputs": [],
   "source": []
  },
  {
   "cell_type": "code",
   "execution_count": 2,
   "metadata": {
    "collapsed": true
   },
   "outputs": [],
   "source": [
    "import numpy as np\n",
    "import pandas as pd\n",
    "\n",
    "df = pd.read_csv(\"dataset/train.csv\")\n",
    "df_valid = pd.read_csv(\"dataset/validation.csv\")"
   ]
  },
  {
   "cell_type": "code",
   "execution_count": 3,
   "metadata": {
    "collapsed": true
   },
   "outputs": [],
   "source": [
    "train_split = np.array_split(df, 1)\n",
    "train = train_split[0]\n",
    "train_y = train['click']\n",
    "\n",
    "cols = ['click', 'weekday', 'hour', 'bidid', 'logtype', 'userid', 'useragent',\n",
    "       'IP', 'region', 'city', 'adexchange', 'domain', 'url', 'urlid',\n",
    "       'slotid', 'slotwidth', 'slotheight', 'slotvisibility', 'slotformat',\n",
    "       'slotprice', 'creative', 'payprice', 'keypage',\n",
    "       'advertiser', 'usertag', 'bidprice']\n",
    "\n",
    "train_x = train[cols]"
   ]
  },
  {
   "cell_type": "code",
   "execution_count": 4,
   "metadata": {
    "collapsed": true
   },
   "outputs": [],
   "source": [
    "valid_cols = ['weekday', 'bidid', 'hour', 'userid', 'useragent',\n",
    "       'IP', 'region', 'city', 'adexchange', 'domain', 'url', 'urlid',\n",
    "       'slotid', 'slotwidth', 'slotheight', 'slotvisibility', 'slotformat',\n",
    "       'slotprice', 'creative', 'keypage',\n",
    "       'advertiser', 'usertag']\n",
    "\n",
    "valid_split = np.array_split(df_valid, 1)\n",
    "valid = valid_split[0]\n",
    "valid_x = valid[valid_cols]"
   ]
  },
  {
   "cell_type": "code",
   "execution_count": 9,
   "metadata": {
    "collapsed": false
   },
   "outputs": [
    {
     "name": "stderr",
     "output_type": "stream",
     "text": [
      "/Library/Frameworks/Python.framework/Versions/3.6/lib/python3.6/site-packages/ipykernel/__main__.py:4: SettingWithCopyWarning: \n",
      "A value is trying to be set on a copy of a slice from a DataFrame.\n",
      "Try using .loc[row_indexer,col_indexer] = value instead\n",
      "\n",
      "See the caveats in the documentation: http://pandas.pydata.org/pandas-docs/stable/indexing.html#indexing-view-versus-copy\n",
      "/Library/Frameworks/Python.framework/Versions/3.6/lib/python3.6/site-packages/ipykernel/__main__.py:5: SettingWithCopyWarning: \n",
      "A value is trying to be set on a copy of a slice from a DataFrame.\n",
      "Try using .loc[row_indexer,col_indexer] = value instead\n",
      "\n",
      "See the caveats in the documentation: http://pandas.pydata.org/pandas-docs/stable/indexing.html#indexing-view-versus-copy\n",
      "/Library/Frameworks/Python.framework/Versions/3.6/lib/python3.6/site-packages/ipykernel/__main__.py:6: SettingWithCopyWarning: \n",
      "A value is trying to be set on a copy of a slice from a DataFrame.\n",
      "Try using .loc[row_indexer,col_indexer] = value instead\n",
      "\n",
      "See the caveats in the documentation: http://pandas.pydata.org/pandas-docs/stable/indexing.html#indexing-view-versus-copy\n"
     ]
    },
    {
     "name": "stdout",
     "output_type": "stream",
     "text": [
      "Budget over\n",
      "Clicks: 65\n",
      "Impressions: 73765\n"
     ]
    }
   ],
   "source": [
    "budget = 6250\n",
    "clicks = 0\n",
    "impressions = 0\n",
    "valid_x['payprice'] = valid['payprice']\n",
    "valid_x['bidprice'] = valid['bidprice']\n",
    "valid_x['click'] = valid['click']\n",
    "\n",
    "for i in range(0,len(valid_x)):\n",
    "    if budget > 0 and budget>valid_x['payprice'][i]/1000: \n",
    "        if 300 > valid_x['bidprice'][i]:\n",
    "            clicks += valid_x['click'][i]\n",
    "            impressions += 1 \n",
    "            budget -= valid_x['payprice'][i]/1000\n",
    "    else:\n",
    "        print('Budget over')\n",
    "        break\n",
    "\n",
    "print(\"Clicks: \" + str(clicks))\n",
    "print(\"Impressions: \" + str(impressions))"
   ]
  },
  {
   "cell_type": "code",
   "execution_count": 10,
   "metadata": {
    "collapsed": false
   },
   "outputs": [
    {
     "name": "stdout",
     "output_type": "stream",
     "text": [
      "0.0881176709822\n",
      "96.1523846154\n",
      "84.7272419169\n"
     ]
    }
   ],
   "source": [
    "CTR = (clicks/impressions) * 100\n",
    "eCPC = (6250-budget)/clicks\n",
    "CPM = ((6250-budget)/impressions) * 1000\n",
    "\n",
    "print(CTR)\n",
    "print(eCPC)\n",
    "print(CPM)"
   ]
  }
 ],
 "metadata": {
  "kernelspec": {
   "display_name": "Python 3",
   "language": "python",
   "name": "python3"
  },
  "language_info": {
   "codemirror_mode": {
    "name": "ipython",
    "version": 3
   },
   "file_extension": ".py",
   "mimetype": "text/x-python",
   "name": "python",
   "nbconvert_exporter": "python",
   "pygments_lexer": "ipython3",
   "version": "3.6.0"
  }
 },
 "nbformat": 4,
 "nbformat_minor": 2
}

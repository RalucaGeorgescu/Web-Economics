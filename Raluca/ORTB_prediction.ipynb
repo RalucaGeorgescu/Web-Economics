{
 "cells": [
  {
   "cell_type": "markdown",
   "metadata": {
    "collapsed": true,
    "deletable": true,
    "editable": true
   },
   "source": [
    "# Load data"
   ]
  },
  {
   "cell_type": "code",
   "execution_count": 2,
   "metadata": {
    "collapsed": false,
    "deletable": true,
    "editable": true
   },
   "outputs": [],
   "source": [
    "import numpy as np\n",
    "import xgboost\n",
    "import pandas as pd\n",
    "\n",
    "df = pd.read_csv(\"dataset/train.csv\")\n",
    "df_valid = pd.read_csv(\"dataset/validation.csv\")\n",
    "df_test = pd.read_csv(\"dataset/test.csv\")"
   ]
  },
  {
   "cell_type": "markdown",
   "metadata": {},
   "source": [
    "## Create Train Set"
   ]
  },
  {
   "cell_type": "code",
   "execution_count": 3,
   "metadata": {
    "collapsed": false,
    "deletable": true,
    "editable": true
   },
   "outputs": [],
   "source": [
    "train_split = np.array_split(df, 1)\n",
    "train = train_split[0]\n",
    "train_y = train['click']\n",
    "\n",
    "cols = ['click', 'weekday', 'hour', 'bidid', 'logtype', 'userid', 'useragent',\n",
    "       'IP', 'region', 'city', 'adexchange', 'domain', 'url', 'urlid',\n",
    "       'slotid', 'slotwidth', 'slotheight', 'slotvisibility', 'slotformat',\n",
    "       'slotprice', 'creative', 'payprice', 'keypage',\n",
    "       'advertiser', 'usertag', 'bidprice']\n",
    "\n",
    "train_x = train[cols]"
   ]
  },
  {
   "cell_type": "markdown",
   "metadata": {},
   "source": [
    "## Feature Extraction"
   ]
  },
  {
   "cell_type": "code",
   "execution_count": 4,
   "metadata": {
    "collapsed": false,
    "deletable": true,
    "editable": true
   },
   "outputs": [],
   "source": [
    "from sklearn.feature_extraction import DictVectorizer\n",
    "from sklearn.preprocessing import LabelEncoder\n",
    "from collections import defaultdict\n",
    "import re\n",
    "\n",
    "label_encoder = LabelEncoder()\n",
    "vectorizer = DictVectorizer()\n",
    "\n",
    "def get_browser(useragent):\n",
    "    useragent_data = re.split('_',useragent)\n",
    "    return useragent_data[1]\n",
    "\n",
    "def get_os(useragent):\n",
    "    useragent_data = re.split('_',useragent)\n",
    "    return useragent_data[0]\n",
    "\n",
    "def bid_request_features(bid,have_click):\n",
    "    result = defaultdict(float)\n",
    "    result['weekday=' + str(bid['weekday'].item())] += 1.0\n",
    "    result['hour=' + str(bid['hour'].item())] += 1.0\n",
    "    result['userid=' + bid['userid']] += 1.0\n",
    "    result['broswer=' + get_browser(bid['useragent'])] += 1.0\n",
    "    result['os=' + get_os(bid['useragent'])] += 1.0\n",
    "    result['IP=' + bid['IP']] += 1.0\n",
    "    result['region=' + str(bid['region'].item())] += 1.0\n",
    "    result['city=' + str(bid['city'].item())] += 1.0\n",
    "    result['adexchange=' + bid['adexchange']] += 1.0\n",
    "    result['domain=' + bid['domain']] += 1.0\n",
    "    result['url=' + bid['url']] += 1.0\n",
    "    result['slotid=' + bid['slotid']] += 1.0\n",
    "    result['slotwidth=' + str(bid['slotwidth'].item())] += 1.0\n",
    "    result['slotheight=' + str(bid['slotheight'].item())] += 1.0\n",
    "    result['slotvisibility=' + bid['slotvisibility']] += 1.0\n",
    "    result['slotformat=' + bid['slotformat']] += 1.0\n",
    "    result['slotprice=' + str(bid['slotprice'].item())] += 1.0\n",
    "    result['creative=' + bid['creative']] += 1.0\n",
    "    result['keypage=' + bid['keypage']] += 1.0 \n",
    "    result['advertiser=' + str(bid['advertiser'].item())] += 1.0\n",
    "\n",
    "    usertag_data = re.split(',',bid['usertag'])\n",
    "    for tag in usertag_data:\n",
    "        result['usertag=' + str(tag)] += 1.0\n",
    "        \n",
    "    if have_click == 1:\n",
    "        result['click=' + str(bid['click'].item())] += 1.0\n",
    "        \n",
    "    return result"
   ]
  },
  {
   "cell_type": "code",
   "execution_count": 4,
   "metadata": {
    "collapsed": false,
    "deletable": true,
    "editable": true
   },
   "outputs": [
    {
     "data": {
      "text/plain": [
       "defaultdict(float,\n",
       "            {'IP=180.107.112.*': 1.0,\n",
       "             'adexchange=2': 1.0,\n",
       "             'advertiser=1458': 1.0,\n",
       "             'broswer=ie': 1.0,\n",
       "             'city=85': 1.0,\n",
       "             'creative=612599432d200b093719dd1f372f7a30': 1.0,\n",
       "             'domain=trqRTuToMTNUjM9r5rMi': 1.0,\n",
       "             'hour=14': 1.0,\n",
       "             'keypage=bebefa5efe83beee17a3d245e7c5085b': 1.0,\n",
       "             'os=windows': 1.0,\n",
       "             'region=80': 1.0,\n",
       "             'slotformat=0': 1.0,\n",
       "             'slotheight=60': 1.0,\n",
       "             'slotid=433287550': 1.0,\n",
       "             'slotprice=5': 1.0,\n",
       "             'slotvisibility=1': 1.0,\n",
       "             'slotwidth=468': 1.0,\n",
       "             'url=d48a96ab59d7ad741a48e781de44efeb': 1.0,\n",
       "             'userid=u_Vh1OPkFv3q5CFdR': 1.0,\n",
       "             'usertag=10063': 1.0,\n",
       "             'usertag=13866': 1.0,\n",
       "             'weekday=1': 1.0})"
      ]
     },
     "execution_count": 4,
     "metadata": {},
     "output_type": "execute_result"
    }
   ],
   "source": [
    "bid_request_features(train_x.iloc[0],0)"
   ]
  },
  {
   "cell_type": "code",
   "execution_count": 113,
   "metadata": {
    "collapsed": false,
    "deletable": true,
    "editable": true
   },
   "outputs": [
    {
     "data": {
      "text/plain": [
       "<1x4021134 sparse matrix of type '<class 'numpy.float64'>'\n",
       "\twith 22 stored elements in Compressed Sparse Row format>"
      ]
     },
     "execution_count": 113,
     "metadata": {},
     "output_type": "execute_result"
    }
   ],
   "source": [
    "vectorizer.transform(bid_request_features(train_x.iloc[0],0)) "
   ]
  },
  {
   "cell_type": "code",
   "execution_count": 5,
   "metadata": {
    "collapsed": true,
    "deletable": true,
    "editable": true
   },
   "outputs": [],
   "source": [
    "train_bid_x = vectorizer.fit_transform([bid_request_features(train_x.iloc[i],0) for i in range(len(train_x))])\n",
    "train_bid_y = label_encoder.fit_transform([train_x.iloc[i]['click'] for i in range(len(train_x))])    "
   ]
  },
  {
   "cell_type": "code",
   "execution_count": 6,
   "metadata": {
    "collapsed": false,
    "deletable": true,
    "editable": true
   },
   "outputs": [
    {
     "name": "stdout",
     "output_type": "stream",
     "text": [
      "[LibLinear]"
     ]
    }
   ],
   "source": [
    "from sklearn.linear_model import LogisticRegression, SGDClassifier\n",
    "from sklearn.ensemble import GradientBoostingClassifier, AdaBoostClassifier\n",
    "\n",
    "# model = xgboost.XGBClassifier()\n",
    "# model.fit(train_bid_x, train_bid_y)\n",
    "\n",
    "model = LogisticRegression(C=1.3, penalty='l1', solver='liblinear', class_weight = 'balanced', verbose = 1)\n",
    "model = model.fit(train_bid_x, train_bid_y)\n",
    "\n",
    "# model = GradientBoostingClassifier()\n",
    "# model = model.fit(train_bid_x, train_bid_y)\n",
    "\n",
    "# model = AdaBoostClassifier()\n",
    "# model = model.fit(train_bid_x, train_bid_y)"
   ]
  },
  {
   "cell_type": "code",
   "execution_count": null,
   "metadata": {
    "collapsed": true,
    "deletable": true,
    "editable": true
   },
   "outputs": [],
   "source": [
    "model_isotonic = CalibratedClassifierCV(model, cv=2, method='isotonic')\n",
    "model_isotonic.fit(train_bid_x2, train_bid_y2)"
   ]
  },
  {
   "cell_type": "markdown",
   "metadata": {},
   "source": [
    "## Click Probability Prediction"
   ]
  },
  {
   "cell_type": "code",
   "execution_count": 9,
   "metadata": {
    "collapsed": false,
    "deletable": true,
    "editable": true
   },
   "outputs": [],
   "source": [
    "bid_y= []\n",
    "\n",
    "def predict_click_probab(test_bids):\n",
    "    bid_x = vectorizer.transform([bid_request_features(test_bids.iloc[i],0) for i in range(len(test_bids))])\n",
    "    bid_y.append(model.predict_proba(bid_x))\n",
    "    return bid_y"
   ]
  },
  {
   "cell_type": "markdown",
   "metadata": {},
   "source": [
    "### Experimenting with PCA and SVD and Feature Selection"
   ]
  },
  {
   "cell_type": "code",
   "execution_count": 43,
   "metadata": {
    "collapsed": false,
    "deletable": true,
    "editable": true
   },
   "outputs": [
    {
     "data": {
      "text/plain": [
       "(1, 4021134)"
      ]
     },
     "execution_count": 43,
     "metadata": {},
     "output_type": "execute_result"
    }
   ],
   "source": [
    "from sklearn.decomposition import PCA, TruncatedSVD\n",
    "\n",
    "bid_y = []\n",
    "bid_x = vectorizer.transform([bid_request_features(valid_x.iloc[0],0)])\n",
    "svd = TruncatedSVD(n_iter=7, algorithm='arpack')\n",
    "bid_x_t = bid_x.transpose()\n",
    "bid_x[0].shape"
   ]
  },
  {
   "cell_type": "code",
   "execution_count": 47,
   "metadata": {
    "collapsed": false,
    "deletable": true,
    "editable": true
   },
   "outputs": [],
   "source": [
    "from sklearn.feature_selection import SelectFromModel\n",
    "\n",
    "sfm = SelectFromModel(model, threshold=0.25)\n",
    "sfm.fit(train_bid_x, train_bid_y)"
   ]
  },
  {
   "cell_type": "code",
   "execution_count": 59,
   "metadata": {
    "collapsed": false,
    "deletable": true,
    "editable": true
   },
   "outputs": [],
   "source": [
    "def sfm_transform(bid):\n",
    "    return sfm.transform(bid)[0]"
   ]
  },
  {
   "cell_type": "code",
   "execution_count": 52,
   "metadata": {
    "collapsed": false,
    "deletable": true,
    "editable": true
   },
   "outputs": [
    {
     "data": {
      "text/plain": [
       "<1x3 sparse matrix of type '<class 'numpy.float64'>'\n",
       "\twith 0 stored elements in Compressed Sparse Row format>"
      ]
     },
     "execution_count": 52,
     "metadata": {},
     "output_type": "execute_result"
    }
   ],
   "source": [
    "trf[0]"
   ]
  },
  {
   "cell_type": "code",
   "execution_count": null,
   "metadata": {
    "collapsed": true,
    "deletable": true,
    "editable": true
   },
   "outputs": [],
   "source": [
    "bid_y_iso= []\n",
    "\n",
    "def predict_click_probab(test_bids):\n",
    "    bid_x = vectorizer.transform([bid_request_features(test_bids.iloc[i],0) for i in range(len(test_bids))])\n",
    "    bid_y_iso.append(model_isotonic.predict_proba(bid_x))\n",
    "    return bid_y_iso"
   ]
  },
  {
   "cell_type": "markdown",
   "metadata": {
    "deletable": true,
    "editable": true
   },
   "source": [
    "# Random Bidding Strategy"
   ]
  },
  {
   "cell_type": "code",
   "execution_count": 6,
   "metadata": {
    "collapsed": false,
    "deletable": true,
    "editable": true
   },
   "outputs": [
    {
     "data": {
      "text/plain": [
       "254.52222025761554"
      ]
     },
     "execution_count": 6,
     "metadata": {},
     "output_type": "execute_result"
    }
   ],
   "source": [
    "valid_x['bid_pred_rnd'].mean()"
   ]
  },
  {
   "cell_type": "markdown",
   "metadata": {
    "deletable": true,
    "editable": true
   },
   "source": [
    "- Get random bid price\n",
    "- Assess if you'd win - if your score is bigger than the current bid\n",
    "- If it is, you win it and you deduct cost"
   ]
  },
  {
   "cell_type": "code",
   "execution_count": 7,
   "metadata": {
    "collapsed": false,
    "deletable": true,
    "editable": true
   },
   "outputs": [
    {
     "data": {
      "text/plain": [
       "299749"
      ]
     },
     "execution_count": 7,
     "metadata": {},
     "output_type": "execute_result"
    }
   ],
   "source": [
    "len(valid_x['bid_pred_rnd'])"
   ]
  },
  {
   "cell_type": "code",
   "execution_count": 106,
   "metadata": {
    "collapsed": false,
    "deletable": true,
    "editable": true
   },
   "outputs": [],
   "source": [
    "import random\n",
    "from collections import defaultdict\n",
    "\n",
    "upper_limits = range(450,550,1)\n",
    "click_log = []\n",
    "impr_log = []\n",
    "\n",
    "def generate_random_bid(upper_limit):\n",
    "    bids = []\n",
    "    for i in range(0,len(valid_x)):\n",
    "        bid = random.randrange(0,upper_limit,1)\n",
    "        bids.append(bid) \n",
    "    valid_x['bid_pred_rnd'] = bids   \n",
    "    \n",
    "valid_x['bidprice'] = valid['bidprice']\n",
    "valid_x['payprice'] = valid['payprice']\n",
    "valid_x['click'] = valid['click']\n",
    "\n",
    "def bidding_strategy(limit):\n",
    "    budget = 6250\n",
    "    clicks = 0\n",
    "    impressions = 0\n",
    "    for i in range(0,len(valid_x)):\n",
    "        if budget > 0 or i!=len(valid_x): \n",
    "            if valid_x['bid_pred_rnd'][i] > valid_x['bidprice'][i]:\n",
    "                clicks += valid_x['click'][i]\n",
    "                impressions += 1 \n",
    "                budget -= valid_x['payprice'][i]/1000\n",
    "        else:\n",
    "            break\n",
    "    \n",
    "    click_log.append(clicks)\n",
    "    impr_log.append(impressions)\n",
    "\n",
    "\n",
    "for limit in upper_limits:\n",
    "    generate_random_bid(limit)\n",
    "    bidding_strategy(limit)"
   ]
  },
  {
   "cell_type": "code",
   "execution_count": 110,
   "metadata": {
    "collapsed": false,
    "deletable": true,
    "editable": true
   },
   "outputs": [],
   "source": [
    "CTR = [(a/b)*100 for a,b in zip(click_log,impr_log)]\n",
    "eCPC = [(6250/a) for a in click_log]\n",
    "CPM = [(6250/a)*1000 for a in impr_log]"
   ]
  },
  {
   "cell_type": "code",
   "execution_count": 109,
   "metadata": {
    "collapsed": false,
    "deletable": true,
    "editable": true
   },
   "outputs": [
    {
     "data": {
      "image/png": "[encoded data removed]",
      "text/plain": [
       "<matplotlib.figure.Figure at 0x124fc1400>"
      ]
     },
     "metadata": {},
     "output_type": "display_data"
    },
    {
     "data": {
      "image/png": "[encoded data removed]",
      "text/plain": [
       "<matplotlib.figure.Figure at 0x126c79320>"
      ]
     },
     "metadata": {},
     "output_type": "display_data"
    },
    {
     "data": {
      "image/png": "[encoded data removed]",
      "text/plain": [
       "<matplotlib.figure.Figure at 0x10cd203c8>"
      ]
     },
     "metadata": {},
     "output_type": "display_data"
    },
    {
     "data": {
      "image/png": "[encoded data removed]",
      "text/plain": [
       "<matplotlib.figure.Figure at 0x117f3be10>"
      ]
     },
     "metadata": {},
     "output_type": "display_data"
    },
    {
     "data": {
      "image/png": "[encoded data removed]",
      "text/plain": [
       "<matplotlib.figure.Figure at 0x10cd12e48>"
      ]
     },
     "metadata": {},
     "output_type": "display_data"
    }
   ],
   "source": [
    "import matplotlib.pyplot as plt\n",
    "\n",
    "\n",
    "plt.plot(upper_limits, click_log, 'g')\n",
    "plt.ylabel('Clicks')\n",
    "plt.xlabel('Upper bid value')\n",
    "plt.show()\n",
    "\n",
    "plt.plot(upper_limits, impr_log, 'g')\n",
    "plt.ylabel('Impressions')\n",
    "plt.xlabel('Upper bid value')\n",
    "plt.show()\n",
    "\n",
    "plt.plot(upper_limits, CTR, 'g')\n",
    "plt.ylabel('CTR')\n",
    "plt.xlabel('Upper bid value')\n",
    "plt.show()\n",
    "\n",
    "plt.plot(upper_limits, CPM, 'g')\n",
    "plt.ylabel('CPM')\n",
    "plt.xlabel('Upper bid value')\n",
    "plt.show()\n",
    "\n",
    "plt.plot(upper_limits, eCPC, 'g')\n",
    "plt.ylabel('eCPC')\n",
    "plt.xlabel('Upper bid value')\n",
    "plt.show()"
   ]
  },
  {
   "cell_type": "markdown",
   "metadata": {
    "deletable": true,
    "editable": true
   },
   "source": [
    "## Test click prediction on validation set\n",
    "\n",
    "Test if the clicks predicted by the LR model align with the data in the validation set and minimise the difference."
   ]
  },
  {
   "cell_type": "code",
   "execution_count": 10,
   "metadata": {
    "collapsed": false,
    "deletable": true,
    "editable": true
   },
   "outputs": [],
   "source": [
    "valid_cols = ['weekday', 'bidid', 'hour', 'userid', 'useragent',\n",
    "       'IP', 'region', 'city', 'adexchange', 'domain', 'url', 'urlid',\n",
    "       'slotid', 'slotwidth', 'slotheight', 'slotvisibility', 'slotformat',\n",
    "       'slotprice', 'creative', 'keypage',\n",
    "       'advertiser', 'usertag']\n",
    "\n",
    "valid_split = np.array_split(df_valid, 1)\n",
    "valid = valid_split[0]\n",
    "valid_x = valid[valid_cols]"
   ]
  },
  {
   "cell_type": "markdown",
   "metadata": {},
   "source": [
    "Examples of validation set entries"
   ]
  },
  {
   "cell_type": "code",
   "execution_count": 11,
   "metadata": {
    "collapsed": false,
    "deletable": true,
    "editable": true
   },
   "outputs": [
    {
     "data": {
      "text/html": [
       "<div>\n",
       "<table border=\"1\" class=\"dataframe\">\n",
       "  <thead>\n",
       "    <tr style=\"text-align: right;\">\n",
       "      <th></th>\n",
       "      <th>weekday</th>\n",
       "      <th>bidid</th>\n",
       "      <th>hour</th>\n",
       "      <th>userid</th>\n",
       "      <th>useragent</th>\n",
       "      <th>IP</th>\n",
       "      <th>region</th>\n",
       "      <th>city</th>\n",
       "      <th>adexchange</th>\n",
       "      <th>domain</th>\n",
       "      <th>...</th>\n",
       "      <th>slotid</th>\n",
       "      <th>slotwidth</th>\n",
       "      <th>slotheight</th>\n",
       "      <th>slotvisibility</th>\n",
       "      <th>slotformat</th>\n",
       "      <th>slotprice</th>\n",
       "      <th>creative</th>\n",
       "      <th>keypage</th>\n",
       "      <th>advertiser</th>\n",
       "      <th>usertag</th>\n",
       "    </tr>\n",
       "  </thead>\n",
       "  <tbody>\n",
       "    <tr>\n",
       "      <th>0</th>\n",
       "      <td>5</td>\n",
       "      <td>91c6a6b9e90c0f54d3230815a5a3e22e</td>\n",
       "      <td>14</td>\n",
       "      <td>u_Vhk7C5STO8TZ3s8</td>\n",
       "      <td>windows_ie</td>\n",
       "      <td>14.122.240.*</td>\n",
       "      <td>216</td>\n",
       "      <td>232</td>\n",
       "      <td>1</td>\n",
       "      <td>trqRTJ27Pea7gspy</td>\n",
       "      <td>...</td>\n",
       "      <td>mm_34061467_3440569_11228047</td>\n",
       "      <td>300</td>\n",
       "      <td>250</td>\n",
       "      <td>0</td>\n",
       "      <td>1</td>\n",
       "      <td>0</td>\n",
       "      <td>449a22cd91d9042eda3d3a1b89a22ea8</td>\n",
       "      <td>0f951a030abdaedd733ee8d114ce2944</td>\n",
       "      <td>3427</td>\n",
       "      <td>10006,10063,10059,10111</td>\n",
       "    </tr>\n",
       "    <tr>\n",
       "      <th>1</th>\n",
       "      <td>3</td>\n",
       "      <td>24b3621ad3b063b6c09c541781d534b3</td>\n",
       "      <td>14</td>\n",
       "      <td>u_DANDbCAksMy</td>\n",
       "      <td>android_safari</td>\n",
       "      <td>116.22.55.*</td>\n",
       "      <td>216</td>\n",
       "      <td>217</td>\n",
       "      <td>null</td>\n",
       "      <td>null</td>\n",
       "      <td>...</td>\n",
       "      <td>1</td>\n",
       "      <td>320</td>\n",
       "      <td>50</td>\n",
       "      <td>FirstView</td>\n",
       "      <td>Na</td>\n",
       "      <td>118</td>\n",
       "      <td>11908</td>\n",
       "      <td>null</td>\n",
       "      <td>2997</td>\n",
       "      <td>null</td>\n",
       "    </tr>\n",
       "    <tr>\n",
       "      <th>2</th>\n",
       "      <td>1</td>\n",
       "      <td>6e7bce0a9ad42f479827d37bf9618a9d</td>\n",
       "      <td>13</td>\n",
       "      <td>u_VhkxPnKHPo1H3Vb</td>\n",
       "      <td>windows_ie</td>\n",
       "      <td>60.215.242.*</td>\n",
       "      <td>146</td>\n",
       "      <td>149</td>\n",
       "      <td>3</td>\n",
       "      <td>3FKElpuEMusyJqKbuKz</td>\n",
       "      <td>...</td>\n",
       "      <td>ALLINONE_F_Width1</td>\n",
       "      <td>1000</td>\n",
       "      <td>90</td>\n",
       "      <td>0</td>\n",
       "      <td>0</td>\n",
       "      <td>70</td>\n",
       "      <td>d01411218cc79bc49d2a4078c4093b76</td>\n",
       "      <td>b2e35064f3549d447edbbdfb1f707c8c</td>\n",
       "      <td>3427</td>\n",
       "      <td>null</td>\n",
       "    </tr>\n",
       "  </tbody>\n",
       "</table>\n",
       "<p>3 rows × 22 columns</p>\n",
       "</div>"
      ],
      "text/plain": [
       "   weekday                             bidid  hour             userid  \\\n",
       "0        5  91c6a6b9e90c0f54d3230815a5a3e22e    14  u_Vhk7C5STO8TZ3s8   \n",
       "1        3  24b3621ad3b063b6c09c541781d534b3    14      u_DANDbCAksMy   \n",
       "2        1  6e7bce0a9ad42f479827d37bf9618a9d    13  u_VhkxPnKHPo1H3Vb   \n",
       "\n",
       "        useragent            IP  region  city adexchange               domain  \\\n",
       "0      windows_ie  14.122.240.*     216   232          1     trqRTJ27Pea7gspy   \n",
       "1  android_safari   116.22.55.*     216   217       null                 null   \n",
       "2      windows_ie  60.215.242.*     146   149          3  3FKElpuEMusyJqKbuKz   \n",
       "\n",
       "            ...                                   slotid slotwidth slotheight  \\\n",
       "0           ...             mm_34061467_3440569_11228047       300        250   \n",
       "1           ...                                        1       320         50   \n",
       "2           ...                        ALLINONE_F_Width1      1000         90   \n",
       "\n",
       "   slotvisibility  slotformat slotprice                          creative  \\\n",
       "0               0           1         0  449a22cd91d9042eda3d3a1b89a22ea8   \n",
       "1       FirstView          Na       118                             11908   \n",
       "2               0           0        70  d01411218cc79bc49d2a4078c4093b76   \n",
       "\n",
       "                            keypage advertiser                  usertag  \n",
       "0  0f951a030abdaedd733ee8d114ce2944       3427  10006,10063,10059,10111  \n",
       "1                              null       2997                     null  \n",
       "2  b2e35064f3549d447edbbdfb1f707c8c       3427                     null  \n",
       "\n",
       "[3 rows x 22 columns]"
      ]
     },
     "execution_count": 11,
     "metadata": {},
     "output_type": "execute_result"
    }
   ],
   "source": [
    "valid_x[:3]"
   ]
  },
  {
   "cell_type": "markdown",
   "metadata": {},
   "source": [
    "Predict click probabilities on validation set"
   ]
  },
  {
   "cell_type": "code",
   "execution_count": 12,
   "metadata": {
    "collapsed": false,
    "deletable": true,
    "editable": true
   },
   "outputs": [],
   "source": [
    "click_valid_guess = predict_click_probab(valid_x)"
   ]
  },
  {
   "cell_type": "code",
   "execution_count": 14,
   "metadata": {
    "collapsed": false
   },
   "outputs": [
    {
     "data": {
      "text/plain": [
       "[array([[  9.99681537e-01,   3.18462549e-04],\n",
       "        [  9.92684918e-01,   7.31508237e-03],\n",
       "        [  9.96831326e-01,   3.16867437e-03],\n",
       "        ..., \n",
       "        [  9.98477931e-01,   1.52206878e-03],\n",
       "        [  9.99696253e-01,   3.03747266e-04],\n",
       "        [  9.99462299e-01,   5.37701457e-04]])]"
      ]
     },
     "execution_count": 14,
     "metadata": {},
     "output_type": "execute_result"
    }
   ],
   "source": [
    "click_valid_guess"
   ]
  },
  {
   "cell_type": "markdown",
   "metadata": {},
   "source": [
    "Count number of entries with click probability higher than 50%:"
   ]
  },
  {
   "cell_type": "code",
   "execution_count": 96,
   "metadata": {
    "collapsed": false,
    "deletable": true,
    "editable": true
   },
   "outputs": [
    {
     "name": "stdout",
     "output_type": "stream",
     "text": [
      "46\n"
     ]
    }
   ],
   "source": [
    "count = 0\n",
    "for click in click_valid_guess[0]:\n",
    "    if click[1]>=0.5:\n",
    "        count += 1\n",
    "\n",
    "print(count)"
   ]
  },
  {
   "cell_type": "markdown",
   "metadata": {},
   "source": [
    "# Export data to CSV"
   ]
  },
  {
   "cell_type": "markdown",
   "metadata": {
    "deletable": true,
    "editable": true
   },
   "source": [
    "Export to CSV file predicted click"
   ]
  },
  {
   "cell_type": "code",
   "execution_count": 18,
   "metadata": {
    "collapsed": false,
    "deletable": true,
    "editable": true
   },
   "outputs": [
    {
     "name": "stderr",
     "output_type": "stream",
     "text": [
      "/Library/Frameworks/Python.framework/Versions/3.6/lib/python3.6/site-packages/ipykernel/__main__.py:3: SettingWithCopyWarning: \n",
      "A value is trying to be set on a copy of a slice from a DataFrame.\n",
      "Try using .loc[row_indexer,col_indexer] = value instead\n",
      "\n",
      "See the caveats in the documentation: http://pandas.pydata.org/pandas-docs/stable/indexing.html#indexing-view-versus-copy\n",
      "  app.launch_new_instance()\n",
      "/Library/Frameworks/Python.framework/Versions/3.6/lib/python3.6/site-packages/ipykernel/__main__.py:4: SettingWithCopyWarning: \n",
      "A value is trying to be set on a copy of a slice from a DataFrame.\n",
      "Try using .loc[row_indexer,col_indexer] = value instead\n",
      "\n",
      "See the caveats in the documentation: http://pandas.pydata.org/pandas-docs/stable/indexing.html#indexing-view-versus-copy\n"
     ]
    }
   ],
   "source": [
    "import csv\n",
    "\n",
    "valid_x['bidid'] = valid['bidid']\n",
    "valid_x['pred_click'] = click_valid_guess\n",
    "\n",
    "with open(\"out.csv\", \"w\") as output:\n",
    "    writer = csv.writer(output, lineterminator='\\n')\n",
    "    for i in range(0,len(valid_x)):\n",
    "        writer.writerow([valid_x['bidid'][i], valid_x['pred_click'][i]])"
   ]
  },
  {
   "cell_type": "markdown",
   "metadata": {
    "deletable": true,
    "editable": true
   },
   "source": [
    "Export to CSV file predicted click probabilities on validation set"
   ]
  },
  {
   "cell_type": "code",
   "execution_count": 160,
   "metadata": {
    "collapsed": false,
    "deletable": true,
    "editable": true
   },
   "outputs": [],
   "source": [
    "import csv\n",
    "\n",
    "valid_x['bidid'] = valid['bidid']\n",
    "valid_x['pred_click'] = click_valid_guess[0].tolist()\n",
    "\n",
    "with open(\"click_pred_l1reg.csv\", \"w\") as output:\n",
    "    writer = csv.writer(output, lineterminator='\\n')\n",
    "    for i in range(0,len(valid_x)):\n",
    "        writer.writerow([valid_x['bidid'][i], valid_x['pred_click'][i][0], valid_x['pred_click'][i][1]])"
   ]
  },
  {
   "cell_type": "markdown",
   "metadata": {
    "deletable": true,
    "editable": true
   },
   "source": [
    "Export to CSV file predicted click probabilities on test set"
   ]
  },
  {
   "cell_type": "code",
   "execution_count": 24,
   "metadata": {
    "collapsed": false
   },
   "outputs": [
    {
     "name": "stderr",
     "output_type": "stream",
     "text": [
      "/Library/Frameworks/Python.framework/Versions/3.6/lib/python3.6/site-packages/ipykernel/__main__.py:3: SettingWithCopyWarning: \n",
      "A value is trying to be set on a copy of a slice from a DataFrame.\n",
      "Try using .loc[row_indexer,col_indexer] = value instead\n",
      "\n",
      "See the caveats in the documentation: http://pandas.pydata.org/pandas-docs/stable/indexing.html#indexing-view-versus-copy\n",
      "  app.launch_new_instance()\n"
     ]
    }
   ],
   "source": [
    "import csv\n",
    "\n",
    "test_x['bidid'] = test['bidid']\n",
    "test_x['pred_click'] = click_test_guess[1].tolist()\n",
    "\n",
    "with open(\"click_pred_l1reg_test.csv\", \"w\") as output:\n",
    "    writer = csv.writer(output, lineterminator='\\n')\n",
    "    for i in range(0,len(test_x)):\n",
    "        writer.writerow([test_x['bidid'][i], test_x['pred_click'][i][0], test_x['pred_click'][i][1]])"
   ]
  },
  {
   "cell_type": "markdown",
   "metadata": {
    "deletable": true,
    "editable": true
   },
   "source": [
    "Export to CSV predicted optimal bid on validation set"
   ]
  },
  {
   "cell_type": "code",
   "execution_count": 136,
   "metadata": {
    "collapsed": false,
    "deletable": true,
    "editable": true
   },
   "outputs": [
    {
     "name": "stderr",
     "output_type": "stream",
     "text": [
      "/Library/Frameworks/Python.framework/Versions/3.6/lib/python3.6/site-packages/ipykernel/__main__.py:3: SettingWithCopyWarning: \n",
      "A value is trying to be set on a copy of a slice from a DataFrame.\n",
      "Try using .loc[row_indexer,col_indexer] = value instead\n",
      "\n",
      "See the caveats in the documentation: http://pandas.pydata.org/pandas-docs/stable/indexing.html#indexing-view-versus-copy\n",
      "  app.launch_new_instance()\n"
     ]
    }
   ],
   "source": [
    "import csv\n",
    "\n",
    "valid_x['bidid'] = valid['bidid']\n",
    "valid_x['optimal_bid'] = o_bids\n",
    "\n",
    "with open(\"optimal_bids_5apr.csv\", \"w\") as output:\n",
    "    writer = csv.writer(output, lineterminator='\\n')\n",
    "    for i in range(0,len(valid_x)):\n",
    "        writer.writerow([valid_x['bidid'][i], valid_x['optimal_bid'][i]])"
   ]
  },
  {
   "cell_type": "markdown",
   "metadata": {},
   "source": [
    "Export to CSV predicted optimal bid on test set"
   ]
  },
  {
   "cell_type": "code",
   "execution_count": 160,
   "metadata": {
    "collapsed": false
   },
   "outputs": [],
   "source": [
    "import csv\n",
    "\n",
    "test_x['bidid'] = test['bidid']\n",
    "test_x['optimal_bid'] = o_bids\n",
    "\n",
    "with open(\"optimal_bids_test.csv\", \"w\") as output:\n",
    "    writer = csv.writer(output, lineterminator='\\n')\n",
    "    writer.writerow(['bidid', 'bidprice'])\n",
    "    for i in range(0,len(test_x)):\n",
    "        writer.writerow([test_x['bidid'][i], test_x['optimal_bid'][i]])"
   ]
  },
  {
   "cell_type": "markdown",
   "metadata": {},
   "source": [
    "Calculate pCTR on validation set with click predictions:"
   ]
  },
  {
   "cell_type": "markdown",
   "metadata": {},
   "source": [
    "# Exploration on Validation Set"
   ]
  },
  {
   "cell_type": "markdown",
   "metadata": {},
   "source": [
    "True value of clicks in validation set:"
   ]
  },
  {
   "cell_type": "code",
   "execution_count": 14,
   "metadata": {
    "collapsed": false,
    "deletable": true,
    "editable": true
   },
   "outputs": [
    {
     "data": {
      "text/plain": [
       "226"
      ]
     },
     "execution_count": 14,
     "metadata": {},
     "output_type": "execute_result"
    }
   ],
   "source": [
    "valid_x['click'].sum()"
   ]
  },
  {
   "cell_type": "markdown",
   "metadata": {},
   "source": [
    "Example of validation set entry:"
   ]
  },
  {
   "cell_type": "code",
   "execution_count": 21,
   "metadata": {
    "collapsed": false,
    "deletable": true,
    "editable": true
   },
   "outputs": [
    {
     "data": {
      "text/plain": [
       "weekday                                          5\n",
       "hour                                            14\n",
       "userid                           u_Vhk7C5STO8TZ3s8\n",
       "useragent                               windows_ie\n",
       "IP                                    14.122.240.*\n",
       "region                                         216\n",
       "city                                           232\n",
       "adexchange                                       1\n",
       "domain                            trqRTJ27Pea7gspy\n",
       "url               b3f4c620ae8d3df230fca2fbed50d247\n",
       "urlid                                         null\n",
       "slotid                mm_34061467_3440569_11228047\n",
       "slotwidth                                      300\n",
       "slotheight                                     250\n",
       "slotvisibility                                   0\n",
       "slotformat                                       1\n",
       "slotprice                                        0\n",
       "creative          449a22cd91d9042eda3d3a1b89a22ea8\n",
       "keypage           0f951a030abdaedd733ee8d114ce2944\n",
       "advertiser                                    3427\n",
       "usertag                    10006,10063,10059,10111\n",
       "click                                            0\n",
       "Name: 0, dtype: object"
      ]
     },
     "execution_count": 21,
     "metadata": {},
     "output_type": "execute_result"
    }
   ],
   "source": [
    "valid_x.iloc[0]"
   ]
  },
  {
   "cell_type": "markdown",
   "metadata": {},
   "source": [
    "## Predict Click Probability on Test Set"
   ]
  },
  {
   "cell_type": "code",
   "execution_count": 16,
   "metadata": {
    "collapsed": false
   },
   "outputs": [],
   "source": [
    "test_cols = ['weekday', 'bidid', 'hour', 'userid', 'useragent',\n",
    "       'IP', 'region', 'city', 'adexchange', 'domain', 'url', 'urlid',\n",
    "       'slotid', 'slotwidth', 'slotheight', 'slotvisibility', 'slotformat',\n",
    "       'slotprice', 'creative', 'keypage',\n",
    "       'advertiser', 'usertag']\n",
    "\n",
    "test_split = np.array_split(df_test, 1)\n",
    "test = test_split[0]\n",
    "test_x = test[test_cols]"
   ]
  },
  {
   "cell_type": "code",
   "execution_count": 17,
   "metadata": {
    "collapsed": true
   },
   "outputs": [],
   "source": [
    "click_test_guess = predict_click_probab(test_x)"
   ]
  },
  {
   "cell_type": "code",
   "execution_count": 21,
   "metadata": {
    "collapsed": false
   },
   "outputs": [
    {
     "data": {
      "text/plain": [
       "[array([[  9.99681537e-01,   3.18462549e-04],\n",
       "        [  9.92684918e-01,   7.31508237e-03],\n",
       "        [  9.96831326e-01,   3.16867437e-03],\n",
       "        ..., \n",
       "        [  9.98477931e-01,   1.52206878e-03],\n",
       "        [  9.99696253e-01,   3.03747266e-04],\n",
       "        [  9.99462299e-01,   5.37701457e-04]]),\n",
       " array([[  9.99605424e-01,   3.94576015e-04],\n",
       "        [  9.99096868e-01,   9.03131978e-04],\n",
       "        [  9.99873002e-01,   1.26998001e-04],\n",
       "        ..., \n",
       "        [  9.98309968e-01,   1.69003185e-03],\n",
       "        [  9.99987287e-01,   1.27132162e-05],\n",
       "        [  9.99925188e-01,   7.48124906e-05]])]"
      ]
     },
     "execution_count": 21,
     "metadata": {},
     "output_type": "execute_result"
    }
   ],
   "source": [
    "click_test_guess"
   ]
  },
  {
   "cell_type": "code",
   "execution_count": 23,
   "metadata": {
    "collapsed": false
   },
   "outputs": [
    {
     "name": "stdout",
     "output_type": "stream",
     "text": [
      "49\n"
     ]
    }
   ],
   "source": [
    "count = 0\n",
    "for click in click_test_guess[1]:\n",
    "    if click[1]>=0.5:\n",
    "        count += 1\n",
    "print(count)"
   ]
  },
  {
   "cell_type": "markdown",
   "metadata": {
    "deletable": true,
    "editable": true
   },
   "source": [
    "## *Predict Payprice for Test Set"
   ]
  },
  {
   "cell_type": "code",
   "execution_count": 10,
   "metadata": {
    "collapsed": false,
    "deletable": true,
    "editable": true
   },
   "outputs": [],
   "source": [
    "train_payprice_x = vectorizer.fit_transform([bid_request_features(train_x.iloc[i],1) for i in range(len(train_x))])\n",
    "train_payprice_y = label_encoder.fit_transform([train_x.iloc[i]['payprice'] for i in range(len(train_x))])  "
   ]
  },
  {
   "cell_type": "code",
   "execution_count": null,
   "metadata": {
    "collapsed": false,
    "deletable": true,
    "editable": true
   },
   "outputs": [
    {
     "name": "stdout",
     "output_type": "stream",
     "text": [
      "[LibLinear]"
     ]
    }
   ],
   "source": [
    "from sklearn.linear_model import LinearRegression\n",
    "\n",
    "model_pp = LinearRegression()\n",
    "model_pp = model_pp.fit(train_payprice_x, train_payprice_y)"
   ]
  },
  {
   "cell_type": "markdown",
   "metadata": {
    "deletable": true,
    "editable": true
   },
   "source": [
    "Steps for cross-validation:\n",
    "- run prediction on the validation set\n",
    "- calculate which C value causes the lowest error\n",
    "- use optimal C for prediction on test set"
   ]
  },
  {
   "cell_type": "code",
   "execution_count": null,
   "metadata": {
    "collapsed": true,
    "deletable": true,
    "editable": true
   },
   "outputs": [],
   "source": [
    "payprice_test_guess = predict_payprice(valid_x)\n",
    "abs_diff = abs(payprice_test_guess - valid_x['payprice'])\n",
    "abs_diff.mean()"
   ]
  },
  {
   "cell_type": "markdown",
   "metadata": {
    "deletable": true,
    "editable": true
   },
   "source": [
    "# ORTB1 Predict"
   ]
  },
  {
   "cell_type": "markdown",
   "metadata": {
    "deletable": true,
    "editable": true
   },
   "source": [
    "ORTB Bidding Function 1 on <b>validation</b> set:"
   ]
  },
  {
   "cell_type": "code",
   "execution_count": 41,
   "metadata": {
    "collapsed": false,
    "deletable": true,
    "editable": true
   },
   "outputs": [],
   "source": [
    "import math\n",
    "\n",
    "c_values = [20,50,80]\n",
    "\n",
    "def predict_optimal_bid(click_probab,c):\n",
    "    a = 5.2*(10**(-7))\n",
    "    bid = math.sqrt((c/a)*click_probab + c**2) - c\n",
    "    return bid\n",
    "\n",
    "o_bids_valid = []\n",
    "count = 0\n",
    "cvg = np.asarray(click_valid_guess)\n",
    "\n",
    "for i in range(0,len(cvg[0])):\n",
    "    click_probab = cvg[0][i][1]\n",
    "    for c in c_values:\n",
    "        bid = predict_optimal_bid(click_probab,c)\n",
    "        o_bids_valid.append(bid)[0]"
   ]
  },
  {
   "cell_type": "code",
   "execution_count": 129,
   "metadata": {
    "collapsed": false
   },
   "outputs": [],
   "source": [
    "import math\n",
    "\n",
    "c=53\n",
    "bids_forc = defaultdict()\n",
    "\n",
    "def predict_optimal_bid(click_probab,c):\n",
    "    a = 5.2*(10**(-7))\n",
    "    bid = math.sqrt((c/a)*click_probab + c**2) - c\n",
    "    return bid\n",
    "\n",
    "cvg = np.asarray(click_valid_guess)\n",
    "\n",
    "def predict_bid(c):\n",
    "    o_bids_valid = []\n",
    "    for i in range(0,len(cvg[0])):\n",
    "        click_probab = cvg[0][i][1]\n",
    "        bid = predict_optimal_bid(click_probab,c)\n",
    "        o_bids_valid.append(bid)\n",
    "    return o_bids_valid\n",
    "        \n",
    "for c in c_values:\n",
    "    bids_forc[c] = predict_bid(c)"
   ]
  },
  {
   "cell_type": "code",
   "execution_count": 155,
   "metadata": {
    "collapsed": false
   },
   "outputs": [
    {
     "data": {
      "text/plain": [
       "192.30060010087723"
      ]
     },
     "execution_count": 155,
     "metadata": {},
     "output_type": "execute_result"
    }
   ],
   "source": [
    "sum(bids_forc[53])/len(bids_forc[53])"
   ]
  },
  {
   "cell_type": "code",
   "execution_count": 87,
   "metadata": {
    "collapsed": false
   },
   "outputs": [
    {
     "data": {
      "text/plain": [
       "20"
      ]
     },
     "execution_count": 87,
     "metadata": {},
     "output_type": "execute_result"
    }
   ],
   "source": [
    "optimal_bids_perc = [o_bids_valid[i:i + len(cvg[0])] for i in range(0, len(o_bids_valid), len(cvg[0]))] "
   ]
  },
  {
   "cell_type": "code",
   "execution_count": 107,
   "metadata": {
    "collapsed": false
   },
   "outputs": [
    {
     "data": {
      "text/plain": [
       "[515.025675948618,\n",
       " 518.9954822112824,\n",
       " 82.80818609938252,\n",
       " 83.49858166800972,\n",
       " 84.17425688971424]"
      ]
     },
     "execution_count": 107,
     "metadata": {},
     "output_type": "execute_result"
    }
   ],
   "source": [
    "optimal_bids_perc[2][:5]"
   ]
  },
  {
   "cell_type": "code",
   "execution_count": 46,
   "metadata": {
    "collapsed": false
   },
   "outputs": [],
   "source": [
    "c_20 = [o_bids_valid[i:i + len(cvg[0])] for i in range(0, len(o_bids_valid), len(cvg[0]))][0]\n",
    "c_50 = [o_bids_valid[i:i + len(cvg[0])] for i in range(0, len(o_bids_valid), len(cvg[0]))][1]\n",
    "c_80 = [o_bids_valid[i:i + len(cvg[0])] for i in range(0, len(o_bids_valid), len(cvg[0]))][2]"
   ]
  },
  {
   "cell_type": "code",
   "execution_count": 82,
   "metadata": {
    "collapsed": false
   },
   "outputs": [
    {
     "name": "stdout",
     "output_type": "stream",
     "text": [
      "281024.0\n"
     ]
    }
   ],
   "source": [
    "c20 = np.asarray(c_20)\n",
    "count = 0\n",
    "for i in range(0,len(c20)):\n",
    "    if c20[i] < 500:\n",
    "        count += 1.0\n",
    "print(count)"
   ]
  },
  {
   "cell_type": "code",
   "execution_count": 81,
   "metadata": {
    "collapsed": false
   },
   "outputs": [
    {
     "data": {
      "text/plain": [
       "299749"
      ]
     },
     "execution_count": 81,
     "metadata": {},
     "output_type": "execute_result"
    }
   ],
   "source": [
    "cp= []\n",
    "\n",
    "for i in range(0,len(cvg[0])):\n",
    "    click_probab = cvg[0][i][1]\n",
    "    cp.append(click_probab)\n",
    "    \n",
    "len(cp)"
   ]
  },
  {
   "cell_type": "code",
   "execution_count": 80,
   "metadata": {
    "collapsed": false
   },
   "outputs": [
    {
     "data": {
      "image/png": "[encoded data removed]",
      "text/plain": [
       "<matplotlib.figure.Figure at 0x10fa59588>"
      ]
     },
     "metadata": {},
     "output_type": "display_data"
    }
   ],
   "source": [
    "import matplotlib.pyplot as plt\n",
    "\n",
    "plt.plot(cp, c_20, 'ob')\n",
    "plt.ylabel('Bid price')\n",
    "plt.xlabel('Click probability')\n",
    "plt.show()"
   ]
  },
  {
   "cell_type": "markdown",
   "metadata": {},
   "source": [
    "ORTB Bidding Function 1 on <b>test</b> set with optimal c=53:"
   ]
  },
  {
   "cell_type": "code",
   "execution_count": 156,
   "metadata": {
    "collapsed": false,
    "deletable": true,
    "editable": true
   },
   "outputs": [],
   "source": [
    "import math\n",
    "\n",
    "def predict_optimal_bid(click_probab):\n",
    "    c = 53\n",
    "    a = 5.2*(10**(-7))\n",
    "    bid = math.sqrt((c/a)*click_probab + c**2) - c\n",
    "    return bid\n",
    "\n",
    "o_bids = []\n",
    "count = 0\n",
    "cvg = np.asarray(click_valid_guess)\n",
    "ctg = np.asarray(click_test_guess)\n",
    "\n",
    "for i in range(0,len(ctg[1])):\n",
    "    click_probab = ctg[1][i][1]\n",
    "    bid = predict_optimal_bid(click_probab)\n",
    "    o_bids.append(bid)"
   ]
  },
  {
   "cell_type": "code",
   "execution_count": 157,
   "metadata": {
    "collapsed": false
   },
   "outputs": [
    {
     "data": {
      "text/plain": [
       "[154.42565298317032,\n",
       " 254.99186680588707,\n",
       " 72.51106320953055,\n",
       " 173.58287224491858,\n",
       " 1.9035082503997103,\n",
       " 101.92933889300625,\n",
       " 129.2414188038134,\n",
       " 1.8768687730390994,\n",
       " 179.80575242306918,\n",
       " 125.10507755411453]"
      ]
     },
     "execution_count": 157,
     "metadata": {},
     "output_type": "execute_result"
    }
   ],
   "source": [
    "o_bids[:10]"
   ]
  },
  {
   "cell_type": "markdown",
   "metadata": {
    "deletable": true,
    "editable": true
   },
   "source": [
    "## *Predict bid price for Test Set\n",
    "\n",
    "Make a prediction on the bid price, given the click information data added to the test set. It should know what bid is good, depending on the advertiser and the historical bidding."
   ]
  },
  {
   "cell_type": "code",
   "execution_count": 161,
   "metadata": {
    "collapsed": false,
    "deletable": true,
    "editable": true
   },
   "outputs": [],
   "source": [
    "import math\n",
    "\n",
    "# test_x['click'] = click_test_guess\n",
    "\n",
    "def predict_bidprice(test_bids):\n",
    "    bid_x = vectorizer.transform([bid_request_features(test_bids.iloc[i],1) for i in range(len(test_bids))])\n",
    "    bid_y = model_b.predict(bid_x)\n",
    "    return bid_y"
   ]
  },
  {
   "cell_type": "code",
   "execution_count": 16,
   "metadata": {
    "collapsed": false,
    "deletable": true,
    "editable": true
   },
   "outputs": [],
   "source": [
    "# bid2_x = vectorizer.transform([bid_request_features(valid_x.iloc[i],1) for i in range(len(valid_x))])\n",
    "# bid2_y = label_encoder.inverse_transform(np.array(math.ceil(model_b.predict(bid2_x)[0])))\n",
    "\n",
    "# # bid_y = label_encoder.inverse_transform(model_b.predict(bid_x))\n",
    "# # len(bid_request_features(valid_x.iloc[0],1))\n",
    "# # vectorizer.transform([bid_request_features(valid_x.iloc[140],1)]).sum()\n",
    "# # bid_request_features(valid_x.iloc[0],1)\n",
    "# # model_b.predict(vectorizer.transform([bid_request_features(valid_x.iloc[0],1)]))\n",
    "# # model_b.predict(bid_x)[0]\n",
    "\n",
    "# bid_request_features(valid_x.iloc[0],1)\n"
   ]
  },
  {
   "cell_type": "code",
   "execution_count": 162,
   "metadata": {
    "collapsed": true,
    "deletable": true,
    "editable": true
   },
   "outputs": [],
   "source": [
    "train_bid_x = vectorizer.fit_transform([bid_request_features(train_x.iloc[i],1) for i in range(math.ceil(len(train_x)/4))])\n",
    "train_bid_y = [train_x.iloc[i]['bidprice'] for i in range(math.ceil(len(train_x)/4))]"
   ]
  },
  {
   "cell_type": "code",
   "execution_count": 163,
   "metadata": {
    "collapsed": false,
    "deletable": true,
    "editable": true
   },
   "outputs": [],
   "source": [
    "# from sklearn.linear_model import LinearRegression\n",
    "from sklearn.linear_model import Ridge\n",
    "\n",
    "# model_b = LinearRegression()\n",
    "# model_b = model_b.fit(train_bid_x, train_bid_y)\n",
    "\n",
    "model_b = Ridge(alpha=0.8)\n",
    "model_b = model_b.fit(train_bid_x, train_bid_y)"
   ]
  },
  {
   "cell_type": "code",
   "execution_count": 165,
   "metadata": {
    "collapsed": false,
    "deletable": true,
    "editable": true
   },
   "outputs": [
    {
     "name": "stderr",
     "output_type": "stream",
     "text": [
      "/Library/Frameworks/Python.framework/Versions/3.6/lib/python3.6/site-packages/ipykernel/__main__.py:2: SettingWithCopyWarning: \n",
      "A value is trying to be set on a copy of a slice from a DataFrame.\n",
      "Try using .loc[row_indexer,col_indexer] = value instead\n",
      "\n",
      "See the caveats in the documentation: http://pandas.pydata.org/pandas-docs/stable/indexing.html#indexing-view-versus-copy\n",
      "  from ipykernel import kernelapp as app\n",
      "/Library/Frameworks/Python.framework/Versions/3.6/lib/python3.6/site-packages/ipykernel/__main__.py:4: SettingWithCopyWarning: \n",
      "A value is trying to be set on a copy of a slice from a DataFrame.\n",
      "Try using .loc[row_indexer,col_indexer] = value instead\n",
      "\n",
      "See the caveats in the documentation: http://pandas.pydata.org/pandas-docs/stable/indexing.html#indexing-view-versus-copy\n"
     ]
    },
    {
     "data": {
      "text/plain": [
       "0.83292797626960868"
      ]
     },
     "execution_count": 165,
     "metadata": {},
     "output_type": "execute_result"
    }
   ],
   "source": [
    "# bidprice_test_guess = predict_bidprice(test_x)\n",
    "valid_x['click'] = valid['click']\n",
    "bidprice_valid_guess = predict_bidprice(valid_x)\n",
    "valid_x['bidprice'] = valid['bidprice']\n",
    "abs_diff = abs(bidprice_valid_guess - valid_x['bidprice'])\n",
    "abs_diff.mean()"
   ]
  },
  {
   "cell_type": "code",
   "execution_count": 167,
   "metadata": {
    "collapsed": false,
    "deletable": true,
    "editable": true
   },
   "outputs": [],
   "source": [
    "valid_x['bid_pred'] = bidprice_valid_guess\n",
    "valid_x['diff'] = abs(valid_x['bid_pred'] - valid_x['bidprice'])"
   ]
  },
  {
   "cell_type": "code",
   "execution_count": 168,
   "metadata": {
    "collapsed": false,
    "deletable": true,
    "editable": true
   },
   "outputs": [
    {
     "data": {
      "text/plain": [
       "272.40980105015979"
      ]
     },
     "execution_count": 168,
     "metadata": {},
     "output_type": "execute_result"
    }
   ],
   "source": [
    "valid_x['bid_pred'].mean()"
   ]
  },
  {
   "cell_type": "markdown",
   "metadata": {},
   "source": [
    "# E"
   ]
  },
  {
   "cell_type": "code",
   "execution_count": 130,
   "metadata": {
    "collapsed": false
   },
   "outputs": [
    {
     "name": "stderr",
     "output_type": "stream",
     "text": [
      "/Library/Frameworks/Python.framework/Versions/3.6/lib/python3.6/site-packages/ipykernel/__main__.py:1: SettingWithCopyWarning: \n",
      "A value is trying to be set on a copy of a slice from a DataFrame.\n",
      "Try using .loc[row_indexer,col_indexer] = value instead\n",
      "\n",
      "See the caveats in the documentation: http://pandas.pydata.org/pandas-docs/stable/indexing.html#indexing-view-versus-copy\n",
      "  if __name__ == '__main__':\n",
      "/Library/Frameworks/Python.framework/Versions/3.6/lib/python3.6/site-packages/ipykernel/__main__.py:2: SettingWithCopyWarning: \n",
      "A value is trying to be set on a copy of a slice from a DataFrame.\n",
      "Try using .loc[row_indexer,col_indexer] = value instead\n",
      "\n",
      "See the caveats in the documentation: http://pandas.pydata.org/pandas-docs/stable/indexing.html#indexing-view-versus-copy\n",
      "  from ipykernel import kernelapp as app\n",
      "/Library/Frameworks/Python.framework/Versions/3.6/lib/python3.6/site-packages/ipykernel/__main__.py:3: SettingWithCopyWarning: \n",
      "A value is trying to be set on a copy of a slice from a DataFrame.\n",
      "Try using .loc[row_indexer,col_indexer] = value instead\n",
      "\n",
      "See the caveats in the documentation: http://pandas.pydata.org/pandas-docs/stable/indexing.html#indexing-view-versus-copy\n",
      "  app.launch_new_instance()\n"
     ]
    }
   ],
   "source": [
    "valid_x['payprice'] = valid['payprice']\n",
    "valid_x['bidprice'] = valid['bidprice']\n",
    "valid_x['click'] = valid['click']\n",
    "click_dict = defaultdict()\n",
    "\n",
    "def evaluate_bids(o_bids,c):\n",
    "    budget = 6250\n",
    "    clicks = 0\n",
    "    impressions = 0\n",
    "\n",
    "    for i in range(0,len(valid_x)):\n",
    "        if (o_bids[i] > valid_x['bidprice'][i]):\n",
    "            clicks += valid_x['click'][i]\n",
    "            impressions += 1\n",
    "            if budget > 0:    \n",
    "                budget -= valid_x['payprice'][i]/1000\n",
    "            else:\n",
    "                print('Budget over')\n",
    "                break\n",
    "\n",
    "    click_dict[c] = clicks\n",
    "    print(\"Clicks: \" + str(clicks))\n",
    "    print(\"Impressions: \" + str(impressions))\n",
    "    print(\"CTR:\" + str((clicks/impressions) * 100))\n",
    "    print(\"Bids considered: \" + str(i) + \"/\" + str(len(valid_x)))"
   ]
  },
  {
   "cell_type": "code",
   "execution_count": 90,
   "metadata": {
    "collapsed": false
   },
   "outputs": [
    {
     "data": {
      "text/plain": [
       "299749"
      ]
     },
     "execution_count": 90,
     "metadata": {},
     "output_type": "execute_result"
    }
   ],
   "source": [
    "len(optimal_bids_perc[0])"
   ]
  },
  {
   "cell_type": "code",
   "execution_count": 131,
   "metadata": {
    "collapsed": false,
    "deletable": true,
    "editable": true
   },
   "outputs": [
    {
     "name": "stdout",
     "output_type": "stream",
     "text": [
      "Value of c: 10\n",
      "Clicks: 118\n",
      "Impressions: 14825\n",
      "CTR:0.795952782462\n",
      "Bids considered: 299748/299749\n",
      "Value of c: 11\n",
      "Clicks: 120\n",
      "Impressions: 16488\n",
      "CTR:0.727802037846\n",
      "Bids considered: 299748/299749\n",
      "Value of c: 12\n",
      "Clicks: 125\n",
      "Impressions: 18034\n",
      "CTR:0.693135189087\n",
      "Bids considered: 299748/299749\n",
      "Value of c: 13\n",
      "Clicks: 128\n",
      "Impressions: 19629\n",
      "CTR:0.652096387997\n",
      "Bids considered: 299748/299749\n",
      "Value of c: 14\n",
      "Clicks: 133\n",
      "Impressions: 21193\n",
      "CTR:0.627565705658\n",
      "Bids considered: 299748/299749\n",
      "Value of c: 15\n",
      "Clicks: 134\n",
      "Impressions: 22661\n",
      "CTR:0.591324301664\n",
      "Bids considered: 299748/299749\n",
      "Value of c: 16\n",
      "Clicks: 134\n",
      "Impressions: 24155\n",
      "CTR:0.55475056924\n",
      "Bids considered: 299748/299749\n",
      "Value of c: 17\n",
      "Clicks: 135\n",
      "Impressions: 25521\n",
      "CTR:0.528976137299\n",
      "Bids considered: 299748/299749\n",
      "Value of c: 18\n",
      "Clicks: 137\n",
      "Impressions: 26916\n",
      "CTR:0.50899093476\n",
      "Bids considered: 299748/299749\n",
      "Value of c: 19\n",
      "Clicks: 137\n",
      "Impressions: 28297\n",
      "CTR:0.484150263279\n",
      "Bids considered: 299748/299749\n",
      "Value of c: 20\n",
      "Clicks: 137\n",
      "Impressions: 29685\n",
      "CTR:0.461512548425\n",
      "Bids considered: 299748/299749\n",
      "Value of c: 21\n",
      "Clicks: 139\n",
      "Impressions: 31069\n",
      "CTR:0.447391290354\n",
      "Bids considered: 299748/299749\n",
      "Value of c: 22\n",
      "Clicks: 141\n",
      "Impressions: 32447\n",
      "CTR:0.434554812463\n",
      "Bids considered: 299748/299749\n",
      "Value of c: 23\n",
      "Clicks: 142\n",
      "Impressions: 33742\n",
      "CTR:0.420840495525\n",
      "Bids considered: 299748/299749\n",
      "Value of c: 24\n",
      "Clicks: 143\n",
      "Impressions: 35079\n",
      "CTR:0.407651301348\n",
      "Bids considered: 299748/299749\n",
      "Value of c: 25\n",
      "Clicks: 144\n",
      "Impressions: 36389\n",
      "CTR:0.395723982522\n",
      "Bids considered: 299748/299749\n",
      "Value of c: 26\n",
      "Clicks: 145\n",
      "Impressions: 37659\n",
      "CTR:0.385034121989\n",
      "Bids considered: 299748/299749\n",
      "Value of c: 27\n",
      "Clicks: 146\n",
      "Impressions: 38878\n",
      "CTR:0.37553372087\n",
      "Bids considered: 299748/299749\n",
      "Value of c: 28\n",
      "Clicks: 146\n",
      "Impressions: 40111\n",
      "CTR:0.36398992795\n",
      "Bids considered: 299748/299749\n",
      "Value of c: 29\n",
      "Clicks: 147\n",
      "Impressions: 41334\n",
      "CTR:0.355639425171\n",
      "Bids considered: 299748/299749\n",
      "Value of c: 30\n",
      "Clicks: 147\n",
      "Impressions: 42546\n",
      "CTR:0.345508390918\n",
      "Bids considered: 299748/299749\n",
      "Value of c: 31\n",
      "Clicks: 149\n",
      "Impressions: 43690\n",
      "CTR:0.341039139391\n",
      "Bids considered: 299748/299749\n",
      "Value of c: 32\n",
      "Clicks: 150\n",
      "Impressions: 44796\n",
      "CTR:0.334851326011\n",
      "Bids considered: 299748/299749\n",
      "Value of c: 33\n",
      "Clicks: 150\n",
      "Impressions: 45976\n",
      "CTR:0.326257177658\n",
      "Bids considered: 299748/299749\n",
      "Value of c: 34\n",
      "Clicks: 152\n",
      "Impressions: 47161\n",
      "CTR:0.322300205678\n",
      "Bids considered: 299748/299749\n",
      "Value of c: 35\n",
      "Clicks: 152\n",
      "Impressions: 48184\n",
      "CTR:0.315457413249\n",
      "Bids considered: 299748/299749\n",
      "Value of c: 36\n",
      "Clicks: 153\n",
      "Impressions: 49298\n",
      "CTR:0.310357418151\n",
      "Bids considered: 299748/299749\n",
      "Value of c: 37\n",
      "Clicks: 153\n",
      "Impressions: 50402\n",
      "CTR:0.303559382564\n",
      "Bids considered: 299748/299749\n",
      "Value of c: 38\n",
      "Clicks: 154\n",
      "Impressions: 51449\n",
      "CTR:0.299325545686\n",
      "Bids considered: 299748/299749\n",
      "Value of c: 39\n",
      "Clicks: 155\n",
      "Impressions: 52435\n",
      "CTR:0.295604081243\n",
      "Bids considered: 299748/299749\n",
      "Value of c: 40\n",
      "Clicks: 155\n",
      "Impressions: 53471\n",
      "CTR:0.289876755625\n",
      "Bids considered: 299748/299749\n",
      "Value of c: 41\n",
      "Clicks: 155\n",
      "Impressions: 54475\n",
      "CTR:0.284534189995\n",
      "Bids considered: 299748/299749\n",
      "Value of c: 42\n",
      "Clicks: 156\n",
      "Impressions: 55481\n",
      "CTR:0.28117733999\n",
      "Bids considered: 299748/299749\n",
      "Value of c: 43\n",
      "Clicks: 157\n",
      "Impressions: 56479\n",
      "CTR:0.277979425981\n",
      "Bids considered: 299748/299749\n",
      "Value of c: 44\n",
      "Clicks: 157\n",
      "Impressions: 57458\n",
      "CTR:0.273243064499\n",
      "Bids considered: 299748/299749\n",
      "Value of c: 45\n",
      "Clicks: 157\n",
      "Impressions: 58408\n",
      "CTR:0.268798794686\n",
      "Bids considered: 299748/299749\n",
      "Value of c: 46\n",
      "Clicks: 157\n",
      "Impressions: 59345\n",
      "CTR:0.264554722386\n",
      "Bids considered: 299748/299749\n",
      "Value of c: 47\n",
      "Clicks: 157\n",
      "Impressions: 60213\n",
      "CTR:0.260741035989\n",
      "Bids considered: 299748/299749\n",
      "Value of c: 48\n",
      "Clicks: 157\n",
      "Impressions: 61104\n",
      "CTR:0.256938989264\n",
      "Bids considered: 299748/299749\n",
      "Value of c: 49\n",
      "Clicks: 157\n",
      "Impressions: 62008\n",
      "CTR:0.25319313637\n",
      "Bids considered: 299748/299749\n",
      "Value of c: 50\n",
      "Clicks: 157\n",
      "Impressions: 62853\n",
      "CTR:0.249789190651\n",
      "Bids considered: 299748/299749\n",
      "Value of c: 51\n",
      "Clicks: 158\n",
      "Impressions: 63688\n",
      "CTR:0.248084411506\n",
      "Bids considered: 299748/299749\n",
      "Value of c: 52\n",
      "Clicks: 158\n",
      "Impressions: 64544\n",
      "CTR:0.244794248884\n",
      "Bids considered: 299748/299749\n",
      "Value of c: 53\n",
      "Clicks: 158\n",
      "Impressions: 65356\n",
      "CTR:0.241752861252\n",
      "Bids considered: 299748/299749\n",
      "Value of c: 54\n",
      "Budget over\n",
      "Clicks: 155\n",
      "Impressions: 65565\n",
      "CTR:0.236406619385\n",
      "Bids considered: 296725/299749\n",
      "Value of c: 55\n",
      "Budget over\n",
      "Clicks: 153\n",
      "Impressions: 65599\n",
      "CTR:0.233235262733\n",
      "Bids considered: 293173/299749\n",
      "Value of c: 56\n",
      "Budget over\n",
      "Clicks: 151\n",
      "Impressions: 65680\n",
      "CTR:0.229902557856\n",
      "Bids considered: 290253/299749\n",
      "Value of c: 57\n",
      "Budget over\n",
      "Clicks: 150\n",
      "Impressions: 65740\n",
      "CTR:0.228171585032\n",
      "Bids considered: 287366/299749\n",
      "Value of c: 58\n",
      "Budget over\n",
      "Clicks: 149\n",
      "Impressions: 65814\n",
      "CTR:0.22639559972\n",
      "Bids considered: 284369/299749\n",
      "Value of c: 59\n",
      "Budget over\n",
      "Clicks: 147\n",
      "Impressions: 65871\n",
      "CTR:0.223163455846\n",
      "Bids considered: 281629/299749\n",
      "Value of c: 60\n",
      "Budget over\n",
      "Clicks: 144\n",
      "Impressions: 65966\n",
      "CTR:0.218294272807\n",
      "Bids considered: 278897/299749\n",
      "Value of c: 61\n",
      "Budget over\n",
      "Clicks: 143\n",
      "Impressions: 66086\n",
      "CTR:0.216384710831\n",
      "Bids considered: 276602/299749\n",
      "Value of c: 62\n",
      "Budget over\n",
      "Clicks: 143\n",
      "Impressions: 66149\n",
      "CTR:0.216178627039\n",
      "Bids considered: 274069/299749\n",
      "Value of c: 63\n",
      "Budget over\n",
      "Clicks: 141\n",
      "Impressions: 66194\n",
      "CTR:0.21301024262\n",
      "Bids considered: 271455/299749\n",
      "Value of c: 64\n",
      "Budget over\n",
      "Clicks: 139\n",
      "Impressions: 66235\n",
      "CTR:0.209858835963\n",
      "Bids considered: 269169/299749\n",
      "Value of c: 65\n",
      "Budget over\n",
      "Clicks: 135\n",
      "Impressions: 66302\n",
      "CTR:0.203613767307\n",
      "Bids considered: 266848/299749\n",
      "Value of c: 66\n",
      "Budget over\n",
      "Clicks: 134\n",
      "Impressions: 66367\n",
      "CTR:0.201907574548\n",
      "Bids considered: 264560/299749\n",
      "Value of c: 67\n",
      "Budget over\n",
      "Clicks: 133\n",
      "Impressions: 66434\n",
      "CTR:0.20019869344\n",
      "Bids considered: 262308/299749\n",
      "Value of c: 68\n",
      "Budget over\n",
      "Clicks: 134\n",
      "Impressions: 66495\n",
      "CTR:0.201518911196\n",
      "Bids considered: 260443/299749\n",
      "Value of c: 69\n",
      "Budget over\n",
      "Clicks: 133\n",
      "Impressions: 66543\n",
      "CTR:0.19987076026\n",
      "Bids considered: 258319/299749\n",
      "Value of c: 70\n",
      "Budget over\n",
      "Clicks: 132\n",
      "Impressions: 66639\n",
      "CTR:0.198082204115\n",
      "Bids considered: 256788/299749\n",
      "Value of c: 71\n",
      "Budget over\n",
      "Clicks: 130\n",
      "Impressions: 66728\n",
      "CTR:0.194820764896\n",
      "Bids considered: 255032/299749\n",
      "Value of c: 72\n",
      "Budget over\n",
      "Clicks: 130\n",
      "Impressions: 66763\n",
      "CTR:0.194718631577\n",
      "Bids considered: 253169/299749\n",
      "Value of c: 73\n",
      "Budget over\n",
      "Clicks: 130\n",
      "Impressions: 66815\n",
      "CTR:0.194567088229\n",
      "Bids considered: 251541/299749\n",
      "Value of c: 74\n",
      "Budget over\n",
      "Clicks: 130\n",
      "Impressions: 66916\n",
      "CTR:0.194273417419\n",
      "Bids considered: 250064/299749\n",
      "Value of c: 75\n",
      "Budget over\n",
      "Clicks: 129\n",
      "Impressions: 66975\n",
      "CTR:0.192609182531\n",
      "Bids considered: 248364/299749\n",
      "Value of c: 76\n",
      "Budget over\n",
      "Clicks: 129\n",
      "Impressions: 67042\n",
      "CTR:0.192416694013\n",
      "Bids considered: 246819/299749\n",
      "Value of c: 77\n",
      "Budget over\n",
      "Clicks: 129\n",
      "Impressions: 67040\n",
      "CTR:0.192422434368\n",
      "Bids considered: 245144/299749\n",
      "Value of c: 78\n",
      "Budget over\n",
      "Clicks: 129\n",
      "Impressions: 67109\n",
      "CTR:0.192224589846\n",
      "Bids considered: 243528/299749\n",
      "Value of c: 79\n",
      "Budget over\n",
      "Clicks: 129\n",
      "Impressions: 67144\n",
      "CTR:0.192124389372\n",
      "Bids considered: 242008/299749\n",
      "Value of c: 80\n",
      "Budget over\n",
      "Clicks: 127\n",
      "Impressions: 67186\n",
      "CTR:0.189027475962\n",
      "Bids considered: 240690/299749\n",
      "Value of c: 81\n",
      "Budget over\n",
      "Clicks: 128\n",
      "Impressions: 67260\n",
      "CTR:0.19030627416\n",
      "Bids considered: 239208/299749\n",
      "Value of c: 82\n",
      "Budget over\n",
      "Clicks: 128\n",
      "Impressions: 67335\n",
      "CTR:0.190094304596\n",
      "Bids considered: 237756/299749\n",
      "Value of c: 83\n",
      "Budget over\n",
      "Clicks: 126\n",
      "Impressions: 67382\n",
      "CTR:0.186993559111\n",
      "Bids considered: 236530/299749\n",
      "Value of c: 84\n",
      "Budget over\n",
      "Clicks: 126\n",
      "Impressions: 67427\n",
      "CTR:0.186868761772\n",
      "Bids considered: 235287/299749\n",
      "Value of c: 85\n",
      "Budget over\n",
      "Clicks: 126\n",
      "Impressions: 67490\n",
      "CTR:0.186694325085\n",
      "Bids considered: 234042/299749\n",
      "Value of c: 86\n",
      "Budget over\n",
      "Clicks: 126\n",
      "Impressions: 67491\n",
      "CTR:0.186691558875\n",
      "Bids considered: 232712/299749\n",
      "Value of c: 87\n",
      "Budget over\n",
      "Clicks: 126\n",
      "Impressions: 67554\n",
      "CTR:0.186517452705\n",
      "Bids considered: 231384/299749\n",
      "Value of c: 88\n",
      "Budget over\n",
      "Clicks: 126\n",
      "Impressions: 67595\n",
      "CTR:0.186404319846\n",
      "Bids considered: 230253/299749\n",
      "Value of c: 89\n",
      "Budget over\n",
      "Clicks: 126\n",
      "Impressions: 67618\n",
      "CTR:0.186340915141\n",
      "Bids considered: 229002/299749\n"
     ]
    }
   ],
   "source": [
    "for c in c_values:\n",
    "    bid_values = bids_forc[c]\n",
    "    print(\"Value of c: \" + str(c))\n",
    "    evaluate_bids(bid_values,c)\n",
    "    "
   ]
  },
  {
   "cell_type": "code",
   "execution_count": 145,
   "metadata": {
    "collapsed": false,
    "deletable": true,
    "editable": true
   },
   "outputs": [
    {
     "data": {
      "text/plain": [
       "39.808917197452232"
      ]
     },
     "execution_count": 145,
     "metadata": {},
     "output_type": "execute_result"
    }
   ],
   "source": [
    "budget_spent = 6250\n",
    "CPC = budget_spent/clicks\n",
    "CPC"
   ]
  },
  {
   "cell_type": "code",
   "execution_count": 158,
   "metadata": {
    "collapsed": false
   },
   "outputs": [
    {
     "data": {
      "text/plain": [
       "dict_values([118, 120, 125, 128, 133, 134, 134, 135, 137, 137, 137, 139, 141, 142, 143, 144, 145, 146, 146, 147, 147, 149, 150, 150, 152, 152, 153, 153, 154, 155, 155, 155, 156, 157, 157, 157, 157, 157, 157, 157, 157, 158, 158, 158, 155, 153, 151, 150, 149, 147, 144, 143, 143, 141, 139, 135, 134, 133, 134, 133, 132, 130, 130, 130, 130, 129, 129, 129, 129, 129, 127, 128, 128, 126, 126, 126, 126, 126, 126, 126])"
      ]
     },
     "execution_count": 158,
     "metadata": {},
     "output_type": "execute_result"
    }
   ],
   "source": [
    "click_dict.values()"
   ]
  },
  {
   "cell_type": "code",
   "execution_count": 153,
   "metadata": {
    "collapsed": false
   },
   "outputs": [
    {
     "data": {
      "image/png": "[encoded data removed]",
      "text/plain": [
       "<matplotlib.figure.Figure at 0x15fbba1d0>"
      ]
     },
     "metadata": {},
     "output_type": "display_data"
    }
   ],
   "source": [
    "import matplotlib.pyplot as plt\n",
    "\n",
    "plt.plot(c_values, list(click_dict.values()), 'g')\n",
    "plt.ylabel('Clicks')\n",
    "plt.xlabel('c')\n",
    "plt.show()"
   ]
  },
  {
   "cell_type": "code",
   "execution_count": 146,
   "metadata": {
    "collapsed": false,
    "deletable": true,
    "editable": true
   },
   "outputs": [
    {
     "data": {
      "text/plain": [
       "187.69615625381013"
      ]
     },
     "execution_count": 146,
     "metadata": {},
     "output_type": "execute_result"
    }
   ],
   "source": [
    "obids = np.asarray(o_bids)\n",
    "np.mean(obids)"
   ]
  },
  {
   "cell_type": "code",
   "execution_count": 147,
   "metadata": {
    "collapsed": false,
    "deletable": true,
    "editable": true
   },
   "outputs": [
    {
     "data": {
      "text/plain": [
       "99.43995417806912"
      ]
     },
     "execution_count": 147,
     "metadata": {},
     "output_type": "execute_result"
    }
   ],
   "source": [
    "CPM = (budget_spent/impressions) *1000\n",
    "CPM"
   ]
  },
  {
   "cell_type": "markdown",
   "metadata": {
    "deletable": true,
    "editable": true
   },
   "source": [
    "## Predict chance of winning\n",
    "\n",
    "Use winning function from ORTB paper to determine chance of winning."
   ]
  },
  {
   "cell_type": "code",
   "execution_count": 36,
   "metadata": {
    "collapsed": false,
    "deletable": true,
    "editable": true
   },
   "outputs": [
    {
     "name": "stdout",
     "output_type": "stream",
     "text": [
      "0.4949874728522864\n"
     ]
    }
   ],
   "source": [
    "win = 0\n",
    "count = 0\n",
    "for bid in valid_x['bid_pred']:\n",
    "    if bid >= valid_x['bidprice'][count]:\n",
    "        win += 1\n",
    "    count += 1\n",
    "    \n",
    "print(win/len(valid_x['bid_pred']))"
   ]
  },
  {
   "cell_type": "code",
   "execution_count": 56,
   "metadata": {
    "collapsed": false,
    "deletable": true,
    "editable": true
   },
   "outputs": [
    {
     "name": "stdout",
     "output_type": "stream",
     "text": [
      "231865\n",
      "0.7735305205355147\n"
     ]
    }
   ],
   "source": [
    "win = 0\n",
    "\n",
    "for bid in valid_x['bid_pred']:\n",
    "    w = bid / (bid+80)\n",
    "    if w > 0.75:\n",
    "        win += 1\n",
    "    \n",
    "print(win)\n",
    "print(win/len(valid_x['bid_pred']))"
   ]
  },
  {
   "cell_type": "code",
   "execution_count": 58,
   "metadata": {
    "collapsed": false,
    "deletable": true,
    "editable": true
   },
   "outputs": [],
   "source": [
    "def predict_optimal_bid(click_pred):\n",
    "    c = 80\n",
    "    a = 5.2*(10**(-7))\n",
    "    bid = math.sqrt((c/a)*click_pred + c**2) - c\n",
    "    return bid"
   ]
  },
  {
   "cell_type": "code",
   "execution_count": 182,
   "metadata": {
    "collapsed": false,
    "deletable": true,
    "editable": true
   },
   "outputs": [
    {
     "data": {
      "text/plain": [
       "[0.0, 0.0, 0.0, 0.0, 0.0, 0.0, 0.0, 0.0, 0.0, 0.0]"
      ]
     },
     "execution_count": 182,
     "metadata": {},
     "output_type": "execute_result"
    }
   ],
   "source": [
    "bids = []\n",
    "for i in range(0,len(valid_x)):\n",
    "    bid = predict_optimal_bid(valid_x['pred_click'][i])\n",
    "    bids.append(bid)\n",
    "bids[:10]"
   ]
  },
  {
   "cell_type": "markdown",
   "metadata": {},
   "source": []
  }
 ],
 "metadata": {
  "kernelspec": {
   "display_name": "Python 3",
   "language": "python",
   "name": "python3"
  },
  "language_info": {
   "codemirror_mode": {
    "name": "ipython",
    "version": 3
   },
   "file_extension": ".py",
   "mimetype": "text/x-python",
   "name": "python",
   "nbconvert_exporter": "python",
   "pygments_lexer": "ipython3",
   "version": "3.6.0"
  }
 },
 "nbformat": 4,
 "nbformat_minor": 2
}

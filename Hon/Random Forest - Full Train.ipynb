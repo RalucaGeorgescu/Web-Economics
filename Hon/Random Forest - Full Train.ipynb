{
 "cells": [
  {
   "cell_type": "code",
   "execution_count": 2,
   "metadata": {
    "collapsed": true
   },
   "outputs": [],
   "source": [
    "%matplotlib inline"
   ]
  },
  {
   "cell_type": "code",
   "execution_count": 3,
   "metadata": {
    "collapsed": false
   },
   "outputs": [],
   "source": [
    "import pandas as pd\n",
    "import seaborn as sns\n",
    "import matplotlib.pyplot as plt\n",
    "import numpy as np"
   ]
  },
  {
   "cell_type": "code",
   "execution_count": 4,
   "metadata": {
    "collapsed": true
   },
   "outputs": [],
   "source": [
    "from sklearn.externals import joblib"
   ]
  },
  {
   "cell_type": "code",
   "execution_count": 8,
   "metadata": {
    "collapsed": false
   },
   "outputs": [],
   "source": [
    "data_train = pd.read_csv(\"C:/Users/Weng/Desktop/Web economics/Dataset/train.csv\")\n",
    "df_v = pd.read_csv(\"C:/Users/Weng/Desktop/Web economics/Dataset/validation.csv\")\n",
    "#df_test = pd.read_csv(\"C:/Users/Weng/Desktop/Web economics/Dataset/test.csv\")"
   ]
  },
  {
   "cell_type": "markdown",
   "metadata": {
    "collapsed": true
   },
   "source": [
    "#### Random Forest: 100% Train set"
   ]
  },
  {
   "cell_type": "code",
   "execution_count": 16,
   "metadata": {
    "collapsed": false
   },
   "outputs": [],
   "source": [
    "#Take a quarter of the trainning set as a sample \n",
    "data_train = data_train.sample(frac = 1,random_state = 20).reset_index(drop=True)"
   ]
  },
  {
   "cell_type": "code",
   "execution_count": 17,
   "metadata": {
    "collapsed": true
   },
   "outputs": [],
   "source": [
    "def CTR_calc(data):\n",
    "    Click_t_rate= \"Click Through Rate= \"+ str(round((np.count_nonzero(data.click.values)/data.shape[0])*100,4)) + ' %'\n",
    "    return (Click_t_rate)"
   ]
  },
  {
   "cell_type": "code",
   "execution_count": 18,
   "metadata": {
    "collapsed": false
   },
   "outputs": [
    {
     "data": {
      "text/plain": [
       "(2697738, 26)"
      ]
     },
     "execution_count": 18,
     "metadata": {},
     "output_type": "execute_result"
    }
   ],
   "source": [
    "data_train.shape"
   ]
  },
  {
   "cell_type": "code",
   "execution_count": 19,
   "metadata": {
    "collapsed": false
   },
   "outputs": [
    {
     "data": {
      "text/plain": [
       "'Click Through Rate= 0.0754 %'"
      ]
     },
     "execution_count": 19,
     "metadata": {},
     "output_type": "execute_result"
    }
   ],
   "source": [
    "CTR_calc(data_train)"
   ]
  },
  {
   "cell_type": "code",
   "execution_count": 20,
   "metadata": {
    "collapsed": false
   },
   "outputs": [],
   "source": [
    "#Dropping un-interesting columns\n",
    "data_train= data_train.drop(['bidid','userid','logtype','url','urlid','keypage','bidprice','payprice'],1)"
   ]
  },
  {
   "cell_type": "code",
   "execution_count": 21,
   "metadata": {
    "collapsed": false
   },
   "outputs": [
    {
     "data": {
      "text/plain": [
       "Index(['click', 'weekday', 'hour', 'useragent', 'IP', 'region', 'city',\n",
       "       'adexchange', 'domain', 'slotid', 'slotwidth', 'slotheight',\n",
       "       'slotvisibility', 'slotformat', 'slotprice', 'creative', 'advertiser',\n",
       "       'usertag'],\n",
       "      dtype='object')"
      ]
     },
     "execution_count": 21,
     "metadata": {},
     "output_type": "execute_result"
    }
   ],
   "source": [
    "data_train.columns"
   ]
  },
  {
   "cell_type": "code",
   "execution_count": 22,
   "metadata": {
    "collapsed": false
   },
   "outputs": [],
   "source": [
    "#Second drop- to improve performance \n",
    "#data_train = data_train.drop(['IP','domain','usertag'],1)"
   ]
  },
  {
   "cell_type": "code",
   "execution_count": 23,
   "metadata": {
    "collapsed": false
   },
   "outputs": [
    {
     "data": {
      "text/html": [
       "<div>\n",
       "<table border=\"1\" class=\"dataframe\">\n",
       "  <thead>\n",
       "    <tr style=\"text-align: right;\">\n",
       "      <th></th>\n",
       "      <th>click</th>\n",
       "      <th>weekday</th>\n",
       "      <th>hour</th>\n",
       "      <th>useragent</th>\n",
       "      <th>IP</th>\n",
       "      <th>region</th>\n",
       "      <th>city</th>\n",
       "      <th>adexchange</th>\n",
       "      <th>domain</th>\n",
       "      <th>slotid</th>\n",
       "      <th>slotwidth</th>\n",
       "      <th>slotheight</th>\n",
       "      <th>slotvisibility</th>\n",
       "      <th>slotformat</th>\n",
       "      <th>slotprice</th>\n",
       "      <th>creative</th>\n",
       "      <th>advertiser</th>\n",
       "      <th>usertag</th>\n",
       "    </tr>\n",
       "  </thead>\n",
       "  <tbody>\n",
       "    <tr>\n",
       "      <th>0</th>\n",
       "      <td>0</td>\n",
       "      <td>5</td>\n",
       "      <td>10</td>\n",
       "      <td>windows_ie</td>\n",
       "      <td>119.249.43.*</td>\n",
       "      <td>3</td>\n",
       "      <td>9</td>\n",
       "      <td>3</td>\n",
       "      <td>5F1RQS9rg5scFsf</td>\n",
       "      <td>News_F_Width1</td>\n",
       "      <td>1000</td>\n",
       "      <td>90</td>\n",
       "      <td>0</td>\n",
       "      <td>0</td>\n",
       "      <td>80</td>\n",
       "      <td>832b91d59d0cb5731431653204a76c0e</td>\n",
       "      <td>1458</td>\n",
       "      <td>13042,10076,10031,10057,10075,10006,13403,1006...</td>\n",
       "    </tr>\n",
       "    <tr>\n",
       "      <th>1</th>\n",
       "      <td>0</td>\n",
       "      <td>1</td>\n",
       "      <td>16</td>\n",
       "      <td>windows_ie</td>\n",
       "      <td>110.241.12.*</td>\n",
       "      <td>3</td>\n",
       "      <td>4</td>\n",
       "      <td>3</td>\n",
       "      <td>3c47edf60cc139641b6395e123a6e155</td>\n",
       "      <td>ALLINONE_F_Width1</td>\n",
       "      <td>1000</td>\n",
       "      <td>90</td>\n",
       "      <td>Na</td>\n",
       "      <td>Na</td>\n",
       "      <td>70</td>\n",
       "      <td>10734</td>\n",
       "      <td>2821</td>\n",
       "      <td>14273,10102,10006,10110,10031,13403,10063</td>\n",
       "    </tr>\n",
       "    <tr>\n",
       "      <th>2</th>\n",
       "      <td>0</td>\n",
       "      <td>0</td>\n",
       "      <td>23</td>\n",
       "      <td>windows_ie</td>\n",
       "      <td>61.146.117.*</td>\n",
       "      <td>216</td>\n",
       "      <td>230</td>\n",
       "      <td>3</td>\n",
       "      <td>7ed515fe566938ee6cfbb6ebb7ea4995</td>\n",
       "      <td>Sports_F_Upright</td>\n",
       "      <td>300</td>\n",
       "      <td>250</td>\n",
       "      <td>Na</td>\n",
       "      <td>Na</td>\n",
       "      <td>10</td>\n",
       "      <td>10722</td>\n",
       "      <td>2821</td>\n",
       "      <td>10059,10684,10083,10024,10006,16706,10111,1005...</td>\n",
       "    </tr>\n",
       "    <tr>\n",
       "      <th>3</th>\n",
       "      <td>0</td>\n",
       "      <td>1</td>\n",
       "      <td>18</td>\n",
       "      <td>windows_ie</td>\n",
       "      <td>112.15.2.*</td>\n",
       "      <td>94</td>\n",
       "      <td>104</td>\n",
       "      <td>3</td>\n",
       "      <td>3043163ba84753b4b51dd3290caeae67</td>\n",
       "      <td>tips_F_Width2</td>\n",
       "      <td>1000</td>\n",
       "      <td>90</td>\n",
       "      <td>Na</td>\n",
       "      <td>Na</td>\n",
       "      <td>50</td>\n",
       "      <td>10734</td>\n",
       "      <td>2821</td>\n",
       "      <td>null</td>\n",
       "    </tr>\n",
       "    <tr>\n",
       "      <th>4</th>\n",
       "      <td>0</td>\n",
       "      <td>1</td>\n",
       "      <td>3</td>\n",
       "      <td>windows_ie</td>\n",
       "      <td>223.241.165.*</td>\n",
       "      <td>106</td>\n",
       "      <td>114</td>\n",
       "      <td>3</td>\n",
       "      <td>3SCYZrn0Qo18XMB4JKTI</td>\n",
       "      <td>discuz_18316225_005</td>\n",
       "      <td>728</td>\n",
       "      <td>90</td>\n",
       "      <td>0</td>\n",
       "      <td>0</td>\n",
       "      <td>20</td>\n",
       "      <td>b90c12ed2bd7950c6027bf9c6937c48a</td>\n",
       "      <td>3386</td>\n",
       "      <td>null</td>\n",
       "    </tr>\n",
       "  </tbody>\n",
       "</table>\n",
       "</div>"
      ],
      "text/plain": [
       "   click  weekday  hour   useragent             IP  region  city adexchange  \\\n",
       "0      0        5    10  windows_ie   119.249.43.*       3     9          3   \n",
       "1      0        1    16  windows_ie   110.241.12.*       3     4          3   \n",
       "2      0        0    23  windows_ie   61.146.117.*     216   230          3   \n",
       "3      0        1    18  windows_ie     112.15.2.*      94   104          3   \n",
       "4      0        1     3  windows_ie  223.241.165.*     106   114          3   \n",
       "\n",
       "                             domain               slotid  slotwidth  \\\n",
       "0                   5F1RQS9rg5scFsf        News_F_Width1       1000   \n",
       "1  3c47edf60cc139641b6395e123a6e155    ALLINONE_F_Width1       1000   \n",
       "2  7ed515fe566938ee6cfbb6ebb7ea4995     Sports_F_Upright        300   \n",
       "3  3043163ba84753b4b51dd3290caeae67        tips_F_Width2       1000   \n",
       "4              3SCYZrn0Qo18XMB4JKTI  discuz_18316225_005        728   \n",
       "\n",
       "   slotheight slotvisibility slotformat  slotprice  \\\n",
       "0          90              0          0         80   \n",
       "1          90             Na         Na         70   \n",
       "2         250             Na         Na         10   \n",
       "3          90             Na         Na         50   \n",
       "4          90              0          0         20   \n",
       "\n",
       "                           creative  advertiser  \\\n",
       "0  832b91d59d0cb5731431653204a76c0e        1458   \n",
       "1                             10734        2821   \n",
       "2                             10722        2821   \n",
       "3                             10734        2821   \n",
       "4  b90c12ed2bd7950c6027bf9c6937c48a        3386   \n",
       "\n",
       "                                             usertag  \n",
       "0  13042,10076,10031,10057,10075,10006,13403,1006...  \n",
       "1          14273,10102,10006,10110,10031,13403,10063  \n",
       "2  10059,10684,10083,10024,10006,16706,10111,1005...  \n",
       "3                                               null  \n",
       "4                                               null  "
      ]
     },
     "execution_count": 23,
     "metadata": {},
     "output_type": "execute_result"
    }
   ],
   "source": [
    "data_train.head()"
   ]
  },
  {
   "cell_type": "markdown",
   "metadata": {},
   "source": [
    "### Preprocessing of data"
   ]
  },
  {
   "cell_type": "code",
   "execution_count": 24,
   "metadata": {
    "collapsed": false
   },
   "outputs": [],
   "source": [
    "#Removing strings in useragent\n",
    "data_train.update(data_train['useragent'].str.replace('_ie', ''))\n",
    "data_train.update(data_train['useragent'].str.replace('_firefox', ''))\n",
    "data_train.update(data_train['useragent'].str.replace('_safari', ''))\n",
    "data_train.update(data_train['useragent'].str.replace('_chrome', ''))\n",
    "data_train.update(data_train['useragent'].str.replace('_other', ''))\n",
    "data_train.update(data_train['useragent'].str.replace('_opera', ''))\n",
    "data_train.update(data_train['useragent'].str.replace('_maxthon', ''))\n",
    "data_train.update(data_train['useragent'].str.replace('_theworld', ''))\n",
    "data_train.update(data_train['useragent'].str.replace('_sogou', ''))"
   ]
  },
  {
   "cell_type": "markdown",
   "metadata": {},
   "source": [
    "#### Encoding the data"
   ]
  },
  {
   "cell_type": "code",
   "execution_count": 25,
   "metadata": {
    "collapsed": true
   },
   "outputs": [],
   "source": [
    "from sklearn.preprocessing import LabelEncoder"
   ]
  },
  {
   "cell_type": "code",
   "execution_count": 26,
   "metadata": {
    "collapsed": false
   },
   "outputs": [],
   "source": [
    "le=LabelEncoder()"
   ]
  },
  {
   "cell_type": "code",
   "execution_count": 27,
   "metadata": {
    "collapsed": true
   },
   "outputs": [],
   "source": [
    "le_ad= LabelEncoder()"
   ]
  },
  {
   "cell_type": "code",
   "execution_count": 28,
   "metadata": {
    "collapsed": false
   },
   "outputs": [
    {
     "data": {
      "text/plain": [
       "LabelEncoder()"
      ]
     },
     "execution_count": 28,
     "metadata": {},
     "output_type": "execute_result"
    }
   ],
   "source": [
    "le_ad.fit(['1458', '2821', '3386', '2261', '3476', '2259', '3358', '2997', '3427'])"
   ]
  },
  {
   "cell_type": "code",
   "execution_count": 29,
   "metadata": {
    "collapsed": false
   },
   "outputs": [],
   "source": [
    "data_train['advertiser'] = le_ad.transform(data_train.advertiser)"
   ]
  },
  {
   "cell_type": "code",
   "execution_count": 30,
   "metadata": {
    "collapsed": true
   },
   "outputs": [],
   "source": [
    "le_user= LabelEncoder()"
   ]
  },
  {
   "cell_type": "code",
   "execution_count": 31,
   "metadata": {
    "collapsed": false
   },
   "outputs": [],
   "source": [
    "data_train['useragent']= le_user.fit_transform(data_train.useragent)"
   ]
  },
  {
   "cell_type": "code",
   "execution_count": 32,
   "metadata": {
    "collapsed": true
   },
   "outputs": [],
   "source": [
    "le_adexchange= LabelEncoder()"
   ]
  },
  {
   "cell_type": "code",
   "execution_count": 33,
   "metadata": {
    "collapsed": false
   },
   "outputs": [
    {
     "data": {
      "text/plain": [
       "LabelEncoder()"
      ]
     },
     "execution_count": 33,
     "metadata": {},
     "output_type": "execute_result"
    }
   ],
   "source": [
    "le_adexchange.fit(['3', '2', '1', 'null', '4'])"
   ]
  },
  {
   "cell_type": "code",
   "execution_count": 34,
   "metadata": {
    "collapsed": false
   },
   "outputs": [],
   "source": [
    "data_train['slotprice'] = le.fit_transform(data_train.slotprice)"
   ]
  },
  {
   "cell_type": "code",
   "execution_count": 35,
   "metadata": {
    "collapsed": true
   },
   "outputs": [],
   "source": [
    "data_train['adexchange']= le_user.fit_transform(data_train.adexchange)"
   ]
  },
  {
   "cell_type": "code",
   "execution_count": 36,
   "metadata": {
    "collapsed": true
   },
   "outputs": [],
   "source": [
    "data_train['slotwidth']=le_user.fit_transform(data_train.slotwidth)"
   ]
  },
  {
   "cell_type": "code",
   "execution_count": 37,
   "metadata": {
    "collapsed": true
   },
   "outputs": [],
   "source": [
    "data_train['slotheight']=le_user.fit_transform(data_train.slotheight)"
   ]
  },
  {
   "cell_type": "code",
   "execution_count": 38,
   "metadata": {
    "collapsed": true
   },
   "outputs": [],
   "source": [
    "data_train['slotvisibility']=le_user.fit_transform(data_train.slotvisibility)"
   ]
  },
  {
   "cell_type": "code",
   "execution_count": 39,
   "metadata": {
    "collapsed": true
   },
   "outputs": [],
   "source": [
    "data_train['slotid']=le_user.fit_transform(data_train.slotformat)"
   ]
  },
  {
   "cell_type": "code",
   "execution_count": 40,
   "metadata": {
    "collapsed": true
   },
   "outputs": [],
   "source": [
    "data_train['slotformat']=le_user.fit_transform(data_train.slotformat)"
   ]
  },
  {
   "cell_type": "code",
   "execution_count": 41,
   "metadata": {
    "collapsed": true
   },
   "outputs": [],
   "source": [
    "data_train['city']=le_user.fit_transform(data_train.city)"
   ]
  },
  {
   "cell_type": "code",
   "execution_count": 42,
   "metadata": {
    "collapsed": true
   },
   "outputs": [],
   "source": [
    "data_train['region']=le_user.fit_transform(data_train.region)"
   ]
  },
  {
   "cell_type": "code",
   "execution_count": 43,
   "metadata": {
    "collapsed": true
   },
   "outputs": [],
   "source": [
    "data_train['creative']=le_user.fit_transform(data_train.creative)"
   ]
  },
  {
   "cell_type": "markdown",
   "metadata": {},
   "source": [
    "#### delete if necessary"
   ]
  },
  {
   "cell_type": "code",
   "execution_count": 44,
   "metadata": {
    "collapsed": false
   },
   "outputs": [],
   "source": [
    "data_train['usertag']= le_user.fit_transform(data_train.usertag)"
   ]
  },
  {
   "cell_type": "code",
   "execution_count": 45,
   "metadata": {
    "collapsed": true
   },
   "outputs": [],
   "source": [
    "data_train['domain']= le_user.fit_transform(data_train.domain)"
   ]
  },
  {
   "cell_type": "code",
   "execution_count": 46,
   "metadata": {
    "collapsed": true
   },
   "outputs": [],
   "source": [
    "data_train['IP']= le_user.fit_transform(data_train.IP)"
   ]
  },
  {
   "cell_type": "code",
   "execution_count": 47,
   "metadata": {
    "collapsed": true
   },
   "outputs": [],
   "source": [
    "#third drop- to improve performance \n",
    "#data_train = data_train.drop(['slotwidth','slotheight','slotvisibility','slotformat'],1)"
   ]
  },
  {
   "cell_type": "code",
   "execution_count": 48,
   "metadata": {
    "collapsed": false
   },
   "outputs": [
    {
     "data": {
      "text/plain": [
       "array([  9,   4, 224, 103, 113,  13,  75, 262, 216, 106,   1, 314, 107,\n",
       "       211, 228, 124, 250, 196, 255, 105, 170,  47,   2,  97,   0, 213,\n",
       "       215, 349,  78, 283, 252,  84, 202, 270, 147, 148, 198, 248, 134,\n",
       "       221,  64, 310,  89, 182,  96, 350, 217, 225,  14,  55, 145, 233,\n",
       "       242, 179, 153, 164, 125, 166,  12, 151, 319, 128,   7, 230, 220,\n",
       "       143,  74,  30, 214,  90, 227, 281, 243, 315, 308, 136, 174,  32,\n",
       "        85, 146,  98,  94, 183, 234, 155, 152,  81,  80, 363,  29, 222,\n",
       "       236, 154, 360, 115, 239, 208, 311, 126,  41,  82, 264, 132,  79,\n",
       "        99, 149, 210, 186, 197,   5,  83, 190,  17, 192, 200, 100,  11,\n",
       "       207, 127,  88, 165, 284, 235, 282, 130, 273, 119, 185,  42, 118,\n",
       "       229, 150, 176,  18, 356,  95,  52,  20, 104,  26, 307,  23, 274,\n",
       "       257, 168, 256, 110, 312, 159, 265, 121, 171,   6,  92, 244, 251,\n",
       "       258,  49, 204, 316, 109, 156, 218, 269,  58,  76, 291, 334, 187,\n",
       "       268,  34, 101,  19, 219, 322, 237,  62,  35, 226,  45,  43, 212,\n",
       "       294,  67, 133, 266, 158, 191, 161, 261, 178, 162,  33, 318, 163,\n",
       "        69, 131, 116, 351,  65, 272,  28, 367, 142, 359,  10,  56, 117,\n",
       "         8, 279, 317,  24, 343, 157, 140, 277,  25,  16, 241, 194, 364,\n",
       "        93, 122, 201, 137, 263, 325,  48, 347,  66, 180,  71,  37,  91,\n",
       "       188,  44,  31, 141,  50,  15,   3, 139, 285, 309, 286, 175, 111,\n",
       "       328, 289, 177, 292, 199, 355,  86, 129, 203, 280, 189,  63,  61,\n",
       "       193,  60, 160,  36, 345, 181, 246,  68,  51, 144, 287, 313, 240,\n",
       "       195, 173, 353, 295,  72,  54, 365, 167, 327,  46,  38, 108, 120,\n",
       "       369,  57,  21, 275,  59,  22, 112, 232, 184,  70, 135, 260, 114,\n",
       "        27,  73, 254, 288, 102, 245, 259, 361, 344, 331, 172, 253,  87,\n",
       "       238, 205, 320, 352, 123, 169,  40, 330, 249,  77, 276, 223, 354,\n",
       "        53, 321, 138, 323, 206, 300, 329, 362, 231, 209, 358, 301, 326,\n",
       "       267, 278, 346, 335, 368,  39, 247, 357, 324, 271, 290, 342, 296,\n",
       "       298, 302, 293, 306, 304, 348, 297, 332, 338, 336, 303, 341, 340,\n",
       "       339, 333, 299, 337, 305, 366], dtype=int64)"
      ]
     },
     "execution_count": 48,
     "metadata": {},
     "output_type": "execute_result"
    }
   ],
   "source": [
    "data_train.city.unique()"
   ]
  },
  {
   "cell_type": "code",
   "execution_count": 50,
   "metadata": {
    "collapsed": false
   },
   "outputs": [
    {
     "data": {
      "text/plain": [
       "Index(['click', 'weekday', 'hour', 'useragent', 'IP', 'region', 'city',\n",
       "       'adexchange', 'domain', 'slotid', 'slotwidth', 'slotheight',\n",
       "       'slotvisibility', 'slotformat', 'slotprice', 'creative', 'advertiser',\n",
       "       'usertag'],\n",
       "      dtype='object')"
      ]
     },
     "execution_count": 50,
     "metadata": {},
     "output_type": "execute_result"
    }
   ],
   "source": [
    "data_train.columns"
   ]
  },
  {
   "cell_type": "code",
   "execution_count": 51,
   "metadata": {
    "collapsed": false
   },
   "outputs": [],
   "source": [
    "from sklearn.preprocessing import MinMaxScaler\n",
    "mm = MinMaxScaler()\n",
    "data_train = pd.DataFrame(mm.fit_transform(data_train))\n",
    "data_train.columns = ['click', 'weekday', 'hour', 'useragent', 'IP', 'region', 'city',\n",
    "       'adexchange', 'domain', 'slotid', 'slotwidth', 'slotheight',\n",
    "       'slotvisibility', 'slotformat', 'slotprice', 'creative', 'advertiser',\n",
    "       'usertag']"
   ]
  },
  {
   "cell_type": "markdown",
   "metadata": {},
   "source": [
    "#### Validation pre-processing"
   ]
  },
  {
   "cell_type": "code",
   "execution_count": 54,
   "metadata": {
    "collapsed": true
   },
   "outputs": [],
   "source": [
    "#Drop columns\n",
    "df_v = df_v.drop(['bidid','userid','logtype','url','urlid','keypage','bidprice','payprice'],1)"
   ]
  },
  {
   "cell_type": "code",
   "execution_count": 55,
   "metadata": {
    "collapsed": true
   },
   "outputs": [],
   "source": [
    "#Removing strings in useragent\n",
    "df_v.update(df_v['useragent'].str.replace('_ie', ''))\n",
    "df_v.update(df_v['useragent'].str.replace('_firefox', ''))\n",
    "df_v.update(df_v['useragent'].str.replace('_safari', ''))\n",
    "df_v.update(df_v['useragent'].str.replace('_chrome', ''))\n",
    "df_v.update(df_v['useragent'].str.replace('_other', ''))\n",
    "df_v.update(df_v['useragent'].str.replace('_opera', ''))\n",
    "df_v.update(df_v['useragent'].str.replace('_maxthon', ''))\n",
    "df_v.update(df_v['useragent'].str.replace('_theworld', ''))\n",
    "df_v.update(df_v['useragent'].str.replace('_sogou', ''))"
   ]
  },
  {
   "cell_type": "code",
   "execution_count": 56,
   "metadata": {
    "collapsed": false
   },
   "outputs": [],
   "source": [
    "#Encoder transform for the validation set\n",
    "df_v['advertiser'] = le.fit_transform(df_v.advertiser)\n",
    "df_v['useragent']= le_user.fit_transform(df_v.useragent)\n",
    "df_v['slotprice'] = le.fit_transform(df_v.slotprice)\n",
    "df_v['adexchange']= le_user.fit_transform(df_v.adexchange)\n",
    "df_v['slotwidth']=le_user.fit_transform(df_v.slotwidth)\n",
    "df_v['slotheight']=le_user.fit_transform(df_v.slotheight)\n",
    "df_v['slotvisibility']=le_user.fit_transform(df_v.slotvisibility)\n",
    "df_v['slotid']=le_user.fit_transform(df_v.slotformat)\n",
    "df_v['slotformat']=le_user.fit_transform(df_v.slotformat)\n",
    "df_v['city']=le_user.fit_transform(df_v.city)\n",
    "df_v['region']=le_user.fit_transform(df_v.region)\n",
    "df_v['creative']=le_user.fit_transform(df_v.creative)\n",
    "#Additional\n",
    "df_v['usertag']= le_user.fit_transform(df_v.usertag)\n",
    "df_v['domain']= le_user.fit_transform(df_v.domain)\n",
    "df_v['IP']= le_user.fit_transform(df_v.IP)\n"
   ]
  },
  {
   "cell_type": "code",
   "execution_count": 59,
   "metadata": {
    "collapsed": false
   },
   "outputs": [
    {
     "data": {
      "text/plain": [
       "Index(['click', 'weekday', 'hour', 'useragent', 'IP', 'region', 'city',\n",
       "       'adexchange', 'domain', 'slotid', 'slotwidth', 'slotheight',\n",
       "       'slotvisibility', 'slotformat', 'slotprice', 'creative', 'advertiser',\n",
       "       'usertag'],\n",
       "      dtype='object')"
      ]
     },
     "execution_count": 59,
     "metadata": {},
     "output_type": "execute_result"
    }
   ],
   "source": [
    "df_v.columns"
   ]
  },
  {
   "cell_type": "code",
   "execution_count": 60,
   "metadata": {
    "collapsed": true
   },
   "outputs": [],
   "source": [
    "df_v = pd.DataFrame(mm.fit_transform(df_v))\n",
    "df_v.columns = ['click', 'weekday', 'hour', 'useragent', 'IP', 'region', 'city',\n",
    "       'adexchange', 'domain', 'slotid', 'slotwidth', 'slotheight',\n",
    "       'slotvisibility', 'slotformat', 'slotprice', 'creative', 'advertiser',\n",
    "       'usertag']"
   ]
  },
  {
   "cell_type": "code",
   "execution_count": 61,
   "metadata": {
    "collapsed": false
   },
   "outputs": [],
   "source": [
    "#Separate the training set \n",
    "X_train = data_train.ix[:,1:]\n",
    "y_train = data_train['click']\n",
    "#Need to repeat encoding for the validation set + validation test set\n",
    "X_test = df_v.ix[:,1:]\n",
    "y_test = df_v['click']"
   ]
  },
  {
   "cell_type": "code",
   "execution_count": 63,
   "metadata": {
    "collapsed": false
   },
   "outputs": [
    {
     "data": {
      "text/html": [
       "<div>\n",
       "<table border=\"1\" class=\"dataframe\">\n",
       "  <thead>\n",
       "    <tr style=\"text-align: right;\">\n",
       "      <th></th>\n",
       "      <th>weekday</th>\n",
       "      <th>hour</th>\n",
       "      <th>useragent</th>\n",
       "      <th>IP</th>\n",
       "      <th>region</th>\n",
       "      <th>city</th>\n",
       "      <th>adexchange</th>\n",
       "      <th>domain</th>\n",
       "      <th>slotid</th>\n",
       "      <th>slotwidth</th>\n",
       "      <th>slotheight</th>\n",
       "      <th>slotvisibility</th>\n",
       "      <th>slotformat</th>\n",
       "      <th>slotprice</th>\n",
       "      <th>creative</th>\n",
       "      <th>advertiser</th>\n",
       "      <th>usertag</th>\n",
       "    </tr>\n",
       "  </thead>\n",
       "  <tbody>\n",
       "    <tr>\n",
       "      <th>0</th>\n",
       "      <td>0.833333</td>\n",
       "      <td>0.434783</td>\n",
       "      <td>1.0</td>\n",
       "      <td>0.343308</td>\n",
       "      <td>0.088235</td>\n",
       "      <td>0.024390</td>\n",
       "      <td>0.5</td>\n",
       "      <td>0.201902</td>\n",
       "      <td>0.0</td>\n",
       "      <td>1.00</td>\n",
       "      <td>0.230769</td>\n",
       "      <td>0.0</td>\n",
       "      <td>0.0</td>\n",
       "      <td>0.272085</td>\n",
       "      <td>0.744186</td>\n",
       "      <td>0.000</td>\n",
       "      <td>0.819913</td>\n",
       "    </tr>\n",
       "    <tr>\n",
       "      <th>1</th>\n",
       "      <td>0.166667</td>\n",
       "      <td>0.695652</td>\n",
       "      <td>1.0</td>\n",
       "      <td>0.068357</td>\n",
       "      <td>0.088235</td>\n",
       "      <td>0.010840</td>\n",
       "      <td>0.5</td>\n",
       "      <td>0.121191</td>\n",
       "      <td>1.0</td>\n",
       "      <td>1.00</td>\n",
       "      <td>0.230769</td>\n",
       "      <td>0.7</td>\n",
       "      <td>1.0</td>\n",
       "      <td>0.236749</td>\n",
       "      <td>0.093023</td>\n",
       "      <td>0.375</td>\n",
       "      <td>0.985446</td>\n",
       "    </tr>\n",
       "    <tr>\n",
       "      <th>2</th>\n",
       "      <td>0.000000</td>\n",
       "      <td>1.000000</td>\n",
       "      <td>1.0</td>\n",
       "      <td>0.971555</td>\n",
       "      <td>0.558824</td>\n",
       "      <td>0.607046</td>\n",
       "      <td>0.5</td>\n",
       "      <td>0.312422</td>\n",
       "      <td>1.0</td>\n",
       "      <td>0.35</td>\n",
       "      <td>0.769231</td>\n",
       "      <td>0.7</td>\n",
       "      <td>1.0</td>\n",
       "      <td>0.024735</td>\n",
       "      <td>0.069767</td>\n",
       "      <td>0.375</td>\n",
       "      <td>0.452895</td>\n",
       "    </tr>\n",
       "    <tr>\n",
       "      <th>3</th>\n",
       "      <td>0.166667</td>\n",
       "      <td>0.782609</td>\n",
       "      <td>1.0</td>\n",
       "      <td>0.122131</td>\n",
       "      <td>0.323529</td>\n",
       "      <td>0.279133</td>\n",
       "      <td>0.5</td>\n",
       "      <td>0.060035</td>\n",
       "      <td>1.0</td>\n",
       "      <td>1.00</td>\n",
       "      <td>0.230769</td>\n",
       "      <td>0.7</td>\n",
       "      <td>1.0</td>\n",
       "      <td>0.166078</td>\n",
       "      <td>0.093023</td>\n",
       "      <td>0.375</td>\n",
       "      <td>1.000000</td>\n",
       "    </tr>\n",
       "    <tr>\n",
       "      <th>4</th>\n",
       "      <td>0.166667</td>\n",
       "      <td>0.130435</td>\n",
       "      <td>1.0</td>\n",
       "      <td>0.823521</td>\n",
       "      <td>0.352941</td>\n",
       "      <td>0.306233</td>\n",
       "      <td>0.5</td>\n",
       "      <td>0.112929</td>\n",
       "      <td>0.0</td>\n",
       "      <td>0.70</td>\n",
       "      <td>0.230769</td>\n",
       "      <td>0.0</td>\n",
       "      <td>0.0</td>\n",
       "      <td>0.060071</td>\n",
       "      <td>0.806202</td>\n",
       "      <td>0.750</td>\n",
       "      <td>1.000000</td>\n",
       "    </tr>\n",
       "  </tbody>\n",
       "</table>\n",
       "</div>"
      ],
      "text/plain": [
       "    weekday      hour  useragent        IP    region      city  adexchange  \\\n",
       "0  0.833333  0.434783        1.0  0.343308  0.088235  0.024390         0.5   \n",
       "1  0.166667  0.695652        1.0  0.068357  0.088235  0.010840         0.5   \n",
       "2  0.000000  1.000000        1.0  0.971555  0.558824  0.607046         0.5   \n",
       "3  0.166667  0.782609        1.0  0.122131  0.323529  0.279133         0.5   \n",
       "4  0.166667  0.130435        1.0  0.823521  0.352941  0.306233         0.5   \n",
       "\n",
       "     domain  slotid  slotwidth  slotheight  slotvisibility  slotformat  \\\n",
       "0  0.201902     0.0       1.00    0.230769             0.0         0.0   \n",
       "1  0.121191     1.0       1.00    0.230769             0.7         1.0   \n",
       "2  0.312422     1.0       0.35    0.769231             0.7         1.0   \n",
       "3  0.060035     1.0       1.00    0.230769             0.7         1.0   \n",
       "4  0.112929     0.0       0.70    0.230769             0.0         0.0   \n",
       "\n",
       "   slotprice  creative  advertiser   usertag  \n",
       "0   0.272085  0.744186       0.000  0.819913  \n",
       "1   0.236749  0.093023       0.375  0.985446  \n",
       "2   0.024735  0.069767       0.375  0.452895  \n",
       "3   0.166078  0.093023       0.375  1.000000  \n",
       "4   0.060071  0.806202       0.750  1.000000  "
      ]
     },
     "execution_count": 63,
     "metadata": {},
     "output_type": "execute_result"
    }
   ],
   "source": [
    "#Work with x_train-Bid request and y_train - clicks\n",
    "X_train.head()"
   ]
  },
  {
   "cell_type": "markdown",
   "metadata": {},
   "source": [
    "#### PCTR prediction feature engineering "
   ]
  },
  {
   "cell_type": "code",
   "execution_count": 59,
   "metadata": {
    "collapsed": false
   },
   "outputs": [],
   "source": [
    "#Using random forest classifier to predict clicks\n",
    "from sklearn.ensemble import RandomForestClassifier"
   ]
  },
  {
   "cell_type": "markdown",
   "metadata": {},
   "source": [
    "#### Sample split is important"
   ]
  },
  {
   "cell_type": "raw",
   "metadata": {
    "collapsed": false
   },
   "source": [
    "#Best random forest so far  #predicted 149 clicks with 18 accurate clicks [around 30mins]\n",
    "clf = RandomForestClassifier(n_estimators=100, max_features = 5, oob_score = True, random_state = 2, \n",
    "                             min_impurity_split= 0.02, min_samples_leaf = 10,                                                         \n",
    "                             min_weight_fraction_leaf= 0,min_samples_split = 10,class_weight= 'balanced_subsample')\n",
    "                             \n",
    "```RandomForestClassifier(bootstrap=True, class_weight='balanced_subsample',\n",
    "            criterion='gini', max_depth=None, max_features=5,\n",
    "            max_leaf_nodes=None, min_impurity_split=0.02,\n",
    "            min_samples_leaf=12, min_samples_split=10,\n",
    "            min_weight_fraction_leaf=0, n_estimators=100, n_jobs=1,\n",
    "            oob_score=True, random_state=5, verbose=0, warm_start=False) \n",
    "```"
   ]
  },
  {
   "cell_type": "code",
   "execution_count": 61,
   "metadata": {
    "collapsed": true
   },
   "outputs": [],
   "source": [
    "#Feel free to change the parameters\n",
    "clf = RandomForestClassifier(n_estimators=1000, max_features = 8, oob_score = True, random_state = 8, \n",
    "                             min_impurity_split= 0.04, min_samples_leaf = 12, \n",
    "                             min_weight_fraction_leaf= 0,min_samples_split = 8,class_weight= 'balanced_subsample') #balanced_subsample"
   ]
  },
  {
   "cell_type": "code",
   "execution_count": 62,
   "metadata": {
    "collapsed": false
   },
   "outputs": [
    {
     "name": "stdout",
     "output_type": "stream",
     "text": [
      "Wall time: 7h 52min 21s\n"
     ]
    },
    {
     "data": {
      "text/plain": [
       "RandomForestClassifier(bootstrap=True, class_weight='balanced_subsample',\n",
       "            criterion='gini', max_depth=None, max_features=8,\n",
       "            max_leaf_nodes=None, min_impurity_split=0.04,\n",
       "            min_samples_leaf=12, min_samples_split=8,\n",
       "            min_weight_fraction_leaf=0, n_estimators=1000, n_jobs=1,\n",
       "            oob_score=True, random_state=8, verbose=0, warm_start=False)"
      ]
     },
     "execution_count": 62,
     "metadata": {},
     "output_type": "execute_result"
    }
   ],
   "source": [
    "%%time\n",
    "clf.fit(X_train, y_train)"
   ]
  },
  {
   "cell_type": "code",
   "execution_count": 5,
   "metadata": {
    "collapsed": false
   },
   "outputs": [],
   "source": [
    "#load random forest\n",
    "clf= joblib.load('random_forest_1.pkl')"
   ]
  },
  {
   "cell_type": "code",
   "execution_count": 65,
   "metadata": {
    "collapsed": false
   },
   "outputs": [
    {
     "data": {
      "text/plain": [
       "array([ 0.,  0.,  0., ...,  0.,  0.,  0.])"
      ]
     },
     "execution_count": 65,
     "metadata": {},
     "output_type": "execute_result"
    }
   ],
   "source": [
    "clf.predict(X_test)"
   ]
  },
  {
   "cell_type": "code",
   "execution_count": 38,
   "metadata": {
    "collapsed": false,
    "scrolled": true
   },
   "outputs": [
    {
     "name": "stderr",
     "output_type": "stream",
     "text": [
      "ERROR:root:Internal Python error in the inspect module.\n",
      "Below is the traceback from this internal error.\n",
      "\n",
      "\n",
      "KeyboardInterrupt\n",
      "\n"
     ]
    }
   ],
   "source": [
    "#dont run this after loading\n",
    "clf_predict = clf.predict(X_test)"
   ]
  },
  {
   "cell_type": "code",
   "execution_count": 6,
   "metadata": {
    "collapsed": false
   },
   "outputs": [
    {
     "data": {
      "text/plain": [
       "0.99702973379920512"
      ]
     },
     "execution_count": 6,
     "metadata": {},
     "output_type": "execute_result"
    }
   ],
   "source": [
    "clf.oob_score_"
   ]
  },
  {
   "cell_type": "code",
   "execution_count": 6,
   "metadata": {
    "collapsed": false
   },
   "outputs": [
    {
     "ename": "NameError",
     "evalue": "name 'X_train' is not defined",
     "output_type": "error",
     "traceback": [
      "\u001b[0;31m---------------------------------------------------------------------------\u001b[0m",
      "\u001b[0;31mNameError\u001b[0m                                 Traceback (most recent call last)",
      "\u001b[0;32m<ipython-input-6-91074b649993>\u001b[0m in \u001b[0;36m<module>\u001b[0;34m()\u001b[0m\n\u001b[0;32m----> 1\u001b[0;31m \u001b[1;32mfor\u001b[0m \u001b[0mfeature\u001b[0m\u001b[1;33m,\u001b[0m \u001b[0mimportance\u001b[0m \u001b[1;32min\u001b[0m \u001b[0mzip\u001b[0m\u001b[1;33m(\u001b[0m\u001b[0mX_train\u001b[0m\u001b[1;33m.\u001b[0m\u001b[0mcolumns\u001b[0m\u001b[1;33m,\u001b[0m\u001b[0mclf\u001b[0m\u001b[1;33m.\u001b[0m\u001b[0mfeature_importances_\u001b[0m\u001b[1;33m)\u001b[0m\u001b[1;33m:\u001b[0m\u001b[1;33m\u001b[0m\u001b[0m\n\u001b[0m\u001b[1;32m      2\u001b[0m     \u001b[0mprint\u001b[0m \u001b[1;33m(\u001b[0m\u001b[0mfeature\u001b[0m\u001b[1;33m,\u001b[0m \u001b[1;34m\":\"\u001b[0m\u001b[1;33m,\u001b[0m \u001b[0mimportance\u001b[0m\u001b[1;33m)\u001b[0m\u001b[1;33m\u001b[0m\u001b[0m\n",
      "\u001b[0;31mNameError\u001b[0m: name 'X_train' is not defined"
     ]
    }
   ],
   "source": [
    "for feature, importance in zip(X_train.columns,clf.feature_importances_):\n",
    "    print (feature, \":\", importance)"
   ]
  },
  {
   "cell_type": "code",
   "execution_count": 68,
   "metadata": {
    "collapsed": false
   },
   "outputs": [],
   "source": [
    "acc_df = pd.DataFrame([clf.predict(X_test).transpose(),y_test], index=['Predict','Test']).transpose()"
   ]
  },
  {
   "cell_type": "code",
   "execution_count": 72,
   "metadata": {
    "collapsed": false
   },
   "outputs": [
    {
     "name": "stdout",
     "output_type": "stream",
     "text": [
      "Stored 'acc_df' (DataFrame)\n"
     ]
    }
   ],
   "source": [
    "%store acc_df"
   ]
  },
  {
   "cell_type": "code",
   "execution_count": 69,
   "metadata": {
    "collapsed": false
   },
   "outputs": [
    {
     "ename": "NameError",
     "evalue": "name 'clf_predict' is not defined",
     "output_type": "error",
     "traceback": [
      "\u001b[0;31m---------------------------------------------------------------------------\u001b[0m",
      "\u001b[0;31mNameError\u001b[0m                                 Traceback (most recent call last)",
      "\u001b[0;32m<ipython-input-69-cb4cf62a081b>\u001b[0m in \u001b[0;36m<module>\u001b[0;34m()\u001b[0m\n\u001b[1;32m      1\u001b[0m \u001b[1;31m#Number of clicks 1 = actually predicted\u001b[0m\u001b[1;33m\u001b[0m\u001b[1;33m\u001b[0m\u001b[0m\n\u001b[0;32m----> 2\u001b[0;31m \u001b[0mnp\u001b[0m\u001b[1;33m.\u001b[0m\u001b[0mcount_nonzero\u001b[0m\u001b[1;33m(\u001b[0m\u001b[0mclf_predict\u001b[0m\u001b[1;33m)\u001b[0m\u001b[1;33m\u001b[0m\u001b[0m\n\u001b[0m",
      "\u001b[0;31mNameError\u001b[0m: name 'clf_predict' is not defined"
     ]
    }
   ],
   "source": [
    "#Number of clicks 1 = actually predicted \n",
    "np.count_nonzero(clf_predict)"
   ]
  },
  {
   "cell_type": "code",
   "execution_count": 70,
   "metadata": {
    "collapsed": false
   },
   "outputs": [
    {
     "data": {
      "text/html": [
       "<div>\n",
       "<table border=\"1\" class=\"dataframe\">\n",
       "  <thead>\n",
       "    <tr style=\"text-align: right;\">\n",
       "      <th></th>\n",
       "      <th>click</th>\n",
       "      <th>weekday</th>\n",
       "      <th>hour</th>\n",
       "      <th>useragent</th>\n",
       "      <th>IP</th>\n",
       "      <th>region</th>\n",
       "      <th>city</th>\n",
       "      <th>adexchange</th>\n",
       "      <th>domain</th>\n",
       "      <th>slotid</th>\n",
       "      <th>slotwidth</th>\n",
       "      <th>slotheight</th>\n",
       "      <th>slotvisibility</th>\n",
       "      <th>slotformat</th>\n",
       "      <th>slotprice</th>\n",
       "      <th>creative</th>\n",
       "      <th>advertiser</th>\n",
       "      <th>usertag</th>\n",
       "    </tr>\n",
       "  </thead>\n",
       "  <tbody>\n",
       "    <tr>\n",
       "      <th>4932</th>\n",
       "      <td>1.0</td>\n",
       "      <td>0.333333</td>\n",
       "      <td>0.782609</td>\n",
       "      <td>0.0</td>\n",
       "      <td>0.673227</td>\n",
       "      <td>0.323529</td>\n",
       "      <td>0.260163</td>\n",
       "      <td>1.0</td>\n",
       "      <td>0.692358</td>\n",
       "      <td>1.0</td>\n",
       "      <td>0.4</td>\n",
       "      <td>0.0</td>\n",
       "      <td>0.5</td>\n",
       "      <td>1.0</td>\n",
       "      <td>0.011321</td>\n",
       "      <td>0.101562</td>\n",
       "      <td>0.5</td>\n",
       "      <td>1.0</td>\n",
       "    </tr>\n",
       "  </tbody>\n",
       "</table>\n",
       "</div>"
      ],
      "text/plain": [
       "      click   weekday      hour  useragent        IP    region      city  \\\n",
       "4932    1.0  0.333333  0.782609        0.0  0.673227  0.323529  0.260163   \n",
       "\n",
       "      adexchange    domain  slotid  slotwidth  slotheight  slotvisibility  \\\n",
       "4932         1.0  0.692358     1.0        0.4         0.0             0.5   \n",
       "\n",
       "      slotformat  slotprice  creative  advertiser  usertag  \n",
       "4932         1.0   0.011321  0.101562         0.5      1.0  "
      ]
     },
     "execution_count": 70,
     "metadata": {},
     "output_type": "execute_result"
    }
   ],
   "source": [
    "df_v.loc[[4932]]"
   ]
  },
  {
   "cell_type": "code",
   "execution_count": 71,
   "metadata": {
    "collapsed": false
   },
   "outputs": [
    {
     "name": "stdout",
     "output_type": "stream",
     "text": [
      "Number of accurate clicks: 31\n",
      "Number of clicks: 555 out of 226\n"
     ]
    },
    {
     "data": {
      "text/html": [
       "<div>\n",
       "<table border=\"1\" class=\"dataframe\">\n",
       "  <thead>\n",
       "    <tr style=\"text-align: right;\">\n",
       "      <th></th>\n",
       "      <th>Predict</th>\n",
       "      <th>Test</th>\n",
       "    </tr>\n",
       "  </thead>\n",
       "  <tbody>\n",
       "    <tr>\n",
       "      <th>2417</th>\n",
       "      <td>1.0</td>\n",
       "      <td>1.0</td>\n",
       "    </tr>\n",
       "    <tr>\n",
       "      <th>17526</th>\n",
       "      <td>1.0</td>\n",
       "      <td>1.0</td>\n",
       "    </tr>\n",
       "    <tr>\n",
       "      <th>41277</th>\n",
       "      <td>1.0</td>\n",
       "      <td>1.0</td>\n",
       "    </tr>\n",
       "    <tr>\n",
       "      <th>45304</th>\n",
       "      <td>1.0</td>\n",
       "      <td>1.0</td>\n",
       "    </tr>\n",
       "    <tr>\n",
       "      <th>52906</th>\n",
       "      <td>1.0</td>\n",
       "      <td>1.0</td>\n",
       "    </tr>\n",
       "    <tr>\n",
       "      <th>54793</th>\n",
       "      <td>1.0</td>\n",
       "      <td>1.0</td>\n",
       "    </tr>\n",
       "    <tr>\n",
       "      <th>55489</th>\n",
       "      <td>1.0</td>\n",
       "      <td>1.0</td>\n",
       "    </tr>\n",
       "    <tr>\n",
       "      <th>65866</th>\n",
       "      <td>1.0</td>\n",
       "      <td>1.0</td>\n",
       "    </tr>\n",
       "    <tr>\n",
       "      <th>77341</th>\n",
       "      <td>1.0</td>\n",
       "      <td>1.0</td>\n",
       "    </tr>\n",
       "    <tr>\n",
       "      <th>77710</th>\n",
       "      <td>1.0</td>\n",
       "      <td>1.0</td>\n",
       "    </tr>\n",
       "    <tr>\n",
       "      <th>92422</th>\n",
       "      <td>1.0</td>\n",
       "      <td>1.0</td>\n",
       "    </tr>\n",
       "    <tr>\n",
       "      <th>99680</th>\n",
       "      <td>1.0</td>\n",
       "      <td>1.0</td>\n",
       "    </tr>\n",
       "    <tr>\n",
       "      <th>99751</th>\n",
       "      <td>1.0</td>\n",
       "      <td>1.0</td>\n",
       "    </tr>\n",
       "    <tr>\n",
       "      <th>108375</th>\n",
       "      <td>1.0</td>\n",
       "      <td>1.0</td>\n",
       "    </tr>\n",
       "    <tr>\n",
       "      <th>116723</th>\n",
       "      <td>1.0</td>\n",
       "      <td>1.0</td>\n",
       "    </tr>\n",
       "    <tr>\n",
       "      <th>117218</th>\n",
       "      <td>1.0</td>\n",
       "      <td>1.0</td>\n",
       "    </tr>\n",
       "    <tr>\n",
       "      <th>131638</th>\n",
       "      <td>1.0</td>\n",
       "      <td>1.0</td>\n",
       "    </tr>\n",
       "    <tr>\n",
       "      <th>132760</th>\n",
       "      <td>1.0</td>\n",
       "      <td>1.0</td>\n",
       "    </tr>\n",
       "    <tr>\n",
       "      <th>140362</th>\n",
       "      <td>1.0</td>\n",
       "      <td>1.0</td>\n",
       "    </tr>\n",
       "    <tr>\n",
       "      <th>193379</th>\n",
       "      <td>1.0</td>\n",
       "      <td>1.0</td>\n",
       "    </tr>\n",
       "    <tr>\n",
       "      <th>198062</th>\n",
       "      <td>1.0</td>\n",
       "      <td>1.0</td>\n",
       "    </tr>\n",
       "    <tr>\n",
       "      <th>206048</th>\n",
       "      <td>1.0</td>\n",
       "      <td>1.0</td>\n",
       "    </tr>\n",
       "    <tr>\n",
       "      <th>214954</th>\n",
       "      <td>1.0</td>\n",
       "      <td>1.0</td>\n",
       "    </tr>\n",
       "    <tr>\n",
       "      <th>241762</th>\n",
       "      <td>1.0</td>\n",
       "      <td>1.0</td>\n",
       "    </tr>\n",
       "    <tr>\n",
       "      <th>258528</th>\n",
       "      <td>1.0</td>\n",
       "      <td>1.0</td>\n",
       "    </tr>\n",
       "    <tr>\n",
       "      <th>267032</th>\n",
       "      <td>1.0</td>\n",
       "      <td>1.0</td>\n",
       "    </tr>\n",
       "    <tr>\n",
       "      <th>267418</th>\n",
       "      <td>1.0</td>\n",
       "      <td>1.0</td>\n",
       "    </tr>\n",
       "    <tr>\n",
       "      <th>280982</th>\n",
       "      <td>1.0</td>\n",
       "      <td>1.0</td>\n",
       "    </tr>\n",
       "    <tr>\n",
       "      <th>282029</th>\n",
       "      <td>1.0</td>\n",
       "      <td>1.0</td>\n",
       "    </tr>\n",
       "    <tr>\n",
       "      <th>292704</th>\n",
       "      <td>1.0</td>\n",
       "      <td>1.0</td>\n",
       "    </tr>\n",
       "    <tr>\n",
       "      <th>294730</th>\n",
       "      <td>1.0</td>\n",
       "      <td>1.0</td>\n",
       "    </tr>\n",
       "  </tbody>\n",
       "</table>\n",
       "</div>"
      ],
      "text/plain": [
       "        Predict  Test\n",
       "2417        1.0   1.0\n",
       "17526       1.0   1.0\n",
       "41277       1.0   1.0\n",
       "45304       1.0   1.0\n",
       "52906       1.0   1.0\n",
       "54793       1.0   1.0\n",
       "55489       1.0   1.0\n",
       "65866       1.0   1.0\n",
       "77341       1.0   1.0\n",
       "77710       1.0   1.0\n",
       "92422       1.0   1.0\n",
       "99680       1.0   1.0\n",
       "99751       1.0   1.0\n",
       "108375      1.0   1.0\n",
       "116723      1.0   1.0\n",
       "117218      1.0   1.0\n",
       "131638      1.0   1.0\n",
       "132760      1.0   1.0\n",
       "140362      1.0   1.0\n",
       "193379      1.0   1.0\n",
       "198062      1.0   1.0\n",
       "206048      1.0   1.0\n",
       "214954      1.0   1.0\n",
       "241762      1.0   1.0\n",
       "258528      1.0   1.0\n",
       "267032      1.0   1.0\n",
       "267418      1.0   1.0\n",
       "280982      1.0   1.0\n",
       "282029      1.0   1.0\n",
       "292704      1.0   1.0\n",
       "294730      1.0   1.0"
      ]
     },
     "execution_count": 71,
     "metadata": {},
     "output_type": "execute_result"
    }
   ],
   "source": [
    "print('Number of accurate clicks: '+ str(len(acc_df[(acc_df.Predict==1)&(acc_df.Test==1)])))\n",
    "print('Number of clicks: '+ str(len(acc_df[acc_df.Predict==1]))+ ' out of ' + str(len(acc_df[acc_df.Test==1])))\n",
    "acc_df[(acc_df.Predict==1)&(acc_df.Test==1)]"
   ]
  },
  {
   "cell_type": "markdown",
   "metadata": {},
   "source": [
    "#### Feature importance table "
   ]
  },
  {
   "cell_type": "code",
   "execution_count": 16,
   "metadata": {
    "collapsed": false
   },
   "outputs": [],
   "source": [
    "df_feat_imp = pd.Series(data={'weekday' : 0.0480404989746,\n",
    "'hour' : 0.0811268786201,\n",
    "'useragent' : 0.0663829361584,\n",
    "'IP' : 0.139412881838,\n",
    "'region' : 0.0450016775641,\n",
    "'city' : 0.101127068119,\n",
    "'adexchange' : 0.0157262061283,\n",
    "'domain' : 0.0999075939707,\n",
    "'slotid' : 0.0074363306999,\n",
    "'slotwidth' : 0.0273291819777,\n",
    "'slotheight' : 0.0215029727065,\n",
    "'slotvisibility' : 0.0292156302147,\n",
    "'slotformat' : 0.00775163393006,\n",
    "'slotprice' : 0.0428730374553,\n",
    "'creative' : 0.0527915814087,\n",
    "'advertiser' : 0.0309960712712,\n",
    "'usertag' : 0.183377818963}, name='Importance [%]')"
   ]
  },
  {
   "cell_type": "code",
   "execution_count": 2,
   "metadata": {
    "collapsed": false
   },
   "outputs": [
    {
     "ename": "NameError",
     "evalue": "name 'pd' is not defined",
     "output_type": "error",
     "traceback": [
      "\u001b[0;31m---------------------------------------------------------------------------\u001b[0m",
      "\u001b[0;31mNameError\u001b[0m                                 Traceback (most recent call last)",
      "\u001b[0;32m<ipython-input-2-14fcf2308b30>\u001b[0m in \u001b[0;36m<module>\u001b[0;34m()\u001b[0m\n\u001b[0;32m----> 1\u001b[0;31m \u001b[0mpd\u001b[0m\u001b[1;33m.\u001b[0m\u001b[0mconcat\u001b[0m\u001b[1;33m(\u001b[0m\u001b[1;33m[\u001b[0m\u001b[0mdf_feat_imp1\u001b[0m\u001b[1;33m,\u001b[0m\u001b[0mdf_feat_imp2\u001b[0m\u001b[1;33m]\u001b[0m\u001b[1;33m,\u001b[0m\u001b[0maxis\u001b[0m \u001b[1;33m=\u001b[0m\u001b[1;36m1\u001b[0m\u001b[1;33m)\u001b[0m\u001b[1;33m\u001b[0m\u001b[0m\n\u001b[0m",
      "\u001b[0;31mNameError\u001b[0m: name 'pd' is not defined"
     ]
    }
   ],
   "source": [
    "pd.concat([df_feat_imp1,df_feat_imp2],axis =1)"
   ]
  },
  {
   "cell_type": "markdown",
   "metadata": {},
   "source": [
    "#### Cross validation"
   ]
  },
  {
   "cell_type": "code",
   "execution_count": 7,
   "metadata": {
    "collapsed": true
   },
   "outputs": [],
   "source": [
    "from sklearn.model_selection import cross_val_score"
   ]
  },
  {
   "cell_type": "code",
   "execution_count": 8,
   "metadata": {
    "collapsed": false
   },
   "outputs": [
    {
     "ename": "NameError",
     "evalue": "name 'data_train' is not defined",
     "output_type": "error",
     "traceback": [
      "\u001b[0;31m---------------------------------------------------------------------------\u001b[0m",
      "\u001b[0;31mNameError\u001b[0m                                 Traceback (most recent call last)",
      "\u001b[0;32m<ipython-input-8-53e5235ea3e4>\u001b[0m in \u001b[0;36m<module>\u001b[0;34m()\u001b[0m\n\u001b[0;32m----> 1\u001b[0;31m \u001b[0mscores\u001b[0m \u001b[1;33m=\u001b[0m \u001b[0mcross_val_score\u001b[0m\u001b[1;33m(\u001b[0m\u001b[0mclf\u001b[0m\u001b[1;33m,\u001b[0m \u001b[0mdata_train\u001b[0m\u001b[1;33m.\u001b[0m\u001b[0mix\u001b[0m\u001b[1;33m[\u001b[0m\u001b[1;33m:\u001b[0m\u001b[1;33m,\u001b[0m\u001b[1;36m1\u001b[0m\u001b[1;33m:\u001b[0m\u001b[1;33m]\u001b[0m\u001b[1;33m,\u001b[0m \u001b[0mdata_train\u001b[0m\u001b[1;33m[\u001b[0m\u001b[1;34m'click'\u001b[0m\u001b[1;33m]\u001b[0m\u001b[1;33m,\u001b[0m \u001b[0mcv\u001b[0m\u001b[1;33m=\u001b[0m\u001b[1;36m5\u001b[0m\u001b[1;33m)\u001b[0m\u001b[1;33m\u001b[0m\u001b[0m\n\u001b[0m",
      "\u001b[0;31mNameError\u001b[0m: name 'data_train' is not defined"
     ]
    }
   ],
   "source": [
    "scores = cross_val_score(clf, data_train.ix[:,1:], data_train['click'], cv=5)"
   ]
  }
 ],
 "metadata": {
  "anaconda-cloud": {},
  "kernelspec": {
   "display_name": "Python [default]",
   "language": "python",
   "name": "python3"
  },
  "language_info": {
   "codemirror_mode": {
    "name": "ipython",
    "version": 3
   },
   "file_extension": ".py",
   "mimetype": "text/x-python",
   "name": "python",
   "nbconvert_exporter": "python",
   "pygments_lexer": "ipython3",
   "version": "3.5.2"
  }
 },
 "nbformat": 4,
 "nbformat_minor": 1
}

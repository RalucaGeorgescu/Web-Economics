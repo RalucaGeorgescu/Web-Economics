{
 "cells": [
  {
   "cell_type": "code",
   "execution_count": 2,
   "metadata": {
    "collapsed": true
   },
   "outputs": [],
   "source": [
    "%matplotlib inline"
   ]
  },
  {
   "cell_type": "code",
   "execution_count": 3,
   "metadata": {
    "collapsed": false
   },
   "outputs": [],
   "source": [
    "import pandas as pd\n",
    "import seaborn as sns\n",
    "import matplotlib.pyplot as plt\n",
    "import numpy as np"
   ]
  },
  {
   "cell_type": "code",
   "execution_count": 4,
   "metadata": {
    "collapsed": true
   },
   "outputs": [],
   "source": [
    "df = pd.read_csv(\"C:/Users/Weng/Desktop/Web economics/Dataset/train.csv\")"
   ]
  },
  {
   "cell_type": "code",
   "execution_count": 5,
   "metadata": {
    "collapsed": false
   },
   "outputs": [
    {
     "data": {
      "text/plain": [
       "click             2697738\n",
       "weekday           2697738\n",
       "hour              2697738\n",
       "bidid             2697738\n",
       "logtype           2697738\n",
       "userid            2697738\n",
       "useragent         2697738\n",
       "IP                2697738\n",
       "region            2697738\n",
       "city              2697738\n",
       "adexchange        2697738\n",
       "domain            2697738\n",
       "url               2697738\n",
       "urlid             2697738\n",
       "slotid            2697738\n",
       "slotwidth         2697738\n",
       "slotheight        2697738\n",
       "slotvisibility    2697738\n",
       "slotformat        2697738\n",
       "slotprice         2697738\n",
       "creative          2697738\n",
       "bidprice          2697738\n",
       "payprice          2697738\n",
       "keypage           2697738\n",
       "advertiser        2697738\n",
       "usertag           2697738\n",
       "dtype: int64"
      ]
     },
     "execution_count": 5,
     "metadata": {},
     "output_type": "execute_result"
    }
   ],
   "source": [
    "df.count()"
   ]
  },
  {
   "cell_type": "code",
   "execution_count": 6,
   "metadata": {
    "collapsed": false
   },
   "outputs": [
    {
     "data": {
      "text/html": [
       "<div>\n",
       "<table border=\"1\" class=\"dataframe\">\n",
       "  <thead>\n",
       "    <tr style=\"text-align: right;\">\n",
       "      <th></th>\n",
       "      <th>click</th>\n",
       "      <th>weekday</th>\n",
       "      <th>hour</th>\n",
       "      <th>bidid</th>\n",
       "      <th>logtype</th>\n",
       "      <th>userid</th>\n",
       "      <th>useragent</th>\n",
       "      <th>IP</th>\n",
       "      <th>region</th>\n",
       "      <th>city</th>\n",
       "      <th>...</th>\n",
       "      <th>slotheight</th>\n",
       "      <th>slotvisibility</th>\n",
       "      <th>slotformat</th>\n",
       "      <th>slotprice</th>\n",
       "      <th>creative</th>\n",
       "      <th>bidprice</th>\n",
       "      <th>payprice</th>\n",
       "      <th>keypage</th>\n",
       "      <th>advertiser</th>\n",
       "      <th>usertag</th>\n",
       "    </tr>\n",
       "  </thead>\n",
       "  <tbody>\n",
       "    <tr>\n",
       "      <th>0</th>\n",
       "      <td>0</td>\n",
       "      <td>1</td>\n",
       "      <td>14</td>\n",
       "      <td>fdfae6789b787899f1b875de3ab8b21a</td>\n",
       "      <td>1</td>\n",
       "      <td>u_Vh1OPkFv3q5CFdR</td>\n",
       "      <td>windows_ie</td>\n",
       "      <td>180.107.112.*</td>\n",
       "      <td>80</td>\n",
       "      <td>85</td>\n",
       "      <td>...</td>\n",
       "      <td>60</td>\n",
       "      <td>1</td>\n",
       "      <td>0</td>\n",
       "      <td>5</td>\n",
       "      <td>612599432d200b093719dd1f372f7a30</td>\n",
       "      <td>300</td>\n",
       "      <td>54</td>\n",
       "      <td>bebefa5efe83beee17a3d245e7c5085b</td>\n",
       "      <td>1458</td>\n",
       "      <td>13866,10063</td>\n",
       "    </tr>\n",
       "    <tr>\n",
       "      <th>1</th>\n",
       "      <td>0</td>\n",
       "      <td>2</td>\n",
       "      <td>20</td>\n",
       "      <td>372883147cdefbc495fb5082f79dde9b</td>\n",
       "      <td>1</td>\n",
       "      <td>u_VhkRL6dCOTLsq-c</td>\n",
       "      <td>windows_chrome</td>\n",
       "      <td>125.120.199.*</td>\n",
       "      <td>94</td>\n",
       "      <td>95</td>\n",
       "      <td>...</td>\n",
       "      <td>250</td>\n",
       "      <td>1</td>\n",
       "      <td>0</td>\n",
       "      <td>5</td>\n",
       "      <td>8dff45ed862a740986dbe688aafee7e5</td>\n",
       "      <td>249</td>\n",
       "      <td>42</td>\n",
       "      <td>15b749127478946f161a54dc0dad27c8</td>\n",
       "      <td>3476</td>\n",
       "      <td>10063,10111</td>\n",
       "    </tr>\n",
       "    <tr>\n",
       "      <th>2</th>\n",
       "      <td>0</td>\n",
       "      <td>5</td>\n",
       "      <td>9</td>\n",
       "      <td>2912cb5947e1fad450e2473c2f61ef75</td>\n",
       "      <td>1</td>\n",
       "      <td>u_VhkyORMrD8TP3GL</td>\n",
       "      <td>windows_ie</td>\n",
       "      <td>120.196.64.*</td>\n",
       "      <td>216</td>\n",
       "      <td>217</td>\n",
       "      <td>...</td>\n",
       "      <td>280</td>\n",
       "      <td>0</td>\n",
       "      <td>1</td>\n",
       "      <td>0</td>\n",
       "      <td>77819d3e0b3467fe5c7b16d68ad923a1</td>\n",
       "      <td>300</td>\n",
       "      <td>76</td>\n",
       "      <td>bebefa5efe83beee17a3d245e7c5085b</td>\n",
       "      <td>1458</td>\n",
       "      <td>10063</td>\n",
       "    </tr>\n",
       "    <tr>\n",
       "      <th>3</th>\n",
       "      <td>0</td>\n",
       "      <td>2</td>\n",
       "      <td>20</td>\n",
       "      <td>d7b7d61d1e50e1d27d210928d28a9b61</td>\n",
       "      <td>1</td>\n",
       "      <td>u_VhkyLRqVL2a4eWL</td>\n",
       "      <td>windows_ie</td>\n",
       "      <td>219.131.122.*</td>\n",
       "      <td>216</td>\n",
       "      <td>221</td>\n",
       "      <td>...</td>\n",
       "      <td>90</td>\n",
       "      <td>0</td>\n",
       "      <td>0</td>\n",
       "      <td>162</td>\n",
       "      <td>7184c9560e68e977187e67e45a4f3198</td>\n",
       "      <td>238</td>\n",
       "      <td>182</td>\n",
       "      <td>0f951a030abdaedd733ee8d114ce2944</td>\n",
       "      <td>3427</td>\n",
       "      <td>10077,10111</td>\n",
       "    </tr>\n",
       "    <tr>\n",
       "      <th>4</th>\n",
       "      <td>0</td>\n",
       "      <td>6</td>\n",
       "      <td>9</td>\n",
       "      <td>657d317dc4045bb79c2652abbea07530</td>\n",
       "      <td>1</td>\n",
       "      <td>u_Vh1zOJuQOtTCBgL</td>\n",
       "      <td>windows_chrome</td>\n",
       "      <td>123.190.78.*</td>\n",
       "      <td>40</td>\n",
       "      <td>48</td>\n",
       "      <td>...</td>\n",
       "      <td>90</td>\n",
       "      <td>0</td>\n",
       "      <td>1</td>\n",
       "      <td>0</td>\n",
       "      <td>c938195f9e404b4f38c7e71bf50263e5</td>\n",
       "      <td>238</td>\n",
       "      <td>34</td>\n",
       "      <td>a3becb967c015e9acb5e72f22b100ef8</td>\n",
       "      <td>3476</td>\n",
       "      <td>10031,13042,10006,10057,13866,10063,14273,1005...</td>\n",
       "    </tr>\n",
       "  </tbody>\n",
       "</table>\n",
       "<p>5 rows × 26 columns</p>\n",
       "</div>"
      ],
      "text/plain": [
       "   click  weekday  hour                             bidid  logtype  \\\n",
       "0      0        1    14  fdfae6789b787899f1b875de3ab8b21a        1   \n",
       "1      0        2    20  372883147cdefbc495fb5082f79dde9b        1   \n",
       "2      0        5     9  2912cb5947e1fad450e2473c2f61ef75        1   \n",
       "3      0        2    20  d7b7d61d1e50e1d27d210928d28a9b61        1   \n",
       "4      0        6     9  657d317dc4045bb79c2652abbea07530        1   \n",
       "\n",
       "              userid       useragent             IP  region  city  \\\n",
       "0  u_Vh1OPkFv3q5CFdR      windows_ie  180.107.112.*      80    85   \n",
       "1  u_VhkRL6dCOTLsq-c  windows_chrome  125.120.199.*      94    95   \n",
       "2  u_VhkyORMrD8TP3GL      windows_ie   120.196.64.*     216   217   \n",
       "3  u_VhkyLRqVL2a4eWL      windows_ie  219.131.122.*     216   221   \n",
       "4  u_Vh1zOJuQOtTCBgL  windows_chrome   123.190.78.*      40    48   \n",
       "\n",
       "                         ...                         slotheight  \\\n",
       "0                        ...                                 60   \n",
       "1                        ...                                250   \n",
       "2                        ...                                280   \n",
       "3                        ...                                 90   \n",
       "4                        ...                                 90   \n",
       "\n",
       "  slotvisibility slotformat slotprice                          creative  \\\n",
       "0              1          0         5  612599432d200b093719dd1f372f7a30   \n",
       "1              1          0         5  8dff45ed862a740986dbe688aafee7e5   \n",
       "2              0          1         0  77819d3e0b3467fe5c7b16d68ad923a1   \n",
       "3              0          0       162  7184c9560e68e977187e67e45a4f3198   \n",
       "4              0          1         0  c938195f9e404b4f38c7e71bf50263e5   \n",
       "\n",
       "   bidprice  payprice                           keypage advertiser  \\\n",
       "0       300        54  bebefa5efe83beee17a3d245e7c5085b       1458   \n",
       "1       249        42  15b749127478946f161a54dc0dad27c8       3476   \n",
       "2       300        76  bebefa5efe83beee17a3d245e7c5085b       1458   \n",
       "3       238       182  0f951a030abdaedd733ee8d114ce2944       3427   \n",
       "4       238        34  a3becb967c015e9acb5e72f22b100ef8       3476   \n",
       "\n",
       "                                             usertag  \n",
       "0                                        13866,10063  \n",
       "1                                        10063,10111  \n",
       "2                                              10063  \n",
       "3                                        10077,10111  \n",
       "4  10031,13042,10006,10057,13866,10063,14273,1005...  \n",
       "\n",
       "[5 rows x 26 columns]"
      ]
     },
     "execution_count": 6,
     "metadata": {},
     "output_type": "execute_result"
    }
   ],
   "source": [
    "df.head()   #Weekday = 0 - 6 "
   ]
  },
  {
   "cell_type": "code",
   "execution_count": 7,
   "metadata": {
    "collapsed": false
   },
   "outputs": [
    {
     "data": {
      "text/plain": [
       "array([], dtype=int64)"
      ]
     },
     "execution_count": 7,
     "metadata": {},
     "output_type": "execute_result"
    }
   ],
   "source": [
    "df.isnull().any(1).nonzero()[0]"
   ]
  },
  {
   "cell_type": "code",
   "execution_count": 8,
   "metadata": {
    "collapsed": false
   },
   "outputs": [
    {
     "data": {
      "text/plain": [
       "Index(['click', 'weekday', 'hour', 'bidid', 'logtype', 'userid', 'useragent',\n",
       "       'IP', 'region', 'city', 'adexchange', 'domain', 'url', 'urlid',\n",
       "       'slotid', 'slotwidth', 'slotheight', 'slotvisibility', 'slotformat',\n",
       "       'slotprice', 'creative', 'bidprice', 'payprice', 'keypage',\n",
       "       'advertiser', 'usertag'],\n",
       "      dtype='object')"
      ]
     },
     "execution_count": 8,
     "metadata": {},
     "output_type": "execute_result"
    }
   ],
   "source": [
    "df.columns"
   ]
  },
  {
   "cell_type": "markdown",
   "metadata": {},
   "source": [
    "#### Need to write down all the relevent columns containing null or na values "
   ]
  },
  {
   "cell_type": "code",
   "execution_count": 9,
   "metadata": {
    "collapsed": false
   },
   "outputs": [
    {
     "name": "stdout",
     "output_type": "stream",
     "text": [
      "0    2695704\n",
      "1       2034\n",
      "Name: click, dtype: int64\n",
      "0    465241\n",
      "1    408417\n",
      "3    380111\n",
      "5    378028\n",
      "6    376514\n",
      "4    361376\n",
      "2    328051\n",
      "Name: weekday, dtype: int64\n",
      "0     202239\n",
      "22    172076\n",
      "18    171748\n",
      "16    166315\n",
      "15    166252\n",
      "17    159044\n",
      "13    155792\n",
      "14    145782\n",
      "11    143110\n",
      "12    142075\n",
      "10    140537\n",
      "20    134229\n",
      "19    132278\n",
      "23    126138\n",
      "21    112438\n",
      "9      90397\n",
      "8      76370\n",
      "1      66660\n",
      "7      51105\n",
      "2      38384\n",
      "3      36754\n",
      "6      25624\n",
      "5      21748\n",
      "4      20643\n",
      "Name: hour, dtype: int64\n",
      "a26daec5a365bc9bddd416c1b36f6c06    1\n",
      "9100cecb308edd1ef7a40697d902689b    1\n",
      "46d783550b53b21edc6a5b238ad44c61    1\n",
      "24db456ffb7d3e1017cb922ea10e252d    1\n",
      "bcffaf6532d5d80f2e912183b5c4a6e4    1\n",
      "736e96ffcb99ba2461b1a84f801e6983    1\n",
      "9ef51601bee135b2d070a52fdc80e60d    1\n",
      "efd6845123df1bdfd62049d0131ee912    1\n",
      "4b1d0a8a6052968dd2bea6393a29eb8e    1\n",
      "edcdfb94cb057cbe7b807d94ce6f20e3    1\n",
      "22daed1e483d2ee4a4cc62fbb25fc995    1\n",
      "372053055b13a28dbc396d4b591fab87    1\n",
      "0ba4bdaf40b7df22938fbd86f451e4f2    1\n",
      "a2ee971d1d5d476d6a9194f222b2ba06    1\n",
      "dca76fccd456358b825312f44973f5f7    1\n",
      "644b833e328392dbe6c4a23ee0f1f23b    1\n",
      "f0485d5aef512d6fffccf8f6dd9957a5    1\n",
      "f89693356bf441e68e8fe4625188167c    1\n",
      "ef0bbfaa47b3ed4c57c5302fe3cbc165    1\n",
      "43bc50a694ce4e5ecebff587a6926f1c    1\n",
      "656a6be72bb3aa538d4b51f07a2852bc    1\n",
      "6b2f469e4e3dd649e63b5478ebf5f4d0    1\n",
      "3e84e178b448cdf49e36fc9c24174bed    1\n",
      "e9994924b7fc0744a16c00815ca4d948    1\n",
      "0a3a21a1a2426e22eb9b8c8112b22b5f    1\n",
      "03abe184d2bfdb37d6db83463b0fe24c    1\n",
      "491871949916a104ffdd24fb92281550    1\n",
      "5bb66136d438f6cdc95fb0639011331f    1\n",
      "795b00a71351ea98fd69ec48b82f0128    1\n",
      "5e90c21c4791e47b293f84bc63f683b2    1\n",
      "                                   ..\n",
      "5919b77f8ce880b7f6c0d8173d406469    1\n",
      "7e4a4ce42bc79516bc338bff6b3806c4    1\n",
      "73e0475e7ed03602837f31fc986fa459    1\n",
      "55dead3ba822746298d3e3ea504f4f56    1\n",
      "ddca071cadaa2a955cbd5ca1ec81ba2a    1\n",
      "6c60ad78b86a1cf2d1b33141da0ef58d    1\n",
      "787d92d8ef5636f268eb170c8d075bc0    1\n",
      "2ff29c8ea84c0efc986172c54287016c    1\n",
      "7be149862740658aa75e9a1ff69d5357    1\n",
      "b021995c66a01cd4f085ce2f6a38b9cd    1\n",
      "a257edc072f27ae284922b7ff995bfc2    1\n",
      "43bfa6003598025ca57aa94fd8509ecd    1\n",
      "6ac17710ae858491999cde6a687bd2d2    1\n",
      "ab37322998b81ac0fd1a65b1c4bff1cb    1\n",
      "11247a01da7317e059591b5c73496eeb    1\n",
      "bd01cff8aefe1326223c4bd06b675f98    1\n",
      "48f8df538dd55f07a18c92b8a2dfe3d9    1\n",
      "91e81b0a6f566f4a885e04b3b992c599    1\n",
      "81fe5993f081464cbe66937aa6b020a7    1\n",
      "814483fe5128e84e20713be661e7b3bc    1\n",
      "abefbae25a5fb819458b489ece30f163    1\n",
      "513122b3ac04000c3905c6ff99edcc1b    1\n",
      "c5935f3e425a6b2846618e43ff1f8775    1\n",
      "f3967e828829eb3ca674b7ded107f2ac    1\n",
      "e66db63a47fc340f54c31efc1c6c8a77    1\n",
      "f6a276e35d43a5902d227667ffb256fa    1\n",
      "f05e94004127ac461aea33f152b93906    1\n",
      "a2d3ee8e34e201248796f27ad361ee5a    1\n",
      "ab7a7bbd52202fcec656f6c2efbb3e4e    1\n",
      "f9171455624811e29d52f39e97c87b0e    1\n",
      "Name: bidid, dtype: int64\n",
      "1    2697738\n",
      "Name: logtype, dtype: int64\n",
      "u_Z0TpZkKyPHdUQmL    13\n",
      "u_VhKOOD5NP4L4Msj    11\n",
      "u_VhTOOuBRPyuUlWj    11\n",
      "u_D79ABpA3w9c        10\n",
      "u_Vh20Li1kPtCfw-f     9\n",
      "u_Z0T3L6n9PqByuo2     9\n",
      "u_VhkS1eKlP2TdgYk     9\n",
      "u_Vh12L71a3NTTBga     9\n",
      "u_VhkRLuTjO8K2tOk     9\n",
      "u_Vhk7PaMDP9d2JMa     8\n",
      "u_Vh2xZkse3Qk8FML     8\n",
      "u_Vhk7O3F6DlKvl-z     8\n",
      "u_Vh1dPeqo3QlsGYb     8\n",
      "u_Z0z71aBIDqSNehl     8\n",
      "u_ZYFOP7jSP4FvlIa     8\n",
      "u_VhkRC5aIDoqTaBc     8\n",
      "u_VhdhPJ5JDt9UQZk     8\n",
      "u_Vhz7O3qHOvFZkZL     8\n",
      "u_Vh1_ZRCR3qEhGbL     8\n",
      "u_Vhp2L7xaDUNUaoj     8\n",
      "u_Vhd6PACxP9C9FY2     8\n",
      "u_VhpZZAC4DQNTj-c     8\n",
      "u_Vhk0PisTO2kWQdB     8\n",
      "u_Vh27OJFlOtuvFYE     8\n",
      "u_VhnRPAl7PH1HBdB     8\n",
      "u_Z0TVOusoPZp6FZL     7\n",
      "u_VhThCkCRPtu2tsb     7\n",
      "u_Vhk7L79-Peu2B-j     7\n",
      "u_Vh1iPndGO91cDsn     7\n",
      "u_VhT2L3j9PHF6gga     7\n",
      "                     ..\n",
      "u_VhkrO7FbD8cyjG8     1\n",
      "u_DAPLqS20xhf         1\n",
      "u_VhkxOxsyPtsClZ2     1\n",
      "u_D99H4KDPyxj         1\n",
      "u_VhdDZ3dLO8uvwoB     1\n",
      "u_VhpPOJ1nOT5TlGl     1\n",
      "u_ZYFALn5G3UqcGml     1\n",
      "u_DAM2V2COzAV         1\n",
      "u_VhCYL71-LQ29Xsz     1\n",
      "u_ZYFH1if8Dc5cDsL     1\n",
      "u_VhkxZidAON1CBMl     1\n",
      "u_VhKpPus2PlbfJGk     1\n",
      "u_Vh11LrdvDU8WwZ2     1\n",
      "u_VhkELputDQNcl-z     1\n",
      "u_VhkxP6KdDquCtfn     1\n",
      "u_VhkyO7SADNcyDWz     1\n",
      "u_D9UC6bFHw1k         1\n",
      "u_DAELpKA0fpK2        1\n",
      "u_DANC2o2yxHF         1\n",
      "u_VhkSLxdyPy5skdC     1\n",
      "u_VhC7L716Do1Zq-8     1\n",
      "u_DAKJgUDjczW         1\n",
      "u_VhkRL5293llIqfE     1\n",
      "u_VhLSPxSL3UxvBOk     1\n",
      "u_Vh5_O7xpPHE9wVE     1\n",
      "u_VhdOZAqdO4c4XsE     1\n",
      "u_Z0TCPpx0Lqu6lBE     1\n",
      "u_Vh5zPyk9P2ddX-f     1\n",
      "u_VhddPa5ODoq6gbL     1\n",
      "u_VhLy1AdOPo1cgo2     1\n",
      "Name: userid, dtype: int64\n",
      "windows_ie          1619634\n",
      "windows_chrome       885218\n",
      "android_safari        67728\n",
      "mac_safari            41409\n",
      "windows_firefox       24771\n",
      "windows_theworld      15305\n",
      "windows_other         12461\n",
      "mac_other              8700\n",
      "windows_maxthon        8076\n",
      "windows_opera          2434\n",
      "mac_chrome             2119\n",
      "android_other          1956\n",
      "other_other            1788\n",
      "windows_safari         1728\n",
      "linux_chrome           1060\n",
      "mac_firefox             844\n",
      "android_chrome          510\n",
      "android_opera           504\n",
      "ios_safari              433\n",
      "linux_firefox           414\n",
      "linux_safari            133\n",
      "other_opera             126\n",
      "linux_other              64\n",
      "other_safari             63\n",
      "mac_maxthon              35\n",
      "android_maxthon          35\n",
      "ios_other                31\n",
      "other_ie                 28\n",
      "linux_opera              20\n",
      "linux_ie                 19\n",
      "android_firefox          18\n",
      "mac_opera                18\n",
      "android_sogou            15\n",
      "mac_sogou                14\n",
      "other_chrome             13\n",
      "android_ie                8\n",
      "windows_sogou             4\n",
      "mac_ie                    1\n",
      "other_firefox             1\n",
      "Name: useragent, dtype: int64\n",
      "113.106.102.*    3731\n",
      "118.122.85.*     2798\n",
      "58.254.168.*     2549\n",
      "210.38.1.*       2373\n",
      "125.39.238.*     2326\n",
      "180.208.68.*     1955\n",
      "124.165.213.*    1797\n",
      "221.4.142.*      1603\n",
      "219.139.102.*    1580\n",
      "60.55.44.*       1504\n",
      "112.90.194.*     1483\n",
      "182.148.111.*    1481\n",
      "112.90.90.*      1390\n",
      "117.136.24.*     1324\n",
      "210.72.75.*      1299\n",
      "202.107.244.*    1186\n",
      "61.185.133.*     1174\n",
      "124.202.191.*    1149\n",
      "122.194.13.*     1128\n",
      "14.18.203.*      1090\n",
      "111.161.127.*    1078\n",
      "120.95.72.*      1066\n",
      "119.4.57.*       1062\n",
      "222.161.198.*    1052\n",
      "218.11.179.*     1038\n",
      "27.46.122.*      1033\n",
      "110.80.25.*      1011\n",
      "120.128.2.*       979\n",
      "218.11.176.*      972\n",
      "112.5.235.*       954\n",
      "                 ... \n",
      "223.64.222.*        1\n",
      "27.47.96.*          1\n",
      "216.251.112.*       1\n",
      "183.157.24.*        1\n",
      "120.235.59.*        1\n",
      "171.124.193.*       1\n",
      "111.79.170.*        1\n",
      "218.187.252.*       1\n",
      "42.227.150.*        1\n",
      "68.197.179.*        1\n",
      "222.85.200.*        1\n",
      "116.76.49.*         1\n",
      "10.65.196.*         1\n",
      "187.194.164.*       1\n",
      "222.77.207.*        1\n",
      "121.214.113.*       1\n",
      "59.69.144.*         1\n",
      "37.14.231.*         1\n",
      "219.89.176.*        1\n",
      "106.57.5.*          1\n",
      "36.45.102.*         1\n",
      "116.113.22.*        1\n",
      "182.96.73.*         1\n",
      "182.108.216.*       1\n",
      "203.117.212.*       1\n",
      "139.0.99.*          1\n",
      "1.171.105.*         1\n",
      "123.182.183.*       1\n",
      "118.199.15.*        1\n",
      "118.101.255.*       1\n",
      "Name: IP, dtype: int64\n",
      "216    451642\n",
      "80     203558\n",
      "146    177475\n",
      "94     149524\n",
      "276    139015\n",
      "3      120869\n",
      "164    120392\n",
      "1      114043\n",
      "183     92992\n",
      "40      89465\n",
      "124     80959\n",
      "333     74289\n",
      "106     73765\n",
      "201     71649\n",
      "79      70941\n",
      "15      70365\n",
      "238     64559\n",
      "275     59012\n",
      "0       56868\n",
      "65      56456\n",
      "55      52857\n",
      "134     51756\n",
      "2       41504\n",
      "308     37139\n",
      "374     34872\n",
      "27      34419\n",
      "298     27417\n",
      "344     26465\n",
      "393     14832\n",
      "253     13150\n",
      "368      9862\n",
      "394      7458\n",
      "359      6406\n",
      "325       942\n",
      "395       821\n",
      "Name: region, dtype: int64\n",
      "219    120875\n",
      "1      114043\n",
      "217    105272\n",
      "79      70941\n",
      "275     59012\n",
      "0       56868\n",
      "277     54113\n",
      "85      52382\n",
      "233     41807\n",
      "2       41504\n",
      "334     40259\n",
      "81      36586\n",
      "184     35960\n",
      "95      35420\n",
      "165     32167\n",
      "222     30380\n",
      "4       26800\n",
      "148     26478\n",
      "82      24755\n",
      "96      22853\n",
      "147     22586\n",
      "97      22374\n",
      "202     21819\n",
      "129     21600\n",
      "239     21230\n",
      "56      20036\n",
      "41      19647\n",
      "125     18547\n",
      "66      18448\n",
      "16      17190\n",
      "        ...  \n",
      "372       616\n",
      "357       610\n",
      "326       600\n",
      "388       577\n",
      "377       524\n",
      "255       512\n",
      "385       465\n",
      "252       410\n",
      "361       400\n",
      "253       332\n",
      "383       313\n",
      "358       231\n",
      "398       217\n",
      "323       213\n",
      "364       193\n",
      "359       148\n",
      "324       147\n",
      "362       132\n",
      "332        78\n",
      "374        72\n",
      "363        69\n",
      "396        67\n",
      "366        65\n",
      "327        62\n",
      "365        57\n",
      "325        56\n",
      "331        50\n",
      "328        41\n",
      "329        30\n",
      "330        25\n",
      "Name: city, dtype: int64\n",
      "3       900222\n",
      "2       840105\n",
      "1       815403\n",
      "4        87521\n",
      "null     54487\n",
      "Name: adexchange, dtype: int64\n",
      "5F1RQS9rg5scFsf                       211770\n",
      "31xSTvprdN1RFt                        150825\n",
      "null                                  150579\n",
      "ersbQv1RdoTy1m58uG                     89236\n",
      "trqRTuMvjTN7X9KbuKz                    82716\n",
      "DFpETuxoGQdcFNKbuKz                    78538\n",
      "3FKElpuEMusyJqKbuKz                    69859\n",
      "3FF-e59aG5syJqKbuKz                    49259\n",
      "DD1SqS9rg5scFsf                        31096\n",
      "5F97t5E0BTK7XhNrUMpENpn                31021\n",
      "DDTSQuf0MTTNaqKIvMpENpn                30155\n",
      "31drTvprdN1RFt                         29013\n",
      "dd4270481b753dde29898e27c7c03920       27710\n",
      "trqRTummPvas1m58uG                     24099\n",
      "3SCYZrn0Qo18XMB4JKTI                   22531\n",
      "trqRTuN-XIuc1mKYUV                     20789\n",
      "trqRTvFoMNmIFY5SaMpENpn                20151\n",
      "trqRTvFRLpscFU                         19855\n",
      "tK1jlK9rg5scFsf                        19635\n",
      "20fc675468712705dbf5d3eda94126da       18918\n",
      "3043163ba84753b4b51dd3290caeae67       18668\n",
      "trqRTvpogNlyDok4JKTI                   18612\n",
      "trqRTJkrBoq7JsNr5SqfNX                 17772\n",
      "eA1XTupSMZq81YT9UDaWvpdh               17533\n",
      "DFpETuFygZl7gspy                       17481\n",
      "7ed515fe566938ee6cfbb6ebb7ea4995       15919\n",
      "trqRTuNoGTlyDok4JKTI                   15818\n",
      "13625cb070ffb306b425cd803c4b7ab4       15508\n",
      "trqRTJn7O95I1mKYUV                     14976\n",
      "trqRTJkrXTq8wTK4wJB                    12517\n",
      "                                       ...  \n",
      "ea0a878e48cbab35e857584cb6983911           1\n",
      "3Kb-qpuvBol7gspy                           1\n",
      "trqRTvdEMQ1NJ9KbuKz                        1\n",
      "era-lvdIBIL7gspy                           1\n",
      "28699d892a247e9a51f1cb1b5a918315           1\n",
      "835d8e0c0d860ae19ddf5cc9ab6bdd92           1\n",
      "2OBrG19wQqNEXqKbuKz                        1\n",
      "6e9dd909344b2d0e2851d121748f562b           1\n",
      "lA14lpsydoNRwM1rJFnWvpdh                   1\n",
      "c57d733238f20f789878fbd36caee6ae           1\n",
      "d23fcbc6c36779791a99fa8972d481ad           1\n",
      "15fad9ce9c31c199909c4a22bc092a02           1\n",
      "3KE-QyFaMoj7FmMs                           1\n",
      "7c72e4465459aac9b0c75a30e0f65af            1\n",
      "1f620a8b12c139f92cc36938da157f2a           1\n",
      "2fb87c15d24803a6a91f28b469648f1            1\n",
      "78883a9f2844c27d4392b82f4c624d1d           1\n",
      "l1FxG5k0Q9uYFmCyJmpENpn                    1\n",
      "edc39a164c44b6ca2c54353b7140e8d9           1\n",
      "c2181c1a176c120f11eb113658be2e29           1\n",
      "cc9847b0bb765d4eb2c82930d70f701a           1\n",
      "d176e3a0596362dc4fd80b8eecf80fb2           1\n",
      "5K1uqxf0XZB                                1\n",
      "6gLrV19UQIFSFqKbu-                         1\n",
      "d708bb10e8d8a6e5c82ebb9177d1cc49           1\n",
      "trqRTJdudq5YgMKAaFpRqxMzmw                 1\n",
      "tSKNq6KJgTq4Js5WJFuKqxMzmw                 1\n",
      "3475956c7b6c4589478fc748fd0aa391           1\n",
      "kYf0CAz7Ov24DZC9tdnAQvx6m9phFsu2x-         1\n",
      "trqRTv5RjNuo1m58uG                         1\n",
      "Name: domain, dtype: int64\n",
      "null                                95541\n",
      "bfa000ed663f4997db218d6da6b1510f    23134\n",
      "b9b27f86cd5409b505b66e27470765af    22721\n",
      "dedc488b98ca20707bc9a723957e7d1f    19070\n",
      "8bb65e4722e3d10bcb59ccba682b1ff1    17533\n",
      "8dd142fa4bc566aa470b4c63e3da3d68    16065\n",
      "2a230d22d6725b124714a01f5ba6359     14381\n",
      "47d63cb9aa310c4430e03126bb19adc1    10610\n",
      "249b2c34247d400ef1cd3c6bfda4f12a     8418\n",
      "152707bdf9c6dde8c619fc0a98a739ee     7682\n",
      "3a0f55b8ee76da7f0933eec8cdafad72     7318\n",
      "625d1b5916ea925332c7b326c0574cfa     7309\n",
      "1443b15acc2356ef4e4dae19679cf5e6     5811\n",
      "1ee9b2fdabd6a2b45d3829c71642fea6     5517\n",
      "6d854165e9871c236437db46e0c07cac     5454\n",
      "5e23cc3edf969344d4465968204f4a0a     5343\n",
      "2894177023e3411e2dbb0e9b5186c2cb     4986\n",
      "37bdc8299d3b42e6f04ccf4fca64bacc     4951\n",
      "39b9f9f7285f6b317a737b48827c197f     4775\n",
      "e7d7eaaf5ed0b562aa62eb0a8ca52cd6     4640\n",
      "215fa669b6a78f6a67dadf967f70732c     4398\n",
      "64d74cca71f1c48cdb3f4a73d3c725db     4319\n",
      "978d1fce166a09dbdd0eac0730cd228b     4264\n",
      "613346daf7f86e4e7db34affe4d8753e     4197\n",
      "73c834ffd9060391b4485611def9ad1e     4144\n",
      "823cbd7bc38ac495759ef5e5700a980e     3927\n",
      "25b27823ac7fa8dda0f26ca9cb4fef20     3709\n",
      "fa92e4943c6d4f4cdc1a79d4ed02b287     3524\n",
      "1983fa35e835cb4d68ef7f810f67447      3482\n",
      "14813226981bea2d88d5a25b72bd895b     3456\n",
      "                                    ...  \n",
      "cb9ffb4c43e4eb75f24db57d269485c3        1\n",
      "730d736f7d7637bba68c28c846772261        1\n",
      "4566cc880a1280d63fb461cbb8e6a824        1\n",
      "9533f10c14c3a6240add40ab9ca49558        1\n",
      "d5b39d2d027f37744069f9693b59cb3e        1\n",
      "1e0019882c9326a0dab3d6872345c2b         1\n",
      "79af50691ae8bfcf8dad91f8be784bd6        1\n",
      "e74122b033c8ba1f7d3d90910ad8d3c6        1\n",
      "a38df493f33bc2ca0ded432832f29cea        1\n",
      "c826b838a67c90f1f6f521200249d0f6        1\n",
      "65514c69f9c8a3a867ae9359d505e391        1\n",
      "d33f5708bbc9933b6a49ea6b123b33cd        1\n",
      "c428572e253e3503f824758ccea56916        1\n",
      "6ee921cbe8129c2e1ef17acfa4e01442        1\n",
      "27ba0a305c7ff61ecba5279a0726f76         1\n",
      "f5efc566c22105d68bcd28646b187035        1\n",
      "2083816db94819c52cd2c338348375f9        1\n",
      "2f666e16637886d5c36593caaf8c7bea        1\n",
      "f2e9dca9b5f18ebee29813bf9417a15a        1\n",
      "63184db5d36db3e326237fbd96d33223        1\n",
      "89a1fa51201f50165ce5667d13cc9562        1\n",
      "a85d52d700177df27c2a4395292e7c79        1\n",
      "ae120d821197daf2561e9506f4118b5f        1\n",
      "dc9840497055496d7868ecfc4b07f41e        1\n",
      "9d79e3637a0f18dce7ef07c569617072        1\n",
      "68db85822be27a4b77b596d74760a382        1\n",
      "7191a7b3e16014e0407a136f6cbddaea        1\n",
      "dff2c33afad92093fe8003fc32250010        1\n",
      "c2d1dbf1238bcc187beaf6d38e46eba5        1\n",
      "606990d1331f4e2ab48dcc00528e68bd        1\n",
      "Name: url, dtype: int64\n",
      "null    2697738\n",
      "Name: urlid, dtype: int64\n",
      "ALLINONE_F_Width1               242458\n",
      "News_F_Width1                   103756\n",
      "mm_10024662_3445902_11178345     74116\n",
      "ALLINONE_F_Width2                65794\n",
      "1                                47141\n",
      "Ent_F_Upright                    43560\n",
      "Ent_F_Width1                     31176\n",
      "Ent_F_bottom_Width               30417\n",
      "mm_10027070_2459574_9659312      27297\n",
      "3195670606                       24831\n",
      "mm_10058411_2865562_9929053      24102\n",
      "News_F_Rectangle                 20615\n",
      "mm_10027070_118039_10308280      19292\n",
      "mm_10029307_121417_10790029      19147\n",
      "Fashion_F_Width1                 18787\n",
      "mm_10027070_118039_9659846       18211\n",
      "mm_15191080_2147689_9068851      17837\n",
      "Edu_F_Width1                     17391\n",
      "mm_10982364_973726_8930541       17099\n",
      "mm_10848886_2920209_10269663     16165\n",
      "mm_10075660_3500949_11453278     14566\n",
      "News_Width5                      14164\n",
      "discuz_18316225_004              14056\n",
      "tips_F_Width1                    13166\n",
      "Sports_F_Rectangle               12317\n",
      "3798717662                       12292\n",
      "3175797632                       12222\n",
      "Auto_F_Rectangle                 12119\n",
      "discuz_18316225_005              12098\n",
      "discuz_18316225_006              11840\n",
      "                                 ...  \n",
      "1963631330                           1\n",
      "1183831635                           1\n",
      "528189719                            1\n",
      "2721154174                           1\n",
      "1844095461                           1\n",
      "2740764166                           1\n",
      "456523188                            1\n",
      "3954567157                           1\n",
      "1015427798                           1\n",
      "1807394417                           1\n",
      "1672378739                           1\n",
      "2639570740                           1\n",
      "2496513090                           1\n",
      "1430173211                           1\n",
      "585280081                            1\n",
      "4188953099                           1\n",
      "1207687893                           1\n",
      "119801567                            1\n",
      "2455574483                           1\n",
      "4068846268                           1\n",
      "1538202613                           1\n",
      "609063953                            1\n",
      "219146724                            1\n",
      "1470157542                           1\n",
      "2419949864                           1\n",
      "1108464342                           1\n",
      "4201542309                           1\n",
      "1637454278                           1\n",
      "237965021                            1\n",
      "572250105                            1\n",
      "Name: slotid, dtype: int64\n",
      "300     705530\n",
      "1000    606938\n",
      "728     410218\n",
      "336     257585\n",
      "160     129767\n",
      "250     124471\n",
      "950     120558\n",
      "960     111185\n",
      "200      65953\n",
      "320      54487\n",
      "468      52483\n",
      "120      29277\n",
      "980       7328\n",
      "180       6444\n",
      "620       5643\n",
      "360       4300\n",
      "640       2948\n",
      "910       1731\n",
      "760        486\n",
      "234        331\n",
      "125         75\n",
      "Name: slotwidth, dtype: int64\n",
      "90     1260243\n",
      "250     826396\n",
      "280     257585\n",
      "600     156909\n",
      "200      65953\n",
      "60       59191\n",
      "50       54487\n",
      "240       8518\n",
      "300       4581\n",
      "100       2954\n",
      "80         415\n",
      "230        278\n",
      "150        153\n",
      "125         75\n",
      "Name: slotheight, dtype: int64\n",
      "0             1116187\n",
      "2              707544\n",
      "1              300651\n",
      "Na             191310\n",
      "FirstView      156257\n",
      "OtherView      129960\n",
      "SecondView      34177\n",
      "ThirdView       20732\n",
      "255             20056\n",
      "FourthView      19730\n",
      "FifthView        1134\n",
      "Name: slotvisibility, dtype: int64\n",
      "0     1464916\n",
      "1      664938\n",
      "Na     553300\n",
      "5       14584\n",
      "Name: slotformat, dtype: int64\n",
      "0      867735\n",
      "5      601923\n",
      "70     307320\n",
      "50     226867\n",
      "20     180321\n",
      "80     125320\n",
      "4       53636\n",
      "30      37726\n",
      "31      37616\n",
      "16      23729\n",
      "59      22792\n",
      "10      22116\n",
      "148     19567\n",
      "6       16838\n",
      "39      12015\n",
      "180     11854\n",
      "140      9112\n",
      "162      8905\n",
      "133      7924\n",
      "32       6654\n",
      "8        6580\n",
      "52       6097\n",
      "177      5124\n",
      "67       5030\n",
      "24       4403\n",
      "23       4272\n",
      "40       4254\n",
      "103      3374\n",
      "63       3042\n",
      "62       3017\n",
      "        ...  \n",
      "262        12\n",
      "212        12\n",
      "234        12\n",
      "276        12\n",
      "227        11\n",
      "232        11\n",
      "235        11\n",
      "247        11\n",
      "273        10\n",
      "241        10\n",
      "270        10\n",
      "217         9\n",
      "218         9\n",
      "243         9\n",
      "224         9\n",
      "266         9\n",
      "277         8\n",
      "268         7\n",
      "242         7\n",
      "249         7\n",
      "255         7\n",
      "264         7\n",
      "258         6\n",
      "294         5\n",
      "300         4\n",
      "272         3\n",
      "284         2\n",
      "292         2\n",
      "288         1\n",
      "289         1\n",
      "Name: slotprice, dtype: int64\n",
      "44966cc8da1ed40c95d59e863c8c75f0    162572\n",
      "832b91d59d0cb5731431653204a76c0e    146187\n",
      "86c2543527c86a893d4d4f68810a0416    138300\n",
      "48f2e9ba15708c0146bda5e1dd653caa    118035\n",
      "77819d3e0b3467fe5c7b16d68ad923a1    116663\n",
      "e1af08818a6cd6bbba118bb54a651961    109511\n",
      "c46090c887c257b61ab1fa11baee91d8     93526\n",
      "10722                                85581\n",
      "0cd33fcb336655841d3e1441b915748d     83127\n",
      "b90c12ed2bd7950c6027bf9c6937c48a     81484\n",
      "00fccc64a1ee2809348509b7ac2a97a5     67136\n",
      "911b2d84826786018761e8c0b0a3a60c     61958\n",
      "449a22cd91d9042eda3d3a1b89a22ea8     60612\n",
      "cb7c76e7784031272e37af8e7e9b062c     58837\n",
      "10717                                55647\n",
      "7323                                 51972\n",
      "59f065a795a663140e36eec106464524     46460\n",
      "d881a6c788e76c2c27ed1ef04f119544     44423\n",
      "a10c31a8ff5f42930b4c34035e523886     44193\n",
      "d01411218cc79bc49d2a4078c4093b76     41095\n",
      "a499988a822facd86dd0e8e4ffef8532     37512\n",
      "f65c8bdb41e9015970bac52baa813239     35765\n",
      "cc9b344e950b4f8c2b96537174a343b7     34223\n",
      "7184c9560e68e977187e67e45a4f3198     33551\n",
      "10719                                32130\n",
      "2abc9eaf57d17a96195af3f63c45dc72     27343\n",
      "4ad7e35171a3d8de73bb862791575f2e     27183\n",
      "ff5123fb9333ca095034c62fdaaf51aa     26630\n",
      "11908                                25572\n",
      "10734                                24719\n",
      "                                     ...  \n",
      "12621                                 1750\n",
      "12630                                 1570\n",
      "6cdf8fdd3e01122b09b5b411510a2385      1483\n",
      "7322                                  1204\n",
      "6455a6f45433aef94075f34dafd8d3bf       933\n",
      "0055e8503dc053435b3599fe44af118b       825\n",
      "87945ed58e806dbdc291b3662f581354       787\n",
      "3b805a00d99d5ee2493c8fb0063e30e9       711\n",
      "e1096a0a4f557814cb226fa5ba2339b2       550\n",
      "7315                                   500\n",
      "7331                                   486\n",
      "16ff51916f0c796ec72eefc633c4a8ed       483\n",
      "12631                                  415\n",
      "7334                                   395\n",
      "12629                                  339\n",
      "12619                                  278\n",
      "e1b0b6fb39abeb138c0b1e37c5f6d777       255\n",
      "cd6f20e0b2a699c352f2e55a7a2091fd       239\n",
      "12618                                  215\n",
      "bac72fe483c04a0ea2490539b4d06e6a       191\n",
      "12624                                  150\n",
      "7320                                   116\n",
      "7325                                    92\n",
      "10721                                   90\n",
      "12614                                   87\n",
      "7318                                    66\n",
      "12612                                   43\n",
      "7316                                    32\n",
      "7332                                     9\n",
      "7327                                     2\n",
      "Name: creative, dtype: int64\n",
      "300    1038847\n",
      "294     353123\n",
      "238     350714\n",
      "227     281102\n",
      "241     225629\n",
      "277     200177\n",
      "254     130893\n",
      "249     117253\n",
      "Name: bidprice, dtype: int64\n",
      "70     155575\n",
      "50     120315\n",
      "20     118700\n",
      "77      84957\n",
      "80      76139\n",
      "55      68721\n",
      "5       49387\n",
      "31      47625\n",
      "88      45245\n",
      "73      44361\n",
      "52      43713\n",
      "22      39864\n",
      "84      33347\n",
      "21      33213\n",
      "30      29206\n",
      "76      24775\n",
      "160     23399\n",
      "10      23190\n",
      "40      21838\n",
      "51      21538\n",
      "89      21014\n",
      "17      20977\n",
      "101     19748\n",
      "60      19722\n",
      "18      19685\n",
      "16      19423\n",
      "33      18915\n",
      "11      18654\n",
      "59      17675\n",
      "42      17632\n",
      "        ...  \n",
      "3         868\n",
      "270       860\n",
      "274       818\n",
      "268       809\n",
      "275       773\n",
      "289       766\n",
      "293       759\n",
      "272       696\n",
      "292       675\n",
      "283       657\n",
      "276       651\n",
      "269       645\n",
      "277       642\n",
      "288       610\n",
      "291       603\n",
      "282       587\n",
      "295       568\n",
      "290       535\n",
      "0         531\n",
      "278       531\n",
      "287       525\n",
      "273       518\n",
      "284       513\n",
      "285       458\n",
      "279       450\n",
      "294       450\n",
      "299       345\n",
      "298       313\n",
      "296       291\n",
      "297       210\n",
      "Name: payprice, dtype: int64\n",
      "null                                553300\n",
      "bebefa5efe83beee17a3d245e7c5085b    540293\n",
      "d29e59bf0f7f8243858b8183f14d4412    304782\n",
      "361e128affece850342293213691a043    282189\n",
      "0f951a030abdaedd733ee8d114ce2944    256759\n",
      "43f4a37f42a7c5e6219e2601b26c6976    216365\n",
      "b2e35064f3549d447edbbdfb1f707c8c    187114\n",
      "a5d0bde104fea52ea466c77b37948424    109511\n",
      "c8758e8658b05bc3a88af7b37bdf0575     83127\n",
      "f4a09c06b67d0fcce088ee6e86ca052a     46460\n",
      "9be83422522025c09a44593ecd1af8ca     35765\n",
      "15b749127478946f161a54dc0dad27c8     18062\n",
      "a3becb967c015e9acb5e72f22b100ef8     17805\n",
      "d4fc4aa65f6670f7fea6862f27084fbc     10791\n",
      "7e0e909ea89f707bc20f9585c9072081     10569\n",
      "d41d8cd98f00b204e9800998ecf8427e     10158\n",
      "aa4976c67db0f076c563a29f6697928b      9906\n",
      "4f8e1c55abc204c2c8f1296dbc223af3      2404\n",
      "a8f8eeaae5c1e2e9924328e78d9925a5      2378\n",
      "Name: keypage, dtype: int64\n",
      "1458    540293\n",
      "3386    498554\n",
      "3427    454031\n",
      "3476    346778\n",
      "3358    304782\n",
      "2821    231416\n",
      "2259    146778\n",
      "2261    120619\n",
      "2997     54487\n",
      "Name: advertiser, dtype: int64\n",
      "null                                                                                                                             553251\n",
      "10063                                                                                                                            100483\n",
      "10006,10110                                                                                                                       58269\n",
      "10006                                                                                                                             41228\n",
      "13866                                                                                                                             29182\n",
      "10006,10063                                                                                                                       22345\n",
      "10006,10063,10110                                                                                                                 22267\n",
      "10063,10006,10110                                                                                                                 22102\n",
      "13866,10111                                                                                                                       22075\n",
      "10063,10006                                                                                                                       18063\n",
      "10083,10110                                                                                                                       17437\n",
      "10024                                                                                                                             15216\n",
      "10063,10111                                                                                                                       14770\n",
      "10063,13866,10111                                                                                                                 14384\n",
      "13866,10063,10111                                                                                                                 14044\n",
      "13776                                                                                                                             11256\n",
      "13800                                                                                                                              8515\n",
      "10063,10110                                                                                                                        7552\n",
      "10057                                                                                                                              7367\n",
      "10111                                                                                                                              7242\n",
      "13866,10063                                                                                                                        6584\n",
      "10083,10063,10110                                                                                                                  6432\n",
      "10063,10083,10110                                                                                                                  6237\n",
      "10063,13866                                                                                                                        5291\n",
      "10006,10063,10111                                                                                                                  4845\n",
      "10063,10006,10111                                                                                                                  4705\n",
      "10031,10110                                                                                                                        4548\n",
      "10077,10111                                                                                                                        4395\n",
      "10083,10006,10110                                                                                                                  4271\n",
      "10006,10083,10110                                                                                                                  3764\n",
      "                                                                                                                                  ...  \n",
      "10059,10083,10006,10048,10063,13042,10031,10110                                                                                       1\n",
      "10031,10052,10006,10083,13866,10063,14273,10110                                                                                       1\n",
      "10063,14273,10059,13403,10052,10057,10006,10111                                                                                       1\n",
      "10063,10083,10059,10006,10052,10024,10075,10057,13403,10031,10110                                                                     1\n",
      "10059,10031,13403,10063,10006,10077,10111                                                                                             1\n",
      "13776,13800,10052,10083,10031,10110                                                                                                   1\n",
      "10006,10057,10063,10075,10052                                                                                                         1\n",
      "10067,10063,10057,10059,10083,10048,10006,10110                                                                                       1\n",
      "14273,10006,10074,10079,10057,13866,10063,10111                                                                                       1\n",
      "11278,10059,10077,10075,13042,10129,10102,10006,10024,13866,10110,10031,16706,10120,10138,10145,13403,10063,10116                     1\n",
      "10052,10063,13800,14273,10024,10110                                                                                                   1\n",
      "13800,10059,10684,14273,10076,10077,10075,10102,10024,10006,13776,10052,13403,10133,10063,11092                                       1\n",
      "10006,10063,14273,13800,10052,10075,10110                                                                                             1\n",
      "14273,10059,13800,10063,10076,13403,10057,10031,10006,10067,10110                                                                     1\n",
      "10063,13496,10093,10052,10684,10006                                                                                                   1\n",
      "10006,10063,13800,10077,10083,10110                                                                                                   1\n",
      "10031,10024,10063,10075,10057,13403,10006,10110                                                                                       1\n",
      "13800,10063,10048,10024,10111                                                                                                         1\n",
      "10052,10006,10063,10057,10075,10031,10059,10083,10076,14273,10110                                                                     1\n",
      "10059,10077,10063,10083,10006,10024,10031,13403,10057,10110                                                                           1\n",
      "10006,10075,10063,10059,10076,10083,13403,10110                                                                                       1\n",
      "10076,13403,10083,10006,10052,10059,10024,10063,10057,10110                                                                           1\n",
      "10024,10057,10059,10006,10063,10076,10048,10052,10075,10031,10083,10684,14273,10077,10079,10110                                       1\n",
      "10048,10057,10059,10079,10075,10083,13042,10129,10102,10024,10006,13866,10110,13776,10031,16706,10126,10145,13403,10063,10116         1\n",
      "10684,10076,10024,10006,10148,11512,10063,10116                                                                                       1\n",
      "10057,10006,10075,10063,10083,10052,10077,10110                                                                                       1\n",
      "10063,10052,10083,13800,13866,10006,10111                                                                                             1\n",
      "10079,10076,10075,10006,13866,10024,10149,10111,11512,11944,10116                                                                     1\n",
      "10059,10083,10048,10079,10075,10063,10057,10006,10052,10110                                                                           1\n",
      "10031,13776,10063,10057,13042                                                                                                         1\n",
      "Name: usertag, dtype: int64\n"
     ]
    }
   ],
   "source": [
    "#Values count of all the unique items within each of the columns\n",
    "\n",
    "for name in df.columns.values:\n",
    "    a = df[name].value_counts()\n",
    "    print (a)\n",
    "    "
   ]
  },
  {
   "cell_type": "markdown",
   "metadata": {},
   "source": [
    "#### Number of impressions and number of clicks"
   ]
  },
  {
   "cell_type": "code",
   "execution_count": 10,
   "metadata": {
    "collapsed": false
   },
   "outputs": [
    {
     "name": "stdout",
     "output_type": "stream",
     "text": [
      "Number of impressions: 2697738\n",
      "Number of Clicks: 2034\n"
     ]
    }
   ],
   "source": [
    "print ('Number of impressions: ' + str(len(df.index)))# Length of index rows is equivlent to the number of impressions ???\n",
    "print ('Number of Clicks: ' + str(len(df[df['click'] == 1])))\n"
   ]
  },
  {
   "cell_type": "markdown",
   "metadata": {
    "collapsed": true
   },
   "source": [
    "#### Distribution plots of the slot price ?"
   ]
  },
  {
   "cell_type": "code",
   "execution_count": 11,
   "metadata": {
    "collapsed": false
   },
   "outputs": [
    {
     "data": {
      "text/plain": [
       "284"
      ]
     },
     "execution_count": 11,
     "metadata": {},
     "output_type": "execute_result"
    }
   ],
   "source": [
    "df.slotprice.nunique()"
   ]
  },
  {
   "cell_type": "code",
   "execution_count": 12,
   "metadata": {
    "collapsed": false
   },
   "outputs": [
    {
     "data": {
      "text/plain": [
       "<matplotlib.axes._subplots.AxesSubplot at 0xb282198>"
      ]
     },
     "execution_count": 12,
     "metadata": {},
     "output_type": "execute_result"
    },
    {
     "data": {
      "image/png": "[encoded data removed]",
      "text/plain": [
       "<matplotlib.figure.Figure at 0xb26f588>"
      ]
     },
     "metadata": {},
     "output_type": "display_data"
    }
   ],
   "source": [
    "sns.distplot(df.slotprice, bins =100, kde = False)"
   ]
  },
  {
   "cell_type": "markdown",
   "metadata": {
    "collapsed": true
   },
   "source": [
    "#### Clicks and weekdays"
   ]
  },
  {
   "cell_type": "code",
   "execution_count": 13,
   "metadata": {
    "collapsed": true
   },
   "outputs": [],
   "source": [
    "c1= list(df.click == 1)"
   ]
  },
  {
   "cell_type": "code",
   "execution_count": 14,
   "metadata": {
    "collapsed": true
   },
   "outputs": [],
   "source": [
    "click_1 =df[c1]"
   ]
  },
  {
   "cell_type": "code",
   "execution_count": 15,
   "metadata": {
    "collapsed": false
   },
   "outputs": [
    {
     "data": {
      "text/plain": [
       "<matplotlib.axes._subplots.AxesSubplot at 0xb40b668>"
      ]
     },
     "execution_count": 15,
     "metadata": {},
     "output_type": "execute_result"
    },
    {
     "data": {
      "image/png": "[encoded data removed]",
      "text/plain": [
       "<matplotlib.figure.Figure at 0xb5e98d0>"
      ]
     },
     "metadata": {},
     "output_type": "display_data"
    }
   ],
   "source": [
    "sns.countplot(x=\"weekday\",hue=\"click\", data = click_1, palette = 'Blues')"
   ]
  },
  {
   "cell_type": "markdown",
   "metadata": {},
   "source": [
    "#### Biggest (largest amount of impressions) advertiser - 1458"
   ]
  },
  {
   "cell_type": "code",
   "execution_count": 16,
   "metadata": {
    "collapsed": true
   },
   "outputs": [],
   "source": [
    "ad1458 = list(df.advertiser == 1458)"
   ]
  },
  {
   "cell_type": "code",
   "execution_count": 17,
   "metadata": {
    "collapsed": false
   },
   "outputs": [
    {
     "data": {
      "text/html": [
       "<div>\n",
       "<table border=\"1\" class=\"dataframe\">\n",
       "  <thead>\n",
       "    <tr style=\"text-align: right;\">\n",
       "      <th></th>\n",
       "      <th>click</th>\n",
       "      <th>weekday</th>\n",
       "      <th>hour</th>\n",
       "      <th>bidid</th>\n",
       "      <th>logtype</th>\n",
       "      <th>userid</th>\n",
       "      <th>useragent</th>\n",
       "      <th>IP</th>\n",
       "      <th>region</th>\n",
       "      <th>city</th>\n",
       "      <th>...</th>\n",
       "      <th>slotheight</th>\n",
       "      <th>slotvisibility</th>\n",
       "      <th>slotformat</th>\n",
       "      <th>slotprice</th>\n",
       "      <th>creative</th>\n",
       "      <th>bidprice</th>\n",
       "      <th>payprice</th>\n",
       "      <th>keypage</th>\n",
       "      <th>advertiser</th>\n",
       "      <th>usertag</th>\n",
       "    </tr>\n",
       "  </thead>\n",
       "  <tbody>\n",
       "    <tr>\n",
       "      <th>0</th>\n",
       "      <td>0</td>\n",
       "      <td>1</td>\n",
       "      <td>14</td>\n",
       "      <td>fdfae6789b787899f1b875de3ab8b21a</td>\n",
       "      <td>1</td>\n",
       "      <td>u_Vh1OPkFv3q5CFdR</td>\n",
       "      <td>windows_ie</td>\n",
       "      <td>180.107.112.*</td>\n",
       "      <td>80</td>\n",
       "      <td>85</td>\n",
       "      <td>...</td>\n",
       "      <td>60</td>\n",
       "      <td>1</td>\n",
       "      <td>0</td>\n",
       "      <td>5</td>\n",
       "      <td>612599432d200b093719dd1f372f7a30</td>\n",
       "      <td>300</td>\n",
       "      <td>54</td>\n",
       "      <td>bebefa5efe83beee17a3d245e7c5085b</td>\n",
       "      <td>1458</td>\n",
       "      <td>13866,10063</td>\n",
       "    </tr>\n",
       "    <tr>\n",
       "      <th>2</th>\n",
       "      <td>0</td>\n",
       "      <td>5</td>\n",
       "      <td>9</td>\n",
       "      <td>2912cb5947e1fad450e2473c2f61ef75</td>\n",
       "      <td>1</td>\n",
       "      <td>u_VhkyORMrD8TP3GL</td>\n",
       "      <td>windows_ie</td>\n",
       "      <td>120.196.64.*</td>\n",
       "      <td>216</td>\n",
       "      <td>217</td>\n",
       "      <td>...</td>\n",
       "      <td>280</td>\n",
       "      <td>0</td>\n",
       "      <td>1</td>\n",
       "      <td>0</td>\n",
       "      <td>77819d3e0b3467fe5c7b16d68ad923a1</td>\n",
       "      <td>300</td>\n",
       "      <td>76</td>\n",
       "      <td>bebefa5efe83beee17a3d245e7c5085b</td>\n",
       "      <td>1458</td>\n",
       "      <td>10063</td>\n",
       "    </tr>\n",
       "    <tr>\n",
       "      <th>9</th>\n",
       "      <td>0</td>\n",
       "      <td>0</td>\n",
       "      <td>17</td>\n",
       "      <td>dd3e2fd0370f672e6cbc5597673f72e1</td>\n",
       "      <td>1</td>\n",
       "      <td>u_VhTnL7d7PtB8XWC</td>\n",
       "      <td>windows_ie</td>\n",
       "      <td>122.137.146.*</td>\n",
       "      <td>55</td>\n",
       "      <td>57</td>\n",
       "      <td>...</td>\n",
       "      <td>90</td>\n",
       "      <td>0</td>\n",
       "      <td>0</td>\n",
       "      <td>31</td>\n",
       "      <td>832b91d59d0cb5731431653204a76c0e</td>\n",
       "      <td>300</td>\n",
       "      <td>30</td>\n",
       "      <td>bebefa5efe83beee17a3d245e7c5085b</td>\n",
       "      <td>1458</td>\n",
       "      <td>13403,10057,10063,10083,10006,10110</td>\n",
       "    </tr>\n",
       "    <tr>\n",
       "      <th>11</th>\n",
       "      <td>0</td>\n",
       "      <td>3</td>\n",
       "      <td>21</td>\n",
       "      <td>cde466a7acd41122273aeddec18df1f9</td>\n",
       "      <td>1</td>\n",
       "      <td>u_Vh5h1ijSLHc9lmB</td>\n",
       "      <td>windows_chrome</td>\n",
       "      <td>119.50.16.*</td>\n",
       "      <td>55</td>\n",
       "      <td>64</td>\n",
       "      <td>...</td>\n",
       "      <td>90</td>\n",
       "      <td>0</td>\n",
       "      <td>0</td>\n",
       "      <td>50</td>\n",
       "      <td>832b91d59d0cb5731431653204a76c0e</td>\n",
       "      <td>300</td>\n",
       "      <td>50</td>\n",
       "      <td>bebefa5efe83beee17a3d245e7c5085b</td>\n",
       "      <td>1458</td>\n",
       "      <td>10063,10006,10083,13403,10057,10024,14273,10110</td>\n",
       "    </tr>\n",
       "    <tr>\n",
       "      <th>12</th>\n",
       "      <td>0</td>\n",
       "      <td>5</td>\n",
       "      <td>0</td>\n",
       "      <td>e9468416f0a80bad92021e5b6dc9a535</td>\n",
       "      <td>1</td>\n",
       "      <td>u_Vhkx1JpxOZu6QbE</td>\n",
       "      <td>windows_chrome</td>\n",
       "      <td>183.44.177.*</td>\n",
       "      <td>216</td>\n",
       "      <td>224</td>\n",
       "      <td>...</td>\n",
       "      <td>90</td>\n",
       "      <td>0</td>\n",
       "      <td>0</td>\n",
       "      <td>70</td>\n",
       "      <td>832b91d59d0cb5731431653204a76c0e</td>\n",
       "      <td>300</td>\n",
       "      <td>70</td>\n",
       "      <td>bebefa5efe83beee17a3d245e7c5085b</td>\n",
       "      <td>1458</td>\n",
       "      <td>10052,13403,10006,10063</td>\n",
       "    </tr>\n",
       "  </tbody>\n",
       "</table>\n",
       "<p>5 rows × 26 columns</p>\n",
       "</div>"
      ],
      "text/plain": [
       "    click  weekday  hour                             bidid  logtype  \\\n",
       "0       0        1    14  fdfae6789b787899f1b875de3ab8b21a        1   \n",
       "2       0        5     9  2912cb5947e1fad450e2473c2f61ef75        1   \n",
       "9       0        0    17  dd3e2fd0370f672e6cbc5597673f72e1        1   \n",
       "11      0        3    21  cde466a7acd41122273aeddec18df1f9        1   \n",
       "12      0        5     0  e9468416f0a80bad92021e5b6dc9a535        1   \n",
       "\n",
       "               userid       useragent             IP  region  city  \\\n",
       "0   u_Vh1OPkFv3q5CFdR      windows_ie  180.107.112.*      80    85   \n",
       "2   u_VhkyORMrD8TP3GL      windows_ie   120.196.64.*     216   217   \n",
       "9   u_VhTnL7d7PtB8XWC      windows_ie  122.137.146.*      55    57   \n",
       "11  u_Vh5h1ijSLHc9lmB  windows_chrome    119.50.16.*      55    64   \n",
       "12  u_Vhkx1JpxOZu6QbE  windows_chrome   183.44.177.*     216   224   \n",
       "\n",
       "                         ...                        slotheight slotvisibility  \\\n",
       "0                        ...                                60              1   \n",
       "2                        ...                               280              0   \n",
       "9                        ...                                90              0   \n",
       "11                       ...                                90              0   \n",
       "12                       ...                                90              0   \n",
       "\n",
       "   slotformat slotprice                          creative  bidprice  payprice  \\\n",
       "0           0         5  612599432d200b093719dd1f372f7a30       300        54   \n",
       "2           1         0  77819d3e0b3467fe5c7b16d68ad923a1       300        76   \n",
       "9           0        31  832b91d59d0cb5731431653204a76c0e       300        30   \n",
       "11          0        50  832b91d59d0cb5731431653204a76c0e       300        50   \n",
       "12          0        70  832b91d59d0cb5731431653204a76c0e       300        70   \n",
       "\n",
       "                             keypage advertiser  \\\n",
       "0   bebefa5efe83beee17a3d245e7c5085b       1458   \n",
       "2   bebefa5efe83beee17a3d245e7c5085b       1458   \n",
       "9   bebefa5efe83beee17a3d245e7c5085b       1458   \n",
       "11  bebefa5efe83beee17a3d245e7c5085b       1458   \n",
       "12  bebefa5efe83beee17a3d245e7c5085b       1458   \n",
       "\n",
       "                                            usertag  \n",
       "0                                       13866,10063  \n",
       "2                                             10063  \n",
       "9               13403,10057,10063,10083,10006,10110  \n",
       "11  10063,10006,10083,13403,10057,10024,14273,10110  \n",
       "12                          10052,13403,10006,10063  \n",
       "\n",
       "[5 rows x 26 columns]"
      ]
     },
     "execution_count": 17,
     "metadata": {},
     "output_type": "execute_result"
    }
   ],
   "source": [
    "ad_1458 = df[ad1458]\n",
    "ad_1458.head()"
   ]
  },
  {
   "cell_type": "code",
   "execution_count": 18,
   "metadata": {
    "collapsed": false
   },
   "outputs": [
    {
     "data": {
      "text/plain": [
       "0    66\n",
       "1    63\n",
       "2    63\n",
       "3    68\n",
       "4    72\n",
       "5    65\n",
       "6    54\n",
       "Name: weekday, dtype: int64"
      ]
     },
     "execution_count": 18,
     "metadata": {},
     "output_type": "execute_result"
    }
   ],
   "source": [
    "ad_1458[ad_1458.click == 1].weekday.value_counts().sort_index()"
   ]
  },
  {
   "cell_type": "code",
   "execution_count": 19,
   "metadata": {
    "collapsed": false,
    "scrolled": true
   },
   "outputs": [
    {
     "data": {
      "text/html": [
       "<div>\n",
       "<table border=\"1\" class=\"dataframe\">\n",
       "  <thead>\n",
       "    <tr style=\"text-align: right;\">\n",
       "      <th></th>\n",
       "      <th>Number of clicks</th>\n",
       "    </tr>\n",
       "  </thead>\n",
       "  <tbody>\n",
       "    <tr>\n",
       "      <th>0</th>\n",
       "      <td>66</td>\n",
       "    </tr>\n",
       "    <tr>\n",
       "      <th>1</th>\n",
       "      <td>63</td>\n",
       "    </tr>\n",
       "    <tr>\n",
       "      <th>2</th>\n",
       "      <td>63</td>\n",
       "    </tr>\n",
       "    <tr>\n",
       "      <th>3</th>\n",
       "      <td>68</td>\n",
       "    </tr>\n",
       "    <tr>\n",
       "      <th>4</th>\n",
       "      <td>72</td>\n",
       "    </tr>\n",
       "    <tr>\n",
       "      <th>5</th>\n",
       "      <td>65</td>\n",
       "    </tr>\n",
       "    <tr>\n",
       "      <th>6</th>\n",
       "      <td>54</td>\n",
       "    </tr>\n",
       "  </tbody>\n",
       "</table>\n",
       "</div>"
      ],
      "text/plain": [
       "   Number of clicks\n",
       "0                66\n",
       "1                63\n",
       "2                63\n",
       "3                68\n",
       "4                72\n",
       "5                65\n",
       "6                54"
      ]
     },
     "execution_count": 19,
     "metadata": {},
     "output_type": "execute_result"
    }
   ],
   "source": [
    "example = pd.DataFrame(ad_1458[ad_1458.click == 1].weekday.value_counts())\n",
    "example = example.sort_index()\n",
    "example.columns = ['Number of clicks']\n",
    "example"
   ]
  },
  {
   "cell_type": "code",
   "execution_count": 20,
   "metadata": {
    "collapsed": false
   },
   "outputs": [
    {
     "data": {
      "text/html": [
       "<div>\n",
       "<table border=\"1\" class=\"dataframe\">\n",
       "  <thead>\n",
       "    <tr style=\"text-align: right;\">\n",
       "      <th></th>\n",
       "      <th>weekday</th>\n",
       "    </tr>\n",
       "  </thead>\n",
       "  <tbody>\n",
       "    <tr>\n",
       "      <th>0</th>\n",
       "      <td>83994</td>\n",
       "    </tr>\n",
       "    <tr>\n",
       "      <th>1</th>\n",
       "      <td>72204</td>\n",
       "    </tr>\n",
       "    <tr>\n",
       "      <th>2</th>\n",
       "      <td>73810</td>\n",
       "    </tr>\n",
       "    <tr>\n",
       "      <th>3</th>\n",
       "      <td>76509</td>\n",
       "    </tr>\n",
       "    <tr>\n",
       "      <th>4</th>\n",
       "      <td>76835</td>\n",
       "    </tr>\n",
       "    <tr>\n",
       "      <th>5</th>\n",
       "      <td>78485</td>\n",
       "    </tr>\n",
       "    <tr>\n",
       "      <th>6</th>\n",
       "      <td>78456</td>\n",
       "    </tr>\n",
       "  </tbody>\n",
       "</table>\n",
       "</div>"
      ],
      "text/plain": [
       "   weekday\n",
       "0    83994\n",
       "1    72204\n",
       "2    73810\n",
       "3    76509\n",
       "4    76835\n",
       "5    78485\n",
       "6    78456"
      ]
     },
     "execution_count": 20,
     "metadata": {},
     "output_type": "execute_result"
    }
   ],
   "source": [
    "weekdays1 = pd.DataFrame(ad_1458.weekday.value_counts().sort_index())\n",
    "weekdays1"
   ]
  },
  {
   "cell_type": "code",
   "execution_count": 21,
   "metadata": {
    "collapsed": false
   },
   "outputs": [],
   "source": [
    "#Concatenating the columns together\n",
    "example = pd.concat([example, weekdays1],axis=1) #example.drop('weekday', axis=1, inplace=True) >> Use this to drop columns"
   ]
  },
  {
   "cell_type": "code",
   "execution_count": 22,
   "metadata": {
    "collapsed": false,
    "scrolled": false
   },
   "outputs": [],
   "source": [
    "# Example line >> df.rename(columns={'oldName1': 'newName1', 'oldName2': 'newName2'})\n",
    "example['CTR'] = example['Number of clicks']/example['weekday']    "
   ]
  },
  {
   "cell_type": "code",
   "execution_count": 23,
   "metadata": {
    "collapsed": false
   },
   "outputs": [],
   "source": [
    "#Re-naming the column to counts\n",
    "example = example.rename(columns={'weekday':'Weekday_counts'})  # Re-naming the column names"
   ]
  },
  {
   "cell_type": "code",
   "execution_count": 24,
   "metadata": {
    "collapsed": false
   },
   "outputs": [],
   "source": [
    "#Add an additional column to clarify the weekday\n",
    "example['Weekdays'] = [0,1,2,3,4,5,6]"
   ]
  },
  {
   "cell_type": "code",
   "execution_count": 25,
   "metadata": {
    "collapsed": false
   },
   "outputs": [
    {
     "data": {
      "text/html": [
       "<div>\n",
       "<table border=\"1\" class=\"dataframe\">\n",
       "  <thead>\n",
       "    <tr style=\"text-align: right;\">\n",
       "      <th></th>\n",
       "      <th>Number of clicks</th>\n",
       "      <th>Weekday_counts</th>\n",
       "      <th>CTR</th>\n",
       "      <th>Weekdays</th>\n",
       "    </tr>\n",
       "  </thead>\n",
       "  <tbody>\n",
       "    <tr>\n",
       "      <th>0</th>\n",
       "      <td>66</td>\n",
       "      <td>83994</td>\n",
       "      <td>0.000786</td>\n",
       "      <td>0</td>\n",
       "    </tr>\n",
       "    <tr>\n",
       "      <th>1</th>\n",
       "      <td>63</td>\n",
       "      <td>72204</td>\n",
       "      <td>0.000873</td>\n",
       "      <td>1</td>\n",
       "    </tr>\n",
       "    <tr>\n",
       "      <th>2</th>\n",
       "      <td>63</td>\n",
       "      <td>73810</td>\n",
       "      <td>0.000854</td>\n",
       "      <td>2</td>\n",
       "    </tr>\n",
       "    <tr>\n",
       "      <th>3</th>\n",
       "      <td>68</td>\n",
       "      <td>76509</td>\n",
       "      <td>0.000889</td>\n",
       "      <td>3</td>\n",
       "    </tr>\n",
       "    <tr>\n",
       "      <th>4</th>\n",
       "      <td>72</td>\n",
       "      <td>76835</td>\n",
       "      <td>0.000937</td>\n",
       "      <td>4</td>\n",
       "    </tr>\n",
       "    <tr>\n",
       "      <th>5</th>\n",
       "      <td>65</td>\n",
       "      <td>78485</td>\n",
       "      <td>0.000828</td>\n",
       "      <td>5</td>\n",
       "    </tr>\n",
       "    <tr>\n",
       "      <th>6</th>\n",
       "      <td>54</td>\n",
       "      <td>78456</td>\n",
       "      <td>0.000688</td>\n",
       "      <td>6</td>\n",
       "    </tr>\n",
       "  </tbody>\n",
       "</table>\n",
       "</div>"
      ],
      "text/plain": [
       "   Number of clicks  Weekday_counts       CTR  Weekdays\n",
       "0                66           83994  0.000786         0\n",
       "1                63           72204  0.000873         1\n",
       "2                63           73810  0.000854         2\n",
       "3                68           76509  0.000889         3\n",
       "4                72           76835  0.000937         4\n",
       "5                65           78485  0.000828         5\n",
       "6                54           78456  0.000688         6"
      ]
     },
     "execution_count": 25,
     "metadata": {},
     "output_type": "execute_result"
    }
   ],
   "source": [
    "example"
   ]
  },
  {
   "cell_type": "code",
   "execution_count": 26,
   "metadata": {
    "collapsed": false
   },
   "outputs": [
    {
     "data": {
      "text/plain": [
       "<matplotlib.axes._subplots.AxesSubplot at 0xb648be0>"
      ]
     },
     "execution_count": 26,
     "metadata": {},
     "output_type": "execute_result"
    },
    {
     "data": {
      "image/png": "[encoded data removed]",
      "text/plain": [
       "<matplotlib.figure.Figure at 0xb5f0240>"
      ]
     },
     "metadata": {},
     "output_type": "display_data"
    }
   ],
   "source": [
    "sns.set_style(\"whitegrid\",{'axes.grid':True})\n",
    "sns.despine()\n",
    "sns.pointplot(x=\"Weekdays\", y=\"CTR\", data=example , markers= ['.'])  #--- Seaborn version\n"
   ]
  },
  {
   "cell_type": "code",
   "execution_count": 27,
   "metadata": {
    "collapsed": false
   },
   "outputs": [
    {
     "data": {
      "text/html": [
       "<div>\n",
       "<table border=\"1\" class=\"dataframe\">\n",
       "  <thead>\n",
       "    <tr style=\"text-align: right;\">\n",
       "      <th></th>\n",
       "      <th>advertiser</th>\n",
       "      <th>weekday</th>\n",
       "      <th>impressions</th>\n",
       "    </tr>\n",
       "  </thead>\n",
       "  <tbody>\n",
       "    <tr>\n",
       "      <th>0</th>\n",
       "      <td>1458</td>\n",
       "      <td>0</td>\n",
       "      <td>83994</td>\n",
       "    </tr>\n",
       "    <tr>\n",
       "      <th>1</th>\n",
       "      <td>1458</td>\n",
       "      <td>1</td>\n",
       "      <td>72204</td>\n",
       "    </tr>\n",
       "    <tr>\n",
       "      <th>2</th>\n",
       "      <td>1458</td>\n",
       "      <td>2</td>\n",
       "      <td>73810</td>\n",
       "    </tr>\n",
       "    <tr>\n",
       "      <th>3</th>\n",
       "      <td>1458</td>\n",
       "      <td>3</td>\n",
       "      <td>76509</td>\n",
       "    </tr>\n",
       "    <tr>\n",
       "      <th>4</th>\n",
       "      <td>1458</td>\n",
       "      <td>4</td>\n",
       "      <td>76835</td>\n",
       "    </tr>\n",
       "    <tr>\n",
       "      <th>5</th>\n",
       "      <td>1458</td>\n",
       "      <td>5</td>\n",
       "      <td>78485</td>\n",
       "    </tr>\n",
       "    <tr>\n",
       "      <th>6</th>\n",
       "      <td>1458</td>\n",
       "      <td>6</td>\n",
       "      <td>78456</td>\n",
       "    </tr>\n",
       "  </tbody>\n",
       "</table>\n",
       "</div>"
      ],
      "text/plain": [
       "   advertiser  weekday  impressions\n",
       "0        1458        0        83994\n",
       "1        1458        1        72204\n",
       "2        1458        2        73810\n",
       "3        1458        3        76509\n",
       "4        1458        4        76835\n",
       "5        1458        5        78485\n",
       "6        1458        6        78456"
      ]
     },
     "execution_count": 27,
     "metadata": {},
     "output_type": "execute_result"
    }
   ],
   "source": [
    "ad_1458 = pd.DataFrame({'impressions':df.groupby(['advertiser','weekday']).size()}).reset_index()\n",
    "ad_1458[ad_1458.advertiser == 1458]"
   ]
  },
  {
   "cell_type": "code",
   "execution_count": 28,
   "metadata": {
    "collapsed": false
   },
   "outputs": [],
   "source": [
    "ad_1458_c = pd.DataFrame({'Clicks':df.groupby(['advertiser','weekday','click']).size()}).reset_index()"
   ]
  },
  {
   "cell_type": "code",
   "execution_count": 29,
   "metadata": {
    "collapsed": false
   },
   "outputs": [
    {
     "data": {
      "text/html": [
       "<div>\n",
       "<table border=\"1\" class=\"dataframe\">\n",
       "  <thead>\n",
       "    <tr style=\"text-align: right;\">\n",
       "      <th></th>\n",
       "      <th>advertiser</th>\n",
       "      <th>weekday</th>\n",
       "      <th>click</th>\n",
       "      <th>Clicks</th>\n",
       "    </tr>\n",
       "  </thead>\n",
       "  <tbody>\n",
       "    <tr>\n",
       "      <th>0</th>\n",
       "      <td>1458</td>\n",
       "      <td>0</td>\n",
       "      <td>1</td>\n",
       "      <td>66</td>\n",
       "    </tr>\n",
       "    <tr>\n",
       "      <th>1</th>\n",
       "      <td>1458</td>\n",
       "      <td>1</td>\n",
       "      <td>1</td>\n",
       "      <td>63</td>\n",
       "    </tr>\n",
       "    <tr>\n",
       "      <th>2</th>\n",
       "      <td>1458</td>\n",
       "      <td>2</td>\n",
       "      <td>1</td>\n",
       "      <td>63</td>\n",
       "    </tr>\n",
       "    <tr>\n",
       "      <th>3</th>\n",
       "      <td>1458</td>\n",
       "      <td>3</td>\n",
       "      <td>1</td>\n",
       "      <td>68</td>\n",
       "    </tr>\n",
       "    <tr>\n",
       "      <th>4</th>\n",
       "      <td>1458</td>\n",
       "      <td>4</td>\n",
       "      <td>1</td>\n",
       "      <td>72</td>\n",
       "    </tr>\n",
       "    <tr>\n",
       "      <th>5</th>\n",
       "      <td>1458</td>\n",
       "      <td>5</td>\n",
       "      <td>1</td>\n",
       "      <td>65</td>\n",
       "    </tr>\n",
       "    <tr>\n",
       "      <th>6</th>\n",
       "      <td>1458</td>\n",
       "      <td>6</td>\n",
       "      <td>1</td>\n",
       "      <td>54</td>\n",
       "    </tr>\n",
       "  </tbody>\n",
       "</table>\n",
       "</div>"
      ],
      "text/plain": [
       "   advertiser  weekday  click  Clicks\n",
       "0        1458        0      1      66\n",
       "1        1458        1      1      63\n",
       "2        1458        2      1      63\n",
       "3        1458        3      1      68\n",
       "4        1458        4      1      72\n",
       "5        1458        5      1      65\n",
       "6        1458        6      1      54"
      ]
     },
     "execution_count": 29,
     "metadata": {},
     "output_type": "execute_result"
    }
   ],
   "source": [
    "ad_1458_c= ad_1458_c[(ad_1458_c.advertiser == 1458)& (ad_1458_c.click == 1)].reset_index(drop= True)\n",
    "ad_1458_c"
   ]
  },
  {
   "cell_type": "code",
   "execution_count": 30,
   "metadata": {
    "collapsed": true
   },
   "outputs": [],
   "source": [
    "ad_1458['Clicks'] = ad_1458_c['Clicks']"
   ]
  },
  {
   "cell_type": "code",
   "execution_count": 31,
   "metadata": {
    "collapsed": false
   },
   "outputs": [
    {
     "data": {
      "text/html": [
       "<div>\n",
       "<table border=\"1\" class=\"dataframe\">\n",
       "  <thead>\n",
       "    <tr style=\"text-align: right;\">\n",
       "      <th></th>\n",
       "      <th>advertiser</th>\n",
       "      <th>weekday</th>\n",
       "      <th>impressions</th>\n",
       "      <th>Clicks</th>\n",
       "    </tr>\n",
       "  </thead>\n",
       "  <tbody>\n",
       "    <tr>\n",
       "      <th>0</th>\n",
       "      <td>1458</td>\n",
       "      <td>0</td>\n",
       "      <td>83994</td>\n",
       "      <td>66.0</td>\n",
       "    </tr>\n",
       "    <tr>\n",
       "      <th>1</th>\n",
       "      <td>1458</td>\n",
       "      <td>1</td>\n",
       "      <td>72204</td>\n",
       "      <td>63.0</td>\n",
       "    </tr>\n",
       "    <tr>\n",
       "      <th>2</th>\n",
       "      <td>1458</td>\n",
       "      <td>2</td>\n",
       "      <td>73810</td>\n",
       "      <td>63.0</td>\n",
       "    </tr>\n",
       "    <tr>\n",
       "      <th>3</th>\n",
       "      <td>1458</td>\n",
       "      <td>3</td>\n",
       "      <td>76509</td>\n",
       "      <td>68.0</td>\n",
       "    </tr>\n",
       "    <tr>\n",
       "      <th>4</th>\n",
       "      <td>1458</td>\n",
       "      <td>4</td>\n",
       "      <td>76835</td>\n",
       "      <td>72.0</td>\n",
       "    </tr>\n",
       "    <tr>\n",
       "      <th>5</th>\n",
       "      <td>1458</td>\n",
       "      <td>5</td>\n",
       "      <td>78485</td>\n",
       "      <td>65.0</td>\n",
       "    </tr>\n",
       "    <tr>\n",
       "      <th>6</th>\n",
       "      <td>1458</td>\n",
       "      <td>6</td>\n",
       "      <td>78456</td>\n",
       "      <td>54.0</td>\n",
       "    </tr>\n",
       "  </tbody>\n",
       "</table>\n",
       "</div>"
      ],
      "text/plain": [
       "   advertiser  weekday  impressions  Clicks\n",
       "0        1458        0        83994    66.0\n",
       "1        1458        1        72204    63.0\n",
       "2        1458        2        73810    63.0\n",
       "3        1458        3        76509    68.0\n",
       "4        1458        4        76835    72.0\n",
       "5        1458        5        78485    65.0\n",
       "6        1458        6        78456    54.0"
      ]
     },
     "execution_count": 31,
     "metadata": {},
     "output_type": "execute_result"
    }
   ],
   "source": [
    "ad_1458[ad_1458.advertiser == 1458]"
   ]
  },
  {
   "cell_type": "code",
   "execution_count": 32,
   "metadata": {
    "collapsed": false
   },
   "outputs": [
    {
     "data": {
      "image/png": "[encoded data removed]",
      "text/plain": [
       "<matplotlib.figure.Figure at 0xb515198>"
      ]
     },
     "metadata": {},
     "output_type": "display_data"
    }
   ],
   "source": [
    "figure = plt.figure\n",
    "ax = pd.DataFrame({'CTR':(ad_1458['Clicks']/ad_1458['impressions'])*100}).dropna().plot()"
   ]
  },
  {
   "cell_type": "code",
   "execution_count": 33,
   "metadata": {
    "collapsed": false
   },
   "outputs": [],
   "source": [
    "ad_3358 = pd.DataFrame({'impressions':df.groupby(['advertiser','weekday']).size()}).reset_index()\n",
    "ad_3358 = ad_3358[ad_3358.advertiser == 3358].reset_index(drop=True)\n",
    "ad_3358_c = pd.DataFrame({'Clicks':df.groupby(['advertiser','weekday','click']).size()}).reset_index()\n",
    "ad_3358_c = ad_3358_c[(ad_3358_c.advertiser == 3358)&(ad_3358_c.click ==1)].reset_index(drop=True)\n",
    "ad_3358['Clicks'] = ad_3358_c['Clicks']"
   ]
  },
  {
   "cell_type": "code",
   "execution_count": 34,
   "metadata": {
    "collapsed": true
   },
   "outputs": [],
   "source": [
    "ad_3386 = pd.DataFrame({'impressions':df.groupby(['advertiser','weekday']).size()}).reset_index()\n",
    "ad_3386 = ad_3386[ad_3386.advertiser == 3386].reset_index(drop=True)\n",
    "ad_3386_c = pd.DataFrame({'Clicks':df.groupby(['advertiser','weekday','click']).size()}).reset_index()\n",
    "ad_3386_c = ad_3386_c[(ad_3386_c.advertiser == 3386)&(ad_3386_c.click ==1)].reset_index(drop=True)\n",
    "ad_3386['Clicks'] = ad_3386_c['Clicks']"
   ]
  },
  {
   "cell_type": "code",
   "execution_count": 42,
   "metadata": {
    "collapsed": false
   },
   "outputs": [
    {
     "data": {
      "image/png": "[encoded data removed]",
      "text/plain": [
       "<matplotlib.figure.Figure at 0xb8c1780>"
      ]
     },
     "metadata": {},
     "output_type": "display_data"
    }
   ],
   "source": [
    "#Advertisers comparison\n",
    "figure = plt.figure\n",
    "ax = pd.DataFrame({'CTR':(ad_1458['Clicks']/ad_1458['impressions'])*100}).dropna().plot(linewidth =0.7 , marker = '^')\n",
    "pd.DataFrame({'CTR':(ad_3358['Clicks']/ad_3358['impressions'])*100}).plot(ax=ax,linewidth =0.7,marker = '^')\n",
    "pd.DataFrame({'CTR':(ad_3386['Clicks']/ad_3386['impressions'])*100}).plot(ax=ax,linewidth =0.7,marker = '^')\n",
    "ax.set_ylabel('CTR [%]')\n",
    "ax.legend(['1458','3358','3386'])\n",
    "ax.set_xlabel('Weekdays')\n",
    "\n",
    "#Save image\n",
    "#plt.savefig('Advertisers.jpg',bbox_inches='tight')"
   ]
  },
  {
   "cell_type": "code",
   "execution_count": 36,
   "metadata": {
    "collapsed": false
   },
   "outputs": [
    {
     "data": {
      "image/png": "[encoded data removed]",
      "text/plain": [
       "<matplotlib.figure.Figure at 0xb58d908>"
      ]
     },
     "metadata": {},
     "output_type": "display_data"
    }
   ],
   "source": [
    "#CTR plot base on the weekdays\n",
    "ax = example.CTR.plot()"
   ]
  },
  {
   "cell_type": "code",
   "execution_count": 37,
   "metadata": {
    "collapsed": false
   },
   "outputs": [
    {
     "data": {
      "text/plain": [
       "(50, 4)"
      ]
     },
     "execution_count": 37,
     "metadata": {},
     "output_type": "execute_result"
    }
   ],
   "source": [
    "ad_1458.shape  # Number of impressions = 540293"
   ]
  },
  {
   "cell_type": "markdown",
   "metadata": {},
   "source": [
    "### Need to create Dataset Statistics table ??"
   ]
  },
  {
   "cell_type": "code",
   "execution_count": 38,
   "metadata": {
    "collapsed": false
   },
   "outputs": [],
   "source": [
    "#1- Adveriser \n",
    "df_stats = pd.DataFrame(np.sort(df['advertiser'].unique().tolist()))"
   ]
  },
  {
   "cell_type": "code",
   "execution_count": 39,
   "metadata": {
    "collapsed": false
   },
   "outputs": [],
   "source": [
    "#2 - Number of impressions\n",
    "df_stats['Impressions']= df['advertiser'].value_counts().sort_index().tolist()"
   ]
  },
  {
   "cell_type": "code",
   "execution_count": 40,
   "metadata": {
    "collapsed": true
   },
   "outputs": [],
   "source": [
    "#3 - Number of clicks\n",
    "df_stats['Clicks']= df[df.click == 1].advertiser.value_counts().sort_index().tolist()"
   ]
  },
  {
   "cell_type": "code",
   "execution_count": 40,
   "metadata": {
    "collapsed": false
   },
   "outputs": [],
   "source": [
    "df_stats.columns = ['Advertisers','Impressions','Clicks']"
   ]
  },
  {
   "cell_type": "markdown",
   "metadata": {
    "collapsed": true
   },
   "source": [
    "#### Calculation for the total slot price"
   ]
  },
  {
   "cell_type": "code",
   "execution_count": 41,
   "metadata": {
    "collapsed": false
   },
   "outputs": [
    {
     "data": {
      "text/plain": [
       "[1458, 2259, 2261, 2821, 2997, 3358, 3386, 3427, 3476]"
      ]
     },
     "execution_count": 41,
     "metadata": {},
     "output_type": "execute_result"
    }
   ],
   "source": [
    "#Listing all the advertiser IDS - 1458    540293\n",
    "ad_id= [3386,3427,3476,3358,2821,2259,2261,2997,1458]\n",
    "ad_id.sort()\n",
    "ad_id"
   ]
  },
  {
   "cell_type": "code",
   "execution_count": 42,
   "metadata": {
    "collapsed": false,
    "scrolled": true
   },
   "outputs": [
    {
     "data": {
      "text/plain": [
       "1458    540293\n",
       "3386    498554\n",
       "3427    454031\n",
       "3476    346778\n",
       "3358    304782\n",
       "2821    231416\n",
       "2259    146778\n",
       "2261    120619\n",
       "2997     54487\n",
       "Name: advertiser, dtype: int64"
      ]
     },
     "execution_count": 42,
     "metadata": {},
     "output_type": "execute_result"
    }
   ],
   "source": [
    "#List of the advertisers - Used for checking\n",
    "df.advertiser.value_counts()"
   ]
  },
  {
   "cell_type": "code",
   "execution_count": 43,
   "metadata": {
    "collapsed": false
   },
   "outputs": [
    {
     "data": {
      "text/html": [
       "<div>\n",
       "<table border=\"1\" class=\"dataframe\">\n",
       "  <thead>\n",
       "    <tr style=\"text-align: right;\">\n",
       "      <th></th>\n",
       "      <th>click</th>\n",
       "      <th>weekday</th>\n",
       "      <th>hour</th>\n",
       "      <th>bidid</th>\n",
       "      <th>logtype</th>\n",
       "      <th>userid</th>\n",
       "      <th>useragent</th>\n",
       "      <th>IP</th>\n",
       "      <th>region</th>\n",
       "      <th>city</th>\n",
       "      <th>...</th>\n",
       "      <th>slotheight</th>\n",
       "      <th>slotvisibility</th>\n",
       "      <th>slotformat</th>\n",
       "      <th>slotprice</th>\n",
       "      <th>creative</th>\n",
       "      <th>bidprice</th>\n",
       "      <th>payprice</th>\n",
       "      <th>keypage</th>\n",
       "      <th>advertiser</th>\n",
       "      <th>usertag</th>\n",
       "    </tr>\n",
       "  </thead>\n",
       "  <tbody>\n",
       "    <tr>\n",
       "      <th>0</th>\n",
       "      <td>0</td>\n",
       "      <td>1</td>\n",
       "      <td>14</td>\n",
       "      <td>fdfae6789b787899f1b875de3ab8b21a</td>\n",
       "      <td>1</td>\n",
       "      <td>u_Vh1OPkFv3q5CFdR</td>\n",
       "      <td>windows_ie</td>\n",
       "      <td>180.107.112.*</td>\n",
       "      <td>80</td>\n",
       "      <td>85</td>\n",
       "      <td>...</td>\n",
       "      <td>60</td>\n",
       "      <td>1</td>\n",
       "      <td>0</td>\n",
       "      <td>5</td>\n",
       "      <td>612599432d200b093719dd1f372f7a30</td>\n",
       "      <td>300</td>\n",
       "      <td>54</td>\n",
       "      <td>bebefa5efe83beee17a3d245e7c5085b</td>\n",
       "      <td>1458</td>\n",
       "      <td>13866,10063</td>\n",
       "    </tr>\n",
       "    <tr>\n",
       "      <th>2</th>\n",
       "      <td>0</td>\n",
       "      <td>5</td>\n",
       "      <td>9</td>\n",
       "      <td>2912cb5947e1fad450e2473c2f61ef75</td>\n",
       "      <td>1</td>\n",
       "      <td>u_VhkyORMrD8TP3GL</td>\n",
       "      <td>windows_ie</td>\n",
       "      <td>120.196.64.*</td>\n",
       "      <td>216</td>\n",
       "      <td>217</td>\n",
       "      <td>...</td>\n",
       "      <td>280</td>\n",
       "      <td>0</td>\n",
       "      <td>1</td>\n",
       "      <td>0</td>\n",
       "      <td>77819d3e0b3467fe5c7b16d68ad923a1</td>\n",
       "      <td>300</td>\n",
       "      <td>76</td>\n",
       "      <td>bebefa5efe83beee17a3d245e7c5085b</td>\n",
       "      <td>1458</td>\n",
       "      <td>10063</td>\n",
       "    </tr>\n",
       "    <tr>\n",
       "      <th>9</th>\n",
       "      <td>0</td>\n",
       "      <td>0</td>\n",
       "      <td>17</td>\n",
       "      <td>dd3e2fd0370f672e6cbc5597673f72e1</td>\n",
       "      <td>1</td>\n",
       "      <td>u_VhTnL7d7PtB8XWC</td>\n",
       "      <td>windows_ie</td>\n",
       "      <td>122.137.146.*</td>\n",
       "      <td>55</td>\n",
       "      <td>57</td>\n",
       "      <td>...</td>\n",
       "      <td>90</td>\n",
       "      <td>0</td>\n",
       "      <td>0</td>\n",
       "      <td>31</td>\n",
       "      <td>832b91d59d0cb5731431653204a76c0e</td>\n",
       "      <td>300</td>\n",
       "      <td>30</td>\n",
       "      <td>bebefa5efe83beee17a3d245e7c5085b</td>\n",
       "      <td>1458</td>\n",
       "      <td>13403,10057,10063,10083,10006,10110</td>\n",
       "    </tr>\n",
       "    <tr>\n",
       "      <th>11</th>\n",
       "      <td>0</td>\n",
       "      <td>3</td>\n",
       "      <td>21</td>\n",
       "      <td>cde466a7acd41122273aeddec18df1f9</td>\n",
       "      <td>1</td>\n",
       "      <td>u_Vh5h1ijSLHc9lmB</td>\n",
       "      <td>windows_chrome</td>\n",
       "      <td>119.50.16.*</td>\n",
       "      <td>55</td>\n",
       "      <td>64</td>\n",
       "      <td>...</td>\n",
       "      <td>90</td>\n",
       "      <td>0</td>\n",
       "      <td>0</td>\n",
       "      <td>50</td>\n",
       "      <td>832b91d59d0cb5731431653204a76c0e</td>\n",
       "      <td>300</td>\n",
       "      <td>50</td>\n",
       "      <td>bebefa5efe83beee17a3d245e7c5085b</td>\n",
       "      <td>1458</td>\n",
       "      <td>10063,10006,10083,13403,10057,10024,14273,10110</td>\n",
       "    </tr>\n",
       "    <tr>\n",
       "      <th>12</th>\n",
       "      <td>0</td>\n",
       "      <td>5</td>\n",
       "      <td>0</td>\n",
       "      <td>e9468416f0a80bad92021e5b6dc9a535</td>\n",
       "      <td>1</td>\n",
       "      <td>u_Vhkx1JpxOZu6QbE</td>\n",
       "      <td>windows_chrome</td>\n",
       "      <td>183.44.177.*</td>\n",
       "      <td>216</td>\n",
       "      <td>224</td>\n",
       "      <td>...</td>\n",
       "      <td>90</td>\n",
       "      <td>0</td>\n",
       "      <td>0</td>\n",
       "      <td>70</td>\n",
       "      <td>832b91d59d0cb5731431653204a76c0e</td>\n",
       "      <td>300</td>\n",
       "      <td>70</td>\n",
       "      <td>bebefa5efe83beee17a3d245e7c5085b</td>\n",
       "      <td>1458</td>\n",
       "      <td>10052,13403,10006,10063</td>\n",
       "    </tr>\n",
       "  </tbody>\n",
       "</table>\n",
       "<p>5 rows × 26 columns</p>\n",
       "</div>"
      ],
      "text/plain": [
       "    click  weekday  hour                             bidid  logtype  \\\n",
       "0       0        1    14  fdfae6789b787899f1b875de3ab8b21a        1   \n",
       "2       0        5     9  2912cb5947e1fad450e2473c2f61ef75        1   \n",
       "9       0        0    17  dd3e2fd0370f672e6cbc5597673f72e1        1   \n",
       "11      0        3    21  cde466a7acd41122273aeddec18df1f9        1   \n",
       "12      0        5     0  e9468416f0a80bad92021e5b6dc9a535        1   \n",
       "\n",
       "               userid       useragent             IP  region  city  \\\n",
       "0   u_Vh1OPkFv3q5CFdR      windows_ie  180.107.112.*      80    85   \n",
       "2   u_VhkyORMrD8TP3GL      windows_ie   120.196.64.*     216   217   \n",
       "9   u_VhTnL7d7PtB8XWC      windows_ie  122.137.146.*      55    57   \n",
       "11  u_Vh5h1ijSLHc9lmB  windows_chrome    119.50.16.*      55    64   \n",
       "12  u_Vhkx1JpxOZu6QbE  windows_chrome   183.44.177.*     216   224   \n",
       "\n",
       "                         ...                        slotheight slotvisibility  \\\n",
       "0                        ...                                60              1   \n",
       "2                        ...                               280              0   \n",
       "9                        ...                                90              0   \n",
       "11                       ...                                90              0   \n",
       "12                       ...                                90              0   \n",
       "\n",
       "   slotformat slotprice                          creative  bidprice  payprice  \\\n",
       "0           0         5  612599432d200b093719dd1f372f7a30       300        54   \n",
       "2           1         0  77819d3e0b3467fe5c7b16d68ad923a1       300        76   \n",
       "9           0        31  832b91d59d0cb5731431653204a76c0e       300        30   \n",
       "11          0        50  832b91d59d0cb5731431653204a76c0e       300        50   \n",
       "12          0        70  832b91d59d0cb5731431653204a76c0e       300        70   \n",
       "\n",
       "                             keypage advertiser  \\\n",
       "0   bebefa5efe83beee17a3d245e7c5085b       1458   \n",
       "2   bebefa5efe83beee17a3d245e7c5085b       1458   \n",
       "9   bebefa5efe83beee17a3d245e7c5085b       1458   \n",
       "11  bebefa5efe83beee17a3d245e7c5085b       1458   \n",
       "12  bebefa5efe83beee17a3d245e7c5085b       1458   \n",
       "\n",
       "                                            usertag  \n",
       "0                                       13866,10063  \n",
       "2                                             10063  \n",
       "9               13403,10057,10063,10083,10006,10110  \n",
       "11  10063,10006,10083,13403,10057,10024,14273,10110  \n",
       "12                          10052,13403,10006,10063  \n",
       "\n",
       "[5 rows x 26 columns]"
      ]
     },
     "execution_count": 43,
     "metadata": {},
     "output_type": "execute_result"
    }
   ],
   "source": [
    "df[df.advertiser == 1458].head()"
   ]
  },
  {
   "cell_type": "code",
   "execution_count": 44,
   "metadata": {
    "collapsed": false
   },
   "outputs": [
    {
     "data": {
      "text/plain": [
       "15271374"
      ]
     },
     "execution_count": 44,
     "metadata": {},
     "output_type": "execute_result"
    }
   ],
   "source": [
    "#Left column is only index therefore you can add the total  -- Example cross-examine this with the for loop value\n",
    "sum(df[df.advertiser == 1458].slotprice) # >>> THIS is only for advertiser 1458"
   ]
  },
  {
   "cell_type": "code",
   "execution_count": 45,
   "metadata": {
    "collapsed": false
   },
   "outputs": [
    {
     "name": "stdout",
     "output_type": "stream",
     "text": [
      "15271374\n",
      "3615396\n",
      "3223072\n",
      "5421799\n",
      "1853120\n",
      "5119362\n",
      "14699725\n",
      "13045946\n",
      "9199370\n"
     ]
    }
   ],
   "source": [
    "#Column 4 - Costs (either the summation of the slot price or the summation of the pay price)\n",
    "for advertiser_id in ad_id:\n",
    "    ad_data = df[df.advertiser == advertiser_id]\n",
    "    slot_total= sum(ad_data.slotprice)\n",
    "    print (slot_total)\n"
   ]
  },
  {
   "cell_type": "code",
   "execution_count": 46,
   "metadata": {
    "collapsed": true
   },
   "outputs": [],
   "source": [
    "#4.1 - Slotprice total\n",
    "df_stats['Slotprice_total [RMB]']= [15271374,3615396,3223072,5421799,1853120,5119362,14699725,13045946,9199370]"
   ]
  },
  {
   "cell_type": "markdown",
   "metadata": {},
   "source": [
    "#### Calculation for the payprice"
   ]
  },
  {
   "cell_type": "code",
   "execution_count": 47,
   "metadata": {
    "collapsed": false
   },
   "outputs": [
    {
     "data": {
      "text/plain": [
       "37231239"
      ]
     },
     "execution_count": 47,
     "metadata": {},
     "output_type": "execute_result"
    }
   ],
   "source": [
    "sum(df[df.advertiser == 1458].payprice)"
   ]
  },
  {
   "cell_type": "code",
   "execution_count": 48,
   "metadata": {
    "collapsed": false,
    "scrolled": true
   },
   "outputs": [
    {
     "name": "stdout",
     "output_type": "stream",
     "text": [
      "37231239\n",
      "13649026\n",
      "10789152\n",
      "20625766\n",
      "3413227\n",
      "28145288\n",
      "38341028\n",
      "36820111\n",
      "27481402\n"
     ]
    }
   ],
   "source": [
    "for advertiser_id in ad_id:\n",
    "    ad_data = df[df.advertiser == advertiser_id]\n",
    "    pay_total= sum(ad_data.payprice)\n",
    "    print (pay_total)\n"
   ]
  },
  {
   "cell_type": "code",
   "execution_count": 49,
   "metadata": {
    "collapsed": true
   },
   "outputs": [],
   "source": [
    "#4.2 - Payprice total\n",
    "df_stats['Payprice_total [RMB]']= [37231239,13649026,10789152,20625766,3413227,28145288,38341028,36820111,27481402]"
   ]
  },
  {
   "cell_type": "code",
   "execution_count": 50,
   "metadata": {
    "collapsed": true
   },
   "outputs": [],
   "source": [
    "#Column 5 - CTR percentage\n",
    "df_stats['CTR [%]']= (df_stats['Clicks']/df_stats['Impressions'])*100  "
   ]
  },
  {
   "cell_type": "code",
   "execution_count": 51,
   "metadata": {
    "collapsed": false
   },
   "outputs": [],
   "source": [
    "#df_stats.drop('CTR [%]', axis=1, inplace=True) - Only used this code for dropping columns"
   ]
  },
  {
   "cell_type": "code",
   "execution_count": 52,
   "metadata": {
    "collapsed": false
   },
   "outputs": [],
   "source": [
    "#Column 6- CPM \n",
    "df_stats['CPM [fen]']= (df_stats['Payprice_total [RMB]']/df_stats['Impressions'])"
   ]
  },
  {
   "cell_type": "code",
   "execution_count": 53,
   "metadata": {
    "collapsed": false
   },
   "outputs": [],
   "source": [
    "#Column 7- eCPC\n",
    "df_stats['eCPC']= (df_stats['Payprice_total [RMB]']/df_stats['Clicks'])/1000"
   ]
  },
  {
   "cell_type": "code",
   "execution_count": 54,
   "metadata": {
    "collapsed": false
   },
   "outputs": [],
   "source": [
    "df_stats= df_stats.round({ 'CTR [%]': 3, 'CPM [fen]': 2,'eCPC':2})"
   ]
  },
  {
   "cell_type": "markdown",
   "metadata": {},
   "source": [
    "#### Dataset statistics check"
   ]
  },
  {
   "cell_type": "code",
   "execution_count": 55,
   "metadata": {
    "collapsed": false
   },
   "outputs": [
    {
     "data": {
      "text/plain": [
       "147.50222222222223"
      ]
     },
     "execution_count": 55,
     "metadata": {},
     "output_type": "execute_result"
    }
   ],
   "source": [
    "df_stats['eCPC'].mean()"
   ]
  },
  {
   "cell_type": "code",
   "execution_count": 56,
   "metadata": {
    "collapsed": false
   },
   "outputs": [],
   "source": [
    "df_stats= df_stats.rename(index={0:'Chinese vertical e-commerce',1:'Milk powder',2:'Telecom',3:'Footwear',4:'Mobile e-commerce app install',5:'International e-commerce',6:'Software6',7:'Oil',8:'Tire'})"
   ]
  },
  {
   "cell_type": "code",
   "execution_count": 57,
   "metadata": {
    "collapsed": false
   },
   "outputs": [
    {
     "data": {
      "text/html": [
       "<div>\n",
       "<table border=\"1\" class=\"dataframe\">\n",
       "  <thead>\n",
       "    <tr style=\"text-align: right;\">\n",
       "      <th></th>\n",
       "      <th>Advertisers</th>\n",
       "      <th>Impressions</th>\n",
       "      <th>Clicks</th>\n",
       "      <th>Slotprice_total [RMB]</th>\n",
       "      <th>Payprice_total [RMB]</th>\n",
       "      <th>CTR [%]</th>\n",
       "      <th>CPM [fen]</th>\n",
       "      <th>eCPC</th>\n",
       "    </tr>\n",
       "  </thead>\n",
       "  <tbody>\n",
       "    <tr>\n",
       "      <th>Chinese vertical e-commerce</th>\n",
       "      <td>1458</td>\n",
       "      <td>540293</td>\n",
       "      <td>451</td>\n",
       "      <td>15271374</td>\n",
       "      <td>37231239</td>\n",
       "      <td>0.083</td>\n",
       "      <td>68.91</td>\n",
       "      <td>82.55</td>\n",
       "    </tr>\n",
       "    <tr>\n",
       "      <th>Milk powder</th>\n",
       "      <td>2259</td>\n",
       "      <td>146778</td>\n",
       "      <td>45</td>\n",
       "      <td>3615396</td>\n",
       "      <td>13649026</td>\n",
       "      <td>0.031</td>\n",
       "      <td>92.99</td>\n",
       "      <td>303.31</td>\n",
       "    </tr>\n",
       "    <tr>\n",
       "      <th>Telecom</th>\n",
       "      <td>2261</td>\n",
       "      <td>120619</td>\n",
       "      <td>37</td>\n",
       "      <td>3223072</td>\n",
       "      <td>10789152</td>\n",
       "      <td>0.031</td>\n",
       "      <td>89.45</td>\n",
       "      <td>291.60</td>\n",
       "    </tr>\n",
       "    <tr>\n",
       "      <th>Footwear</th>\n",
       "      <td>2821</td>\n",
       "      <td>231416</td>\n",
       "      <td>144</td>\n",
       "      <td>5421799</td>\n",
       "      <td>20625766</td>\n",
       "      <td>0.062</td>\n",
       "      <td>89.13</td>\n",
       "      <td>143.23</td>\n",
       "    </tr>\n",
       "    <tr>\n",
       "      <th>Mobile e-commerce app install</th>\n",
       "      <td>2997</td>\n",
       "      <td>54487</td>\n",
       "      <td>251</td>\n",
       "      <td>1853120</td>\n",
       "      <td>3413227</td>\n",
       "      <td>0.461</td>\n",
       "      <td>62.64</td>\n",
       "      <td>13.60</td>\n",
       "    </tr>\n",
       "    <tr>\n",
       "      <th>International e-commerce</th>\n",
       "      <td>3358</td>\n",
       "      <td>304782</td>\n",
       "      <td>233</td>\n",
       "      <td>5119362</td>\n",
       "      <td>28145288</td>\n",
       "      <td>0.076</td>\n",
       "      <td>92.35</td>\n",
       "      <td>120.80</td>\n",
       "    </tr>\n",
       "    <tr>\n",
       "      <th>Software6</th>\n",
       "      <td>3386</td>\n",
       "      <td>498554</td>\n",
       "      <td>358</td>\n",
       "      <td>14699725</td>\n",
       "      <td>38341028</td>\n",
       "      <td>0.072</td>\n",
       "      <td>76.90</td>\n",
       "      <td>107.10</td>\n",
       "    </tr>\n",
       "    <tr>\n",
       "      <th>Oil</th>\n",
       "      <td>3427</td>\n",
       "      <td>454031</td>\n",
       "      <td>340</td>\n",
       "      <td>13045946</td>\n",
       "      <td>36820111</td>\n",
       "      <td>0.075</td>\n",
       "      <td>81.10</td>\n",
       "      <td>108.29</td>\n",
       "    </tr>\n",
       "    <tr>\n",
       "      <th>Tire</th>\n",
       "      <td>3476</td>\n",
       "      <td>346778</td>\n",
       "      <td>175</td>\n",
       "      <td>9199370</td>\n",
       "      <td>27481402</td>\n",
       "      <td>0.050</td>\n",
       "      <td>79.25</td>\n",
       "      <td>157.04</td>\n",
       "    </tr>\n",
       "  </tbody>\n",
       "</table>\n",
       "</div>"
      ],
      "text/plain": [
       "                               Advertisers  Impressions  Clicks  \\\n",
       "Chinese vertical e-commerce           1458       540293     451   \n",
       "Milk powder                           2259       146778      45   \n",
       "Telecom                               2261       120619      37   \n",
       "Footwear                              2821       231416     144   \n",
       "Mobile e-commerce app install         2997        54487     251   \n",
       "International e-commerce              3358       304782     233   \n",
       "Software6                             3386       498554     358   \n",
       "Oil                                   3427       454031     340   \n",
       "Tire                                  3476       346778     175   \n",
       "\n",
       "                               Slotprice_total [RMB]  Payprice_total [RMB]  \\\n",
       "Chinese vertical e-commerce                 15271374              37231239   \n",
       "Milk powder                                  3615396              13649026   \n",
       "Telecom                                      3223072              10789152   \n",
       "Footwear                                     5421799              20625766   \n",
       "Mobile e-commerce app install                1853120               3413227   \n",
       "International e-commerce                     5119362              28145288   \n",
       "Software6                                   14699725              38341028   \n",
       "Oil                                         13045946              36820111   \n",
       "Tire                                         9199370              27481402   \n",
       "\n",
       "                               CTR [%]  CPM [fen]    eCPC  \n",
       "Chinese vertical e-commerce      0.083      68.91   82.55  \n",
       "Milk powder                      0.031      92.99  303.31  \n",
       "Telecom                          0.031      89.45  291.60  \n",
       "Footwear                         0.062      89.13  143.23  \n",
       "Mobile e-commerce app install    0.461      62.64   13.60  \n",
       "International e-commerce         0.076      92.35  120.80  \n",
       "Software6                        0.072      76.90  107.10  \n",
       "Oil                              0.075      81.10  108.29  \n",
       "Tire                             0.050      79.25  157.04  "
      ]
     },
     "execution_count": 57,
     "metadata": {},
     "output_type": "execute_result"
    }
   ],
   "source": [
    "df_stats"
   ]
  },
  {
   "cell_type": "code",
   "execution_count": 58,
   "metadata": {
    "collapsed": false
   },
   "outputs": [],
   "source": [
    "#print (df_stats.to_latex()) #Latex format"
   ]
  },
  {
   "cell_type": "code",
   "execution_count": 63,
   "metadata": {
    "collapsed": false
   },
   "outputs": [
    {
     "name": "stdout",
     "output_type": "stream",
     "text": [
      "Basic Statistics table\n",
      "----------------------------------------------------\n",
      "Total number of clicks : 2034\n",
      "Total number of impressions : 2697738\n",
      "Total slotprice of all advertisers : 71449164 RMB\n",
      "Total payprice of all advertisers : 216496239 RMB\n",
      "----------------------------------------------------\n",
      "Average CTR : 0.105 %\n",
      "Average CPM : 81.413 Fen\n",
      "Average eCPC : 147.502 Fen\n"
     ]
    }
   ],
   "source": [
    "print ('Basic Statistics table')\n",
    "print ('----------------------------------------------------')\n",
    "print ('Total number of clicks : ' + str(np.round(df_stats['Clicks'].sum())))\n",
    "print ('Total number of impressions : ' + str(np.round(df_stats['Impressions'].sum())))\n",
    "print ('Total slotprice of all advertisers : ' + str(np.round(df_stats['Slotprice_total [RMB]'].sum()))+ str(' RMB'))\n",
    "print ('Total payprice of all advertisers : ' + str(np.round(df_stats['Payprice_total [RMB]'].sum()))+ str(' RMB'))\n",
    "print ('----------------------------------------------------')\n",
    "print ('Average CTR : ' + str(np.round(df_stats['CTR [%]'].mean(), decimals=3)) + str(' %'))\n",
    "print ('Average CPM : ' + str(np.round(df_stats['CPM [fen]'].mean(),decimals=3)) + str(' Fen'))\n",
    "print ('Average eCPC : ' + str(np.round(df_stats['eCPC'].mean(), decimals=3))+ str(' Fen'))"
   ]
  },
  {
   "cell_type": "code",
   "execution_count": 60,
   "metadata": {
    "collapsed": false
   },
   "outputs": [
    {
     "data": {
      "text/plain": [
       "2034"
      ]
     },
     "execution_count": 60,
     "metadata": {},
     "output_type": "execute_result"
    }
   ],
   "source": [
    "df_stats['Clicks'].sum() #2034 clicks"
   ]
  },
  {
   "cell_type": "code",
   "execution_count": 61,
   "metadata": {
    "collapsed": false
   },
   "outputs": [
    {
     "data": {
      "text/plain": [
       "1458    451\n",
       "2259     45\n",
       "2261     37\n",
       "2821    144\n",
       "2997    251\n",
       "3358    233\n",
       "3386    358\n",
       "3427    340\n",
       "3476    175\n",
       "Name: advertiser, dtype: int64"
      ]
     },
     "execution_count": 61,
     "metadata": {},
     "output_type": "execute_result"
    }
   ],
   "source": [
    "df[df.click == 1].advertiser.value_counts().sort_index()"
   ]
  },
  {
   "cell_type": "code",
   "execution_count": 62,
   "metadata": {
    "collapsed": true
   },
   "outputs": [],
   "source": [
    "# Lasso linear model\n",
    "#    fitting data \n",
    "#    making a prediction and (prediction - truth labels)"
   ]
  }
 ],
 "metadata": {
  "anaconda-cloud": {},
  "kernelspec": {
   "display_name": "Python [default]",
   "language": "python",
   "name": "python3"
  },
  "language_info": {
   "codemirror_mode": {
    "name": "ipython",
    "version": 3
   },
   "file_extension": ".py",
   "mimetype": "text/x-python",
   "name": "python",
   "nbconvert_exporter": "python",
   "pygments_lexer": "ipython3",
   "version": "3.5.2"
  }
 },
 "nbformat": 4,
 "nbformat_minor": 1
}

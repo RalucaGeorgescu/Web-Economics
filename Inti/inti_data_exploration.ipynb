{
 "cells": [
  {
   "cell_type": "code",
   "execution_count": 3,
   "metadata": {
    "collapsed": false
   },
   "outputs": [],
   "source": [
    "import pandas as pd\n",
    "import re\n",
    "import os\n",
    "import csv\n",
    "import sys\n",
    "import numpy as np\n",
    "import matplotlib.pyplot as plt\n",
    "import seaborn as sns\n",
    "pd.set_option('display.max_columns', None)\n",
    "print(\"finished importing libraries\")"
   ]
  },
  {
   "cell_type": "markdown",
   "metadata": {},
   "source": [
    "## Data Analysis"
   ]
  },
  {
   "cell_type": "code",
   "execution_count": null,
   "metadata": {
    "collapsed": true
   },
   "outputs": [],
   "source": [
    "   \n",
    "    ###############Data Analysis##################\n",
    "df = pd.read_csv('validation.csv')\n",
    "df_train = pd.read_csv('train.csv')\n",
    "frames = [df, df_train]\n",
    "result = pd.concat(frames)\n",
    "df = result \n",
    "summary = result.describe().transpose()\n",
    "\n",
    "print(\"Number of columns \" + str(len(df.columns)))\n",
    "print(\"###########################################\")\n",
    "print(summary)\n",
    "average_pay_bid_distance = ((272.453600 - 80.247706) / 272.453600)*100\n",
    "print(average_pay_bid_distance)\n",
    "print(summary.to_latex())\n",
    "print(\"number of clicks:\")\n",
    "print(sum(df[\"click\"]))\n",
    "summary = df[click=].describe().transpose()\n",
    "clicks = df[df['click'].isin([1])]\n",
    "click_summary = clicks.describe().transpose()\n",
    "print(click_summary.to_latex())\n",
    "click_average_pay_bid_distance = ((272.806637 - 106.859292) / 272.453600)*100\n",
    "print(click_average_pay_bid_distance)\n",
    "#kernel density estimation (KDE) and histogram of bidprice distribution.\n",
    "sns.distplot(df['bidprice'])\n",
    "sns.distplot(df['payprice'])\n",
    "\n",
    "sns.kdeplot(df['bidprice'])\n",
    "sns.kdeplot(df['payprice'])\n",
    "\n",
    "plt.legend();\n",
    "sns.kdeplot(clicks['bidprice'])\n",
    "sns.kdeplot(clicks['payprice'])\n",
    "sns.distplot(clicks['bidprice'])\n",
    "\n",
    "plt.legend();\n",
    "\n",
    "clicks_ = clicks._get_numeric_data()\n",
    "cov_ = ['weekday', 'hour', 'region','city', 'slotwidth','slotprice','bidprice','payprice', 'advertiser']\n",
    "cov_df = clicks_[cov_]\n",
    "corr_matrix(cov_df)\n",
    "   "
   ]
  }
 ],
 "metadata": {
  "kernelspec": {
   "display_name": "Python 3",
   "language": "python",
   "name": "python3"
  },
  "language_info": {
   "codemirror_mode": {
    "name": "ipython",
    "version": 3
   },
   "file_extension": ".py",
   "mimetype": "text/x-python",
   "name": "python",
   "nbconvert_exporter": "python",
   "pygments_lexer": "ipython3",
   "version": "3.5.2"
  }
 },
 "nbformat": 4,
 "nbformat_minor": 0
}

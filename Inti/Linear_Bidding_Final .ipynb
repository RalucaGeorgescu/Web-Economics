{
 "cells": [
  {
   "cell_type": "code",
   "execution_count": 20,
   "metadata": {
    "collapsed": false
   },
   "outputs": [],
   "source": [
    "import pandas as pd\n",
    "import matplotlib.pyplot as plt\n",
    "import re\n",
    "import os\n",
    "import csv\n",
    "import seaborn as sns\n",
    "import sys\n",
    "import numpy as np\n",
    "import sklearn"
   ]
  },
  {
   "cell_type": "markdown",
   "metadata": {},
   "source": [
    "## Import Data"
   ]
  },
  {
   "cell_type": "code",
   "execution_count": 27,
   "metadata": {
    "collapsed": false
   },
   "outputs": [
    {
     "data": {
      "text/html": [
       "<div>\n",
       "<table border=\"1\" class=\"dataframe\">\n",
       "  <thead>\n",
       "    <tr style=\"text-align: right;\">\n",
       "      <th></th>\n",
       "      <th>Unnamed: 0</th>\n",
       "      <th>probability_not_click</th>\n",
       "      <th>probability_click</th>\n",
       "    </tr>\n",
       "  </thead>\n",
       "  <tbody>\n",
       "    <tr>\n",
       "      <th>0</th>\n",
       "      <td>0</td>\n",
       "      <td>9.969608e-01</td>\n",
       "      <td>0.003039</td>\n",
       "    </tr>\n",
       "    <tr>\n",
       "      <th>1</th>\n",
       "      <td>1</td>\n",
       "      <td>3.190000e-09</td>\n",
       "      <td>1.000000</td>\n",
       "    </tr>\n",
       "    <tr>\n",
       "      <th>2</th>\n",
       "      <td>2</td>\n",
       "      <td>9.976285e-01</td>\n",
       "      <td>0.002372</td>\n",
       "    </tr>\n",
       "    <tr>\n",
       "      <th>3</th>\n",
       "      <td>3</td>\n",
       "      <td>9.974019e-01</td>\n",
       "      <td>0.002598</td>\n",
       "    </tr>\n",
       "    <tr>\n",
       "      <th>4</th>\n",
       "      <td>4</td>\n",
       "      <td>9.995863e-01</td>\n",
       "      <td>0.000414</td>\n",
       "    </tr>\n",
       "  </tbody>\n",
       "</table>\n",
       "</div>"
      ],
      "text/plain": [
       "   Unnamed: 0  probability_not_click   probability_click\n",
       "0           0           9.969608e-01            0.003039\n",
       "1           1           3.190000e-09            1.000000\n",
       "2           2           9.976285e-01            0.002372\n",
       "3           3           9.974019e-01            0.002598\n",
       "4           4           9.995863e-01            0.000414"
      ]
     },
     "execution_count": 27,
     "metadata": {},
     "output_type": "execute_result"
    }
   ],
   "source": [
    "#prediction_prob =  pd.read_csv('click_pred_l1reg.txt')\n",
    "prediction_prob =  pd.read_csv('NaiveBayes_1.csv')\n",
    "validation =  pd.read_csv('validation.csv')\n",
    "prediction_prob.head()"
   ]
  },
  {
   "cell_type": "code",
   "execution_count": 23,
   "metadata": {
    "collapsed": false
   },
   "outputs": [],
   "source": [
    "\n",
    "def click_CTR(base_bid):\n",
    "    CPC = 0\n",
    "    avgCTR = 0.075396\n",
    "    spent = 0\n",
    "    bids_won = 0\n",
    "    bids_lost = 0\n",
    "    clicks = 0\n",
    "    budget = 6250\n",
    "    bids_won_budget = 0\n",
    "    bids_lost_budget = 0\n",
    "    spent = 0\n",
    "\n",
    "\n",
    "    def gen_bid(x):\n",
    "        bid = (x * base_bid)/avgCTR\n",
    "        return int(bid)\n",
    "\n",
    "\n",
    "    prediction_prob['payprice'] = validation['payprice']\n",
    "    prediction_prob['click_true'] = validation['click']\n",
    "    prediction_prob['new_bid'] = prediction_prob[\" probability_click\"].apply(gen_bid)\n",
    "    prediction_prob['win'] = prediction_prob['new_bid'] > prediction_prob['payprice']\n",
    "\n",
    "    for idx in prediction_prob.index:\n",
    "        if budget <= 0:\n",
    "            print(\"Budget spent!\")   \n",
    "            if clicks == 0:\n",
    "                CTR = 0\n",
    "                eCPC = 0\n",
    "            else:\n",
    "                CTR = (clicks / bids_won_budget)*100\n",
    "                eCPC = spent / clicks \n",
    "                                \n",
    "                print(\"####Final Stats####\")\n",
    "                print(str(bids_lost_budget) + ' bids were lost')\n",
    "                print(str(bids_won_budget) + ' bids were won')\n",
    "                print(str(clicks) + ' clicks were won')\n",
    "                print(str(spent) + ' was spent')\n",
    "                print(\"CTR was \" + str(CTR))\n",
    "                print(\"CPM was \" + str(6250/bids_won_budget))\n",
    "                print(\"eCost per click was \" + str(eCPC))\n",
    "            break\n",
    "        else:\n",
    "            if prediction_prob[\"win\"][idx] == True:\n",
    "                cost = (prediction_prob[\"payprice\"][idx]) / 1000\n",
    "                budget -= cost\n",
    "                spent += cost\n",
    "                bids_won_budget += 1\n",
    "            else:\n",
    "                bids_lost_budget += 1\n",
    "\n",
    "            if prediction_prob['win'][idx] == True and prediction_prob['click_true'][idx] == 1:\n",
    "                clicks += 1\n",
    "                print(\"##Click Won###\")\n",
    "                print(\"Auction: \" + str(idx))\n",
    "                print(\"Number of clicks: \" + str(clicks))\n",
    "                print(\"cost of click: \" + str(cost))\n",
    "                print(\"Budget left: \" + str(budget))\n",
    "\n",
    "    return [clicks, bids_won_budget, (clicks/ bids_won_budget)*100, 6250/clicks, bids_won_budget/6250]\n",
    "\n"
   ]
  },
  {
   "cell_type": "code",
   "execution_count": 26,
   "metadata": {
    "collapsed": false,
    "scrolled": true
   },
   "outputs": [],
   "source": [
    "import seaborn as sns\n",
    "def plot_base_bid():\n",
    "    \"\"\"\n",
    "    Returns plots of basebids against the CTR rates\n",
    "    \"\"\"\n",
    "    rates = []\n",
    "    basebids = [x for x in range(1, 10001, 500)]\n",
    "    for baseb in basebids:\n",
    "        #print(\"*****\" + str(baseb))\n",
    "        rate = click_CTR(baseb)\n",
    "        rates.append(rate[0])\n",
    "        \n",
    "    rates = np.array(rates)\n",
    "    sns.set_style(\"darkgrid\")\n",
    "    plt.plot(basebids, rates)\n",
    "    ymin, ymax = plt.ylim()\n",
    "    plt.xlabel('basebid')\n",
    "    plt.ylabel('Clicks')\n",
    "    plt.title('Desision: CTR vs Basebids ')\n",
    "    plt.axis('tight')\n",
    "    plt.show()\n",
    "    return print(max(rates))\n"
   ]
  },
  {
   "cell_type": "code",
   "execution_count": 18,
   "metadata": {
    "collapsed": false
   },
   "outputs": [
    {
     "name": "stdout",
     "output_type": "stream",
     "text": [
      "Budget spent!\n"
     ]
    },
    {
     "data": {
      "text/plain": [
       "[94, 100864, 0.09319479695431472, 66.48936170212765, 16.13824]"
      ]
     },
     "execution_count": 18,
     "metadata": {},
     "output_type": "execute_result"
    }
   ],
   "source": [
    "click_CTR(7000)\n"
   ]
  }
 ],
 "metadata": {
  "kernelspec": {
   "display_name": "Python 3",
   "language": "python",
   "name": "python3"
  },
  "language_info": {
   "codemirror_mode": {
    "name": "ipython",
    "version": 3
   },
   "file_extension": ".py",
   "mimetype": "text/x-python",
   "name": "python",
   "nbconvert_exporter": "python",
   "pygments_lexer": "ipython3",
   "version": "3.5.2"
  }
 },
 "nbformat": 4,
 "nbformat_minor": 0
}

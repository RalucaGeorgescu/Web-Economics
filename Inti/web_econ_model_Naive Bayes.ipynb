{
 "cells": [
  {
   "cell_type": "code",
   "execution_count": 1,
   "metadata": {
    "collapsed": false
   },
   "outputs": [
    {
     "name": "stderr",
     "output_type": "stream",
     "text": [
      "/opt/conda/lib/python3.5/site-packages/sklearn/cross_validation.py:44: DeprecationWarning: This module was deprecated in version 0.18 in favor of the model_selection module into which all the refactored classes and functions are moved. Also note that the interface of the new CV iterators are different from that of this module. This module will be removed in 0.20.\n",
      "  \"This module will be removed in 0.20.\", DeprecationWarning)\n"
     ]
    }
   ],
   "source": [
    "import pandas as pd\n",
    "import re\n",
    "import os\n",
    "import csv\n",
    "import sys\n",
    "import numpy as np\n",
    "import sklearn\n",
    "from sklearn.model_selection import train_test_split\n",
    "from sklearn import preprocessing \n",
    "from sklearn import cross_validation\n",
    "from sklearn.linear_model import LogisticRegression\n",
    "from sklearn import metrics\n",
    "from sklearn.metrics import accuracy_score\n",
    "import matplotlib.pyplot as plt"
   ]
  },
  {
   "cell_type": "markdown",
   "metadata": {},
   "source": [
    "## Import Data"
   ]
  },
  {
   "cell_type": "code",
   "execution_count": 2,
   "metadata": {
    "collapsed": false
   },
   "outputs": [
    {
     "name": "stdout",
     "output_type": "stream",
     "text": [
      "finshed importing training data\n"
     ]
    }
   ],
   "source": [
    "#Load Data and split \n",
    "X_train = pd.read_csv('train.csv')\n",
    "X_val = pd.read_csv('validation.csv')\n",
    "y_train = X_train['click']\n",
    "y_val = X_val['click']\n",
    "print(\"finshed importing training data\")\n",
    "\n",
    "\n",
    "plt.style.use('fivethirtyeight')\n",
    "pd.set_option('display.max_columns', None) # Display any number of columns"
   ]
  },
  {
   "cell_type": "code",
   "execution_count": 3,
   "metadata": {
    "collapsed": false
   },
   "outputs": [],
   "source": [
    "from sklearn.feature_extraction import DictVectorizer\n",
    "\n",
    "v = DictVectorizer(sparse=True)\n",
    "\n",
    "def process_train(df):\n",
    "    drop = ['logtype', 'bidid', 'url', 'payprice', 'bidprice', 'keypage', 'urlid', 'click']\n",
    "    df.drop(drop,inplace=True, axis=1)\n",
    "    df = df[['weekday', 'hour', 'region', 'adexchange','advertiser','slotvisibility']]\n",
    "    df = df.to_dict(orient='records')\n",
    "    X = v.fit_transform\n",
    "    return X\n",
    "\n",
    "def process_test(df):\n",
    "    drop = ['logtype', 'bidid', 'url', 'payprice', 'bidprice', 'keypage', 'urlid', 'click']\n",
    "    df.drop(drop,inplace=True,axis=1)\n",
    "    df = df[['weekday', 'hour', 'region', 'adexchange','advertiser','slotvisibility']]\n",
    "    df = df.to_dict(orient='records')\n",
    "    X = v.transform(df)\n",
    "    return X\n"
   ]
  },
  {
   "cell_type": "code",
   "execution_count": 5,
   "metadata": {
    "collapsed": false
   },
   "outputs": [
    {
     "data": {
      "text/plain": [
       "DecisionTreeClassifier(class_weight=None, criterion='gini', max_depth=None,\n",
       "            max_features=None, max_leaf_nodes=None,\n",
       "            min_impurity_split=1e-07, min_samples_leaf=1,\n",
       "            min_samples_split=2, min_weight_fraction_leaf=0.0,\n",
       "            presort=False, random_state=0, splitter='best')"
      ]
     },
     "execution_count": 5,
     "metadata": {},
     "output_type": "execute_result"
    }
   ],
   "source": [
    "#Vectorize and train\n",
    "from sklearn.naive_bayes import GaussianNB\n",
    "X = process_train(X_train)\n",
    "expected = y_val\n",
    "clf = GaussianNB()\n",
    "clf.fit(X, y_train)"
   ]
  },
  {
   "cell_type": "code",
   "execution_count": 7,
   "metadata": {
    "collapsed": false
   },
   "outputs": [],
   "source": [
    "x_val = process_train(X_val)\n",
    "predicted = predict_proba(x_val)\n",
    "prediction = pd.DataFrame(predicted)\n",
    "prediction.to_csv('NaiveBayes_1.csv')"
   ]
  },
  {
   "cell_type": "code",
   "execution_count": 31,
   "metadata": {
    "collapsed": false
   },
   "outputs": [
    {
     "name": "stdout",
     "output_type": "stream",
     "text": [
      "AUC: 0.615751626207\n",
      "Cross Entropy0.369145572582\n",
      "Completed.\n"
     ]
    }
   ],
   "source": [
    "y_pred = pd.read_csv('NaiveBayes_1.csv') \n",
    "#y_pred = pd.read_csv('click_pred_l1reg.txt')\n",
    "y_pred = y_pred[' probability_click']\n",
    "y_val = y_val.astype('float')\n",
    "y_pred =y_pred.astype('float')\n",
    "from sklearn.metrics import roc_auc_score\n",
    "from sklearn.metrics import log_loss\n",
    "\n",
    "def scores(y_true, y_pred):\n",
    "    print(\"AUC: \" + str(roc_auc_score(y_true, y_pred)))\n",
    "    print(\"Cross Entropy\" + str(log_loss(y_true, y_pred)))\n",
    "    return print('Completed.')\n",
    "\n",
    "scores(y_val, y_pred)\n",
    "    "
   ]
  },
  {
   "cell_type": "code",
   "execution_count": null,
   "metadata": {
    "collapsed": false
   },
   "outputs": [],
   "source": [
    "print(\"Started encoding x training data!\")\n",
    "\n",
    "print(\"Done encoding x training data!\")\n",
    "from sklearn.linear_model import LogisticRegression\n",
    "model = LogisticRegression()\n",
    "print(\"training model...\")\n",
    "model.fit(X, y_train)\n",
    "print(model)\n",
    "\n",
    "# Make Predictions\n",
    "\n",
    "X_v = process_test(X_val)\n",
    "expected = y_val\n",
    "print(\"making predictions...\")\n",
    "predicted = model.predict(X_v)\n",
    "\n",
    "metrics.confusion_matrix(expected, predicted)\n",
    "print(\"total predictions:\")\n",
    "print(sum(predicted))"
   ]
  },
  {
   "cell_type": "code",
   "execution_count": null,
   "metadata": {
    "collapsed": false
   },
   "outputs": [],
   "source": [
    "####Alternative Training#####\n",
    "\"\"\"\n",
    "def process(df):\n",
    "    \n",
    "    drop = ['logtype', 'bidid', 'url', 'payprice', 'bidprice', 'keypage', 'urlid', 'click']\n",
    "    df = df.drop(drop, 1)\n",
    "\n",
    "    def slotprice_function(fp):\n",
    "        if fp in range(0, 50):\n",
    "            return 1\n",
    "        elif fp in range (51, 100)\n",
    "            return 2\n",
    "        elif fp in range(101, 150):\n",
    "            return 3\n",
    "        elif fp in range(151, 200):\n",
    "            return 4\n",
    "        else:\n",
    "            return 5\n",
    "\n",
    "    df['slotprice'] = df['slotprice'].apply(slotprice_function)\n",
    "    \n",
    "    def gen_feature_set(df):\n",
    "        #handle categorical variables\n",
    "        label_encoder = preprocessing.LabelEncoder()\n",
    "\n",
    "        df['useragent'] = label_encoder.fit_transform(df['useragent'])\n",
    "        df['IP'] = label_encoder.fit_transform(df['IP'])\n",
    "        df['domain'] = label_encoder.fit_transform(df['domain'])\n",
    "        df['slotvisibility'] = label_encoder.fit_transform(df['slotvisibility'])\n",
    "        df['adexchange'] = label_encoder.fit_transform(df['adexchange'])\n",
    "        weekday = df['weekday']\n",
    "        hour = df['hour']\n",
    "        useragent = df['useragent']\n",
    "        slotvisibility = df['slotvisibility']\n",
    "        advertiser = df['advertiser']\n",
    "        slotprice = df['slotprice']\n",
    "        #IP = pd.get_dummies(train_d['advertiser'])\n",
    "        region = df['region']\n",
    "        city = df['city']\n",
    "        #usertag_list = [len(x) for x in train_d['usertag'].tolist()]\n",
    "        #max_user_taglist = max(usertag_list)\n",
    "        #usertag = pd.DataFrame(train_d['usertag'].str.split(',', max_user_taglist ).tolist())\n",
    "        domain = df['domain']\n",
    "        adexchange = df['adexchange']\n",
    "        IP = df['IP']\n",
    "        \n",
    "        features_dum = [weekday, hour, useragent, advertiser, region, city, domain,\n",
    "                        adexchange, slotprice, IP, slotvisibility]\n",
    "        data = pd.concat(features_dum, axis=1)\n",
    "        print('Number of features ' + str(len(data.columns)))\n",
    "        return data\n",
    "    \n",
    "    data = gen_feature_set(df)\n",
    "    #data = data.to_dict(orient='index')\n",
    "    return data\n",
    "\n",
    "matrix = process(train_df)\n",
    "X = matrix.as_matrix().astype(np.float)\n",
    "lr = LogisticRegression(class_weight=\"auto\")\n",
    "lr.fit(X, y_train)\n",
    "\n",
    "#x_test = vectorize(test_df)\n",
    "x_test = process(test_df)\n",
    "x_test = x_test.as_matrix().astype(np.float)\n",
    "y_predict = lr.predict(x_test)\n",
    "print('number of clicks predicted ' + str(sum(y_predict)))\n",
    "print('number of clicks gold '+ str(sum(y_test)))\n",
    "print('total: '+ str(len(y_test)))\n",
    "\"\"\""
   ]
  },
  {
   "cell_type": "code",
   "execution_count": null,
   "metadata": {
    "collapsed": true
   },
   "outputs": [],
   "source": []
  }
 ],
 "metadata": {
  "kernelspec": {
   "display_name": "Python 3",
   "language": "python",
   "name": "python3"
  },
  "language_info": {
   "codemirror_mode": {
    "name": "ipython",
    "version": 3
   },
   "file_extension": ".py",
   "mimetype": "text/x-python",
   "name": "python",
   "nbconvert_exporter": "python",
   "pygments_lexer": "ipython3",
   "version": "3.5.2"
  }
 },
 "nbformat": 4,
 "nbformat_minor": 0
}

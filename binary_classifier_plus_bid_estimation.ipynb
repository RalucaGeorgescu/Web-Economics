{
 "cells": [
  {
   "cell_type": "markdown",
   "metadata": {},
   "source": [
    "# Summary of Method\n",
    "\n",
    "\n",
    "1. (Model 1):\n",
    "For each ad request is classified as either a click or not (binary classification).\n",
    "\n",
    "2. (Conditional bidding):\n",
    "The bid has been classified as being 1 (highly likely to click) then the algorithm will use the model 2 to predict a bid price.\n",
    "\n",
    "3. (Bid prediction model):\n",
    "This model uses logistic regression to estimate the winning bidprice - *not the pay price*\n",
    "\n",
    "4. Submit:\n",
    "Finally the test estimated bidprices from model 2 are written to the csv file 'test_predictions.csv'"
   ]
  },
  {
   "cell_type": "markdown",
   "metadata": {},
   "source": [
    "# 1 Classifier\n",
    "\n",
    "## 1.1 Split data"
   ]
  },
  {
   "cell_type": "code",
   "execution_count": 1,
   "metadata": {
    "collapsed": false
   },
   "outputs": [],
   "source": [
    "#split data \n",
    "\n",
    "import pandas as pd\n",
    "import sys\n",
    "import re\n",
    "import sklearn\n",
    "import numpy as np\n",
    "import sklearn\n",
    "\n",
    "%matplotlib inline\n",
    "\n",
    "df = pd.read_csv('validation.csv')\n",
    "#df_s = df.sample(frac=0.1, replace=True)\n",
    "val_split = np.array_split(df, 3)\n",
    "len(val_split)\n",
    "validation = val_split[0]\n",
    "train = val_split[1]\n",
    "test = val_split[2]"
   ]
  },
  {
   "cell_type": "markdown",
   "metadata": {},
   "source": [
    "## 1.2 Prepare data"
   ]
  },
  {
   "cell_type": "code",
   "execution_count": 2,
   "metadata": {
    "collapsed": false
   },
   "outputs": [
    {
     "data": {
      "text/html": [
       "<div>\n",
       "<table border=\"1\" class=\"dataframe\">\n",
       "  <thead>\n",
       "    <tr style=\"text-align: right;\">\n",
       "      <th></th>\n",
       "      <th>click</th>\n",
       "      <th>weekday</th>\n",
       "      <th>hour</th>\n",
       "      <th>bidid</th>\n",
       "      <th>logtype</th>\n",
       "      <th>userid</th>\n",
       "      <th>useragent</th>\n",
       "      <th>IP</th>\n",
       "      <th>region</th>\n",
       "      <th>city</th>\n",
       "      <th>...</th>\n",
       "      <th>slotheight</th>\n",
       "      <th>slotvisibility</th>\n",
       "      <th>slotformat</th>\n",
       "      <th>slotprice</th>\n",
       "      <th>creative</th>\n",
       "      <th>bidprice</th>\n",
       "      <th>payprice</th>\n",
       "      <th>keypage</th>\n",
       "      <th>advertiser</th>\n",
       "      <th>usertag</th>\n",
       "    </tr>\n",
       "  </thead>\n",
       "  <tbody>\n",
       "    <tr>\n",
       "      <th>99917</th>\n",
       "      <td>0</td>\n",
       "      <td>2</td>\n",
       "      <td>15</td>\n",
       "      <td>211b57cea847fe257f443741677db9b3</td>\n",
       "      <td>1</td>\n",
       "      <td>u_ZYFdPuSqO9KoBCl</td>\n",
       "      <td>windows_ie</td>\n",
       "      <td>218.77.14.*</td>\n",
       "      <td>201</td>\n",
       "      <td>213</td>\n",
       "      <td>...</td>\n",
       "      <td>90</td>\n",
       "      <td>2</td>\n",
       "      <td>0</td>\n",
       "      <td>5</td>\n",
       "      <td>59f065a795a663140e36eec106464524</td>\n",
       "      <td>249</td>\n",
       "      <td>63</td>\n",
       "      <td>f4a09c06b67d0fcce088ee6e86ca052a</td>\n",
       "      <td>3476</td>\n",
       "      <td>10074,10063,10006,13866,10110</td>\n",
       "    </tr>\n",
       "    <tr>\n",
       "      <th>99918</th>\n",
       "      <td>0</td>\n",
       "      <td>4</td>\n",
       "      <td>14</td>\n",
       "      <td>ace27aadce2d2a303145e7c9376928cf</td>\n",
       "      <td>1</td>\n",
       "      <td>u_DAPEG087uu3</td>\n",
       "      <td>windows_chrome</td>\n",
       "      <td>122.136.135.*</td>\n",
       "      <td>55</td>\n",
       "      <td>64</td>\n",
       "      <td>...</td>\n",
       "      <td>280</td>\n",
       "      <td>OtherView</td>\n",
       "      <td>Na</td>\n",
       "      <td>0</td>\n",
       "      <td>12623</td>\n",
       "      <td>294</td>\n",
       "      <td>50</td>\n",
       "      <td>null</td>\n",
       "      <td>2261</td>\n",
       "      <td>null</td>\n",
       "    </tr>\n",
       "    <tr>\n",
       "      <th>99919</th>\n",
       "      <td>0</td>\n",
       "      <td>3</td>\n",
       "      <td>13</td>\n",
       "      <td>15545f07978d53e74125ed3962a03f15</td>\n",
       "      <td>1</td>\n",
       "      <td>u_VhKPZupi3c163dk</td>\n",
       "      <td>mac_safari</td>\n",
       "      <td>58.243.250.*</td>\n",
       "      <td>106</td>\n",
       "      <td>107</td>\n",
       "      <td>...</td>\n",
       "      <td>280</td>\n",
       "      <td>2</td>\n",
       "      <td>1</td>\n",
       "      <td>0</td>\n",
       "      <td>77819d3e0b3467fe5c7b16d68ad923a1</td>\n",
       "      <td>300</td>\n",
       "      <td>17</td>\n",
       "      <td>bebefa5efe83beee17a3d245e7c5085b</td>\n",
       "      <td>1458</td>\n",
       "      <td>10059,10006,10063,10111</td>\n",
       "    </tr>\n",
       "    <tr>\n",
       "      <th>99920</th>\n",
       "      <td>0</td>\n",
       "      <td>3</td>\n",
       "      <td>21</td>\n",
       "      <td>3ea715bb02a9350dc91a6ee8b04a085a</td>\n",
       "      <td>1</td>\n",
       "      <td>u_Vh5hPeqmDINL3fj</td>\n",
       "      <td>windows_chrome</td>\n",
       "      <td>122.71.215.*</td>\n",
       "      <td>1</td>\n",
       "      <td>1</td>\n",
       "      <td>...</td>\n",
       "      <td>250</td>\n",
       "      <td>2</td>\n",
       "      <td>0</td>\n",
       "      <td>5</td>\n",
       "      <td>7097e4210dea4d69f07f0f5e4343529c</td>\n",
       "      <td>300</td>\n",
       "      <td>14</td>\n",
       "      <td>361e128affece850342293213691a043</td>\n",
       "      <td>3386</td>\n",
       "      <td>10063,10057,10059,10111</td>\n",
       "    </tr>\n",
       "    <tr>\n",
       "      <th>99921</th>\n",
       "      <td>0</td>\n",
       "      <td>3</td>\n",
       "      <td>22</td>\n",
       "      <td>876d4777030fd7e61b854a0c26a18362</td>\n",
       "      <td>1</td>\n",
       "      <td>u_VhkSLypOP4mUkdj</td>\n",
       "      <td>windows_ie</td>\n",
       "      <td>61.141.88.*</td>\n",
       "      <td>216</td>\n",
       "      <td>219</td>\n",
       "      <td>...</td>\n",
       "      <td>600</td>\n",
       "      <td>2</td>\n",
       "      <td>1</td>\n",
       "      <td>0</td>\n",
       "      <td>dba9860463419dcd6c1b0152dfe7314c</td>\n",
       "      <td>227</td>\n",
       "      <td>76</td>\n",
       "      <td>d29e59bf0f7f8243858b8183f14d4412</td>\n",
       "      <td>3358</td>\n",
       "      <td>10063,10111</td>\n",
       "    </tr>\n",
       "  </tbody>\n",
       "</table>\n",
       "<p>5 rows × 26 columns</p>\n",
       "</div>"
      ],
      "text/plain": [
       "       click  weekday  hour                             bidid  logtype  \\\n",
       "99917      0        2    15  211b57cea847fe257f443741677db9b3        1   \n",
       "99918      0        4    14  ace27aadce2d2a303145e7c9376928cf        1   \n",
       "99919      0        3    13  15545f07978d53e74125ed3962a03f15        1   \n",
       "99920      0        3    21  3ea715bb02a9350dc91a6ee8b04a085a        1   \n",
       "99921      0        3    22  876d4777030fd7e61b854a0c26a18362        1   \n",
       "\n",
       "                  userid       useragent             IP  region  city  \\\n",
       "99917  u_ZYFdPuSqO9KoBCl      windows_ie    218.77.14.*     201   213   \n",
       "99918      u_DAPEG087uu3  windows_chrome  122.136.135.*      55    64   \n",
       "99919  u_VhKPZupi3c163dk      mac_safari   58.243.250.*     106   107   \n",
       "99920  u_Vh5hPeqmDINL3fj  windows_chrome   122.71.215.*       1     1   \n",
       "99921  u_VhkSLypOP4mUkdj      windows_ie    61.141.88.*     216   219   \n",
       "\n",
       "                   ...               slotheight slotvisibility slotformat  \\\n",
       "99917              ...                       90              2          0   \n",
       "99918              ...                      280      OtherView         Na   \n",
       "99919              ...                      280              2          1   \n",
       "99920              ...                      250              2          0   \n",
       "99921              ...                      600              2          1   \n",
       "\n",
       "      slotprice                          creative  bidprice  payprice  \\\n",
       "99917         5  59f065a795a663140e36eec106464524       249        63   \n",
       "99918         0                             12623       294        50   \n",
       "99919         0  77819d3e0b3467fe5c7b16d68ad923a1       300        17   \n",
       "99920         5  7097e4210dea4d69f07f0f5e4343529c       300        14   \n",
       "99921         0  dba9860463419dcd6c1b0152dfe7314c       227        76   \n",
       "\n",
       "                                keypage advertiser  \\\n",
       "99917  f4a09c06b67d0fcce088ee6e86ca052a       3476   \n",
       "99918                              null       2261   \n",
       "99919  bebefa5efe83beee17a3d245e7c5085b       1458   \n",
       "99920  361e128affece850342293213691a043       3386   \n",
       "99921  d29e59bf0f7f8243858b8183f14d4412       3358   \n",
       "\n",
       "                             usertag  \n",
       "99917  10074,10063,10006,13866,10110  \n",
       "99918                           null  \n",
       "99919        10059,10006,10063,10111  \n",
       "99920        10063,10057,10059,10111  \n",
       "99921                    10063,10111  \n",
       "\n",
       "[5 rows x 26 columns]"
      ]
     },
     "execution_count": 2,
     "metadata": {},
     "output_type": "execute_result"
    }
   ],
   "source": [
    "cols = ['click', 'weekday', 'hour', 'bidid', 'logtype', 'userid', 'useragent',\n",
    "       'IP', 'region', 'city', 'adexchange', 'domain', 'url', 'urlid',\n",
    "       'slotid', 'slotwidth', 'slotheight', 'slotvisibility', 'slotformat',\n",
    "       'slotprice', 'creative', 'bidprice', 'payprice', 'keypage',\n",
    "       'advertiser', 'usertag']\n",
    "\n",
    "train = train[cols]\n",
    "train.head()"
   ]
  },
  {
   "cell_type": "code",
   "execution_count": 8,
   "metadata": {
    "collapsed": false
   },
   "outputs": [],
   "source": [
    "feats = ['weekday', 'hour', 'region', 'city']\n",
    "\n",
    "y_train = train['click']\n",
    "X = train[feats]\n",
    "test_ = test[feats]"
   ]
  },
  {
   "cell_type": "markdown",
   "metadata": {},
   "source": [
    "### Things to do\n",
    "\n",
    "    - Scale data\n",
    "    - fill na\n",
    "    - feature sections \n",
    "    - One-hot-catergorical"
   ]
  },
  {
   "cell_type": "markdown",
   "metadata": {},
   "source": [
    "## 1.3 Basic Naive Bayes Classifier "
   ]
  },
  {
   "cell_type": "code",
   "execution_count": 11,
   "metadata": {
    "collapsed": false
   },
   "outputs": [
    {
     "data": {
      "text/plain": [
       "'\\nCurrently classifies all data as 0 clicks: needs more features...+ feature pre-processing + more training data + better model\\n\\n'"
      ]
     },
     "execution_count": 11,
     "metadata": {},
     "output_type": "execute_result"
    }
   ],
   "source": [
    "from sklearn import naive_bayes\n",
    "classifier = naive_bayes.GaussianNB()\n",
    "model = classifier.fit(X, y_train)\n",
    "\n",
    "test_predictions = model.predict(test_)\n",
    "test['click_prediction'] = test_predictions\n",
    "test[['click_prediction', 'click']]\n",
    "\n",
    "\n",
    "\"\"\"\n",
    "Currently classifies all data as 0 clicks: needs more features...+ feature pre-processing + more training data + better model\n",
    "\n",
    "\"\"\"\n",
    "#gold = test['click']\n",
    "#from sklearn.metrics import confusion_matrix\n",
    "#confusion_matrix(gold, prediction)\n",
    "#range = [1]\n",
    "#test[test['click'].isin(range)]\n",
    "#test['click_prediction'].value_counts"
   ]
  },
  {
   "cell_type": "markdown",
   "metadata": {},
   "source": [
    "## 1.4 Evaluate Classifiers "
   ]
  },
  {
   "cell_type": "code",
   "execution_count": null,
   "metadata": {
    "collapsed": true
   },
   "outputs": [],
   "source": []
  }
 ],
 "metadata": {
  "kernelspec": {
   "display_name": "Python 3",
   "language": "python",
   "name": "python3"
  },
  "language_info": {
   "codemirror_mode": {
    "name": "ipython",
    "version": 3
   },
   "file_extension": ".py",
   "mimetype": "text/x-python",
   "name": "python",
   "nbconvert_exporter": "python",
   "pygments_lexer": "ipython3",
   "version": "3.5.2"
  }
 },
 "nbformat": 4,
 "nbformat_minor": 0
}
